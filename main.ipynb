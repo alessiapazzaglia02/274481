{
  "cells": [
    {
      "cell_type": "markdown",
      "metadata": {
        "id": "DKRK-nvwnvMH"
      },
      "source": [
        "PRELIMINARY STEP: import libraries"
      ]
    },
    {
      "cell_type": "code",
      "execution_count": 5,
      "metadata": {
        "id": "3D81RKEunvML"
      },
      "outputs": [],
      "source": [
        "import pandas as pd\n",
        "import numpy as np\n",
        "import matplotlib.pyplot as plt\n",
        "import seaborn as sns\n",
        "%matplotlib inline"
      ]
    },
    {
      "cell_type": "code",
      "execution_count": 6,
      "metadata": {},
      "outputs": [],
      "source": [
        "import warnings\n",
        "warnings.filterwarnings(\"ignore\")"
      ]
    },
    {
      "cell_type": "markdown",
      "metadata": {
        "id": "eQ3bWmMznvMN"
      },
      "source": [
        "Reading the dataset thanks to the built-in function in pandas."
      ]
    },
    {
      "cell_type": "code",
      "execution_count": 7,
      "metadata": {
        "id": "yo_wd2phnvMO"
      },
      "outputs": [],
      "source": [
        "ds = pd.read_csv(\"./credit_prediction.csv\") #open and read the file using pandas"
      ]
    },
    {
      "cell_type": "code",
      "execution_count": 8,
      "metadata": {
        "colab": {
          "base_uri": "https://localhost:8080/",
          "height": 1000
        },
        "id": "WWlX8YgCnvMO",
        "outputId": "3996d0e7-a6ac-409b-f7a7-4000334abc46"
      },
      "outputs": [
        {
          "data": {
            "text/html": [
              "<div>\n",
              "<style scoped>\n",
              "    .dataframe tbody tr th:only-of-type {\n",
              "        vertical-align: middle;\n",
              "    }\n",
              "\n",
              "    .dataframe tbody tr th {\n",
              "        vertical-align: top;\n",
              "    }\n",
              "\n",
              "    .dataframe thead th {\n",
              "        text-align: right;\n",
              "    }\n",
              "</style>\n",
              "<table border=\"1\" class=\"dataframe\">\n",
              "  <thead>\n",
              "    <tr style=\"text-align: right;\">\n",
              "      <th></th>\n",
              "      <th>id</th>\n",
              "      <th>Age</th>\n",
              "      <th>Occupation</th>\n",
              "      <th>Annual_Income</th>\n",
              "      <th>Monthly_Inhand_Salary</th>\n",
              "      <th>Num_Bank_Accounts</th>\n",
              "      <th>Num_Credit_Card</th>\n",
              "      <th>Interest_Rate</th>\n",
              "      <th>Num_of_Loan</th>\n",
              "      <th>Type_of_Loan</th>\n",
              "      <th>...</th>\n",
              "      <th>Num_Credit_Inquiries</th>\n",
              "      <th>Credit_Mix</th>\n",
              "      <th>Outstanding_Debt</th>\n",
              "      <th>Credit_Utilization_Ratio</th>\n",
              "      <th>Credit_History_Age</th>\n",
              "      <th>Payment_of_Min_Amount</th>\n",
              "      <th>Amount_invested_monthly</th>\n",
              "      <th>Payment_Behaviour</th>\n",
              "      <th>Monthly_Balance</th>\n",
              "      <th>Credit_Score</th>\n",
              "    </tr>\n",
              "  </thead>\n",
              "  <tbody>\n",
              "    <tr>\n",
              "      <th>0</th>\n",
              "      <td>0</td>\n",
              "      <td>23.0</td>\n",
              "      <td>Scientist</td>\n",
              "      <td>19114.12</td>\n",
              "      <td>1824.843333</td>\n",
              "      <td>3.0</td>\n",
              "      <td>4.0</td>\n",
              "      <td>3.0</td>\n",
              "      <td>4.0</td>\n",
              "      <td>Auto Loan, Credit-Builder Loan, Personal Loan,...</td>\n",
              "      <td>...</td>\n",
              "      <td>4.0</td>\n",
              "      <td>Good</td>\n",
              "      <td>809.98</td>\n",
              "      <td>26.822620</td>\n",
              "      <td>265.0</td>\n",
              "      <td>No</td>\n",
              "      <td>80.415295</td>\n",
              "      <td>NaN</td>\n",
              "      <td>312.494089</td>\n",
              "      <td>Good</td>\n",
              "    </tr>\n",
              "    <tr>\n",
              "      <th>1</th>\n",
              "      <td>1</td>\n",
              "      <td>23.0</td>\n",
              "      <td>Scientist</td>\n",
              "      <td>NaN</td>\n",
              "      <td>1824.843333</td>\n",
              "      <td>3.0</td>\n",
              "      <td>4.0</td>\n",
              "      <td>3.0</td>\n",
              "      <td>4.0</td>\n",
              "      <td>Auto Loan, Credit-Builder Loan, Personal Loan,...</td>\n",
              "      <td>...</td>\n",
              "      <td>4.0</td>\n",
              "      <td>Good</td>\n",
              "      <td>809.98</td>\n",
              "      <td>NaN</td>\n",
              "      <td>266.0</td>\n",
              "      <td>No</td>\n",
              "      <td>118.280222</td>\n",
              "      <td>Low_spent_Large_value_payments</td>\n",
              "      <td>284.629162</td>\n",
              "      <td>Good</td>\n",
              "    </tr>\n",
              "    <tr>\n",
              "      <th>2</th>\n",
              "      <td>2</td>\n",
              "      <td>23.0</td>\n",
              "      <td>Scientist</td>\n",
              "      <td>19114.12</td>\n",
              "      <td>1824.843333</td>\n",
              "      <td>3.0</td>\n",
              "      <td>4.0</td>\n",
              "      <td>3.0</td>\n",
              "      <td>NaN</td>\n",
              "      <td>Auto Loan, Credit-Builder Loan, Personal Loan,...</td>\n",
              "      <td>...</td>\n",
              "      <td>4.0</td>\n",
              "      <td>Good</td>\n",
              "      <td>809.98</td>\n",
              "      <td>28.609352</td>\n",
              "      <td>267.0</td>\n",
              "      <td>No</td>\n",
              "      <td>81.699521</td>\n",
              "      <td>Low_spent_Medium_value_payments</td>\n",
              "      <td>331.209863</td>\n",
              "      <td>Good</td>\n",
              "    </tr>\n",
              "    <tr>\n",
              "      <th>3</th>\n",
              "      <td>3</td>\n",
              "      <td>23.0</td>\n",
              "      <td>Scientist</td>\n",
              "      <td>19114.12</td>\n",
              "      <td>1824.843333</td>\n",
              "      <td>NaN</td>\n",
              "      <td>4.0</td>\n",
              "      <td>3.0</td>\n",
              "      <td>4.0</td>\n",
              "      <td>Auto Loan, Credit-Builder Loan, Personal Loan,...</td>\n",
              "      <td>...</td>\n",
              "      <td>NaN</td>\n",
              "      <td>Good</td>\n",
              "      <td>809.98</td>\n",
              "      <td>31.377862</td>\n",
              "      <td>268.0</td>\n",
              "      <td>No</td>\n",
              "      <td>199.458074</td>\n",
              "      <td>Low_spent_Small_value_payments</td>\n",
              "      <td>223.451310</td>\n",
              "      <td>Good</td>\n",
              "    </tr>\n",
              "    <tr>\n",
              "      <th>4</th>\n",
              "      <td>4</td>\n",
              "      <td>23.0</td>\n",
              "      <td>NaN</td>\n",
              "      <td>19114.12</td>\n",
              "      <td>1824.843333</td>\n",
              "      <td>3.0</td>\n",
              "      <td>4.0</td>\n",
              "      <td>3.0</td>\n",
              "      <td>4.0</td>\n",
              "      <td>Auto Loan, Credit-Builder Loan, Personal Loan,...</td>\n",
              "      <td>...</td>\n",
              "      <td>4.0</td>\n",
              "      <td>Good</td>\n",
              "      <td>809.98</td>\n",
              "      <td>24.797347</td>\n",
              "      <td>269.0</td>\n",
              "      <td>No</td>\n",
              "      <td>41.420153</td>\n",
              "      <td>High_spent_Medium_value_payments</td>\n",
              "      <td>341.489231</td>\n",
              "      <td>Good</td>\n",
              "    </tr>\n",
              "    <tr>\n",
              "      <th>5</th>\n",
              "      <td>5</td>\n",
              "      <td>23.0</td>\n",
              "      <td>Scientist</td>\n",
              "      <td>19114.12</td>\n",
              "      <td>1824.843333</td>\n",
              "      <td>3.0</td>\n",
              "      <td>4.0</td>\n",
              "      <td>3.0</td>\n",
              "      <td>4.0</td>\n",
              "      <td>Auto Loan, Credit-Builder Loan, Personal Loan,...</td>\n",
              "      <td>...</td>\n",
              "      <td>4.0</td>\n",
              "      <td>Good</td>\n",
              "      <td>809.98</td>\n",
              "      <td>27.262259</td>\n",
              "      <td>270.0</td>\n",
              "      <td>No</td>\n",
              "      <td>62.430172</td>\n",
              "      <td>High_spent_Medium_value_payments</td>\n",
              "      <td>340.479212</td>\n",
              "      <td>Good</td>\n",
              "    </tr>\n",
              "    <tr>\n",
              "      <th>6</th>\n",
              "      <td>6</td>\n",
              "      <td>23.0</td>\n",
              "      <td>Scientist</td>\n",
              "      <td>19114.12</td>\n",
              "      <td>1824.843333</td>\n",
              "      <td>3.0</td>\n",
              "      <td>4.0</td>\n",
              "      <td>3.0</td>\n",
              "      <td>4.0</td>\n",
              "      <td>Auto Loan, Credit-Builder Loan, Personal Loan,...</td>\n",
              "      <td>...</td>\n",
              "      <td>4.0</td>\n",
              "      <td>Good</td>\n",
              "      <td>809.98</td>\n",
              "      <td>NaN</td>\n",
              "      <td>271.0</td>\n",
              "      <td>No</td>\n",
              "      <td>178.344067</td>\n",
              "      <td>Low_spent_Small_value_payments</td>\n",
              "      <td>244.565317</td>\n",
              "      <td>Good</td>\n",
              "    </tr>\n",
              "    <tr>\n",
              "      <th>7</th>\n",
              "      <td>7</td>\n",
              "      <td>23.0</td>\n",
              "      <td>Scientist</td>\n",
              "      <td>19114.12</td>\n",
              "      <td>1824.843333</td>\n",
              "      <td>3.0</td>\n",
              "      <td>4.0</td>\n",
              "      <td>3.0</td>\n",
              "      <td>4.0</td>\n",
              "      <td>Auto Loan, Credit-Builder Loan, Personal Loan,...</td>\n",
              "      <td>...</td>\n",
              "      <td>4.0</td>\n",
              "      <td>Good</td>\n",
              "      <td>809.98</td>\n",
              "      <td>23.933795</td>\n",
              "      <td>NaN</td>\n",
              "      <td>No</td>\n",
              "      <td>24.785217</td>\n",
              "      <td>High_spent_Medium_value_payments</td>\n",
              "      <td>358.124168</td>\n",
              "      <td>Standard</td>\n",
              "    </tr>\n",
              "    <tr>\n",
              "      <th>8</th>\n",
              "      <td>8</td>\n",
              "      <td>28.0</td>\n",
              "      <td>Teacher</td>\n",
              "      <td>34847.84</td>\n",
              "      <td>3037.986667</td>\n",
              "      <td>2.0</td>\n",
              "      <td>4.0</td>\n",
              "      <td>6.0</td>\n",
              "      <td>NaN</td>\n",
              "      <td>Credit-Builder Loan</td>\n",
              "      <td>...</td>\n",
              "      <td>2.0</td>\n",
              "      <td>Good</td>\n",
              "      <td>605.03</td>\n",
              "      <td>NaN</td>\n",
              "      <td>319.0</td>\n",
              "      <td>NaN</td>\n",
              "      <td>NaN</td>\n",
              "      <td>Low_spent_Small_value_payments</td>\n",
              "      <td>470.690627</td>\n",
              "      <td>Standard</td>\n",
              "    </tr>\n",
              "    <tr>\n",
              "      <th>9</th>\n",
              "      <td>9</td>\n",
              "      <td>28.0</td>\n",
              "      <td>Teacher</td>\n",
              "      <td>34847.84</td>\n",
              "      <td>3037.986667</td>\n",
              "      <td>NaN</td>\n",
              "      <td>4.0</td>\n",
              "      <td>6.0</td>\n",
              "      <td>1.0</td>\n",
              "      <td>Credit-Builder Loan</td>\n",
              "      <td>...</td>\n",
              "      <td>2.0</td>\n",
              "      <td>Good</td>\n",
              "      <td>605.03</td>\n",
              "      <td>38.550848</td>\n",
              "      <td>320.0</td>\n",
              "      <td>No</td>\n",
              "      <td>40.391238</td>\n",
              "      <td>High_spent_Large_value_payments</td>\n",
              "      <td>484.591214</td>\n",
              "      <td>Good</td>\n",
              "    </tr>\n",
              "  </tbody>\n",
              "</table>\n",
              "<p>10 rows × 23 columns</p>\n",
              "</div>"
            ],
            "text/plain": [
              "   id   Age Occupation  Annual_Income  Monthly_Inhand_Salary  \\\n",
              "0   0  23.0  Scientist       19114.12            1824.843333   \n",
              "1   1  23.0  Scientist            NaN            1824.843333   \n",
              "2   2  23.0  Scientist       19114.12            1824.843333   \n",
              "3   3  23.0  Scientist       19114.12            1824.843333   \n",
              "4   4  23.0        NaN       19114.12            1824.843333   \n",
              "5   5  23.0  Scientist       19114.12            1824.843333   \n",
              "6   6  23.0  Scientist       19114.12            1824.843333   \n",
              "7   7  23.0  Scientist       19114.12            1824.843333   \n",
              "8   8  28.0    Teacher       34847.84            3037.986667   \n",
              "9   9  28.0    Teacher       34847.84            3037.986667   \n",
              "\n",
              "   Num_Bank_Accounts  Num_Credit_Card  Interest_Rate  Num_of_Loan  \\\n",
              "0                3.0              4.0            3.0          4.0   \n",
              "1                3.0              4.0            3.0          4.0   \n",
              "2                3.0              4.0            3.0          NaN   \n",
              "3                NaN              4.0            3.0          4.0   \n",
              "4                3.0              4.0            3.0          4.0   \n",
              "5                3.0              4.0            3.0          4.0   \n",
              "6                3.0              4.0            3.0          4.0   \n",
              "7                3.0              4.0            3.0          4.0   \n",
              "8                2.0              4.0            6.0          NaN   \n",
              "9                NaN              4.0            6.0          1.0   \n",
              "\n",
              "                                        Type_of_Loan  ...  \\\n",
              "0  Auto Loan, Credit-Builder Loan, Personal Loan,...  ...   \n",
              "1  Auto Loan, Credit-Builder Loan, Personal Loan,...  ...   \n",
              "2  Auto Loan, Credit-Builder Loan, Personal Loan,...  ...   \n",
              "3  Auto Loan, Credit-Builder Loan, Personal Loan,...  ...   \n",
              "4  Auto Loan, Credit-Builder Loan, Personal Loan,...  ...   \n",
              "5  Auto Loan, Credit-Builder Loan, Personal Loan,...  ...   \n",
              "6  Auto Loan, Credit-Builder Loan, Personal Loan,...  ...   \n",
              "7  Auto Loan, Credit-Builder Loan, Personal Loan,...  ...   \n",
              "8                                Credit-Builder Loan  ...   \n",
              "9                                Credit-Builder Loan  ...   \n",
              "\n",
              "   Num_Credit_Inquiries  Credit_Mix  Outstanding_Debt  \\\n",
              "0                   4.0        Good            809.98   \n",
              "1                   4.0        Good            809.98   \n",
              "2                   4.0        Good            809.98   \n",
              "3                   NaN        Good            809.98   \n",
              "4                   4.0        Good            809.98   \n",
              "5                   4.0        Good            809.98   \n",
              "6                   4.0        Good            809.98   \n",
              "7                   4.0        Good            809.98   \n",
              "8                   2.0        Good            605.03   \n",
              "9                   2.0        Good            605.03   \n",
              "\n",
              "   Credit_Utilization_Ratio Credit_History_Age  Payment_of_Min_Amount  \\\n",
              "0                 26.822620              265.0                     No   \n",
              "1                       NaN              266.0                     No   \n",
              "2                 28.609352              267.0                     No   \n",
              "3                 31.377862              268.0                     No   \n",
              "4                 24.797347              269.0                     No   \n",
              "5                 27.262259              270.0                     No   \n",
              "6                       NaN              271.0                     No   \n",
              "7                 23.933795                NaN                     No   \n",
              "8                       NaN              319.0                    NaN   \n",
              "9                 38.550848              320.0                     No   \n",
              "\n",
              "   Amount_invested_monthly                 Payment_Behaviour Monthly_Balance  \\\n",
              "0                80.415295                               NaN      312.494089   \n",
              "1               118.280222    Low_spent_Large_value_payments      284.629162   \n",
              "2                81.699521   Low_spent_Medium_value_payments      331.209863   \n",
              "3               199.458074    Low_spent_Small_value_payments      223.451310   \n",
              "4                41.420153  High_spent_Medium_value_payments      341.489231   \n",
              "5                62.430172  High_spent_Medium_value_payments      340.479212   \n",
              "6               178.344067    Low_spent_Small_value_payments      244.565317   \n",
              "7                24.785217  High_spent_Medium_value_payments      358.124168   \n",
              "8                      NaN    Low_spent_Small_value_payments      470.690627   \n",
              "9                40.391238   High_spent_Large_value_payments      484.591214   \n",
              "\n",
              "   Credit_Score  \n",
              "0          Good  \n",
              "1          Good  \n",
              "2          Good  \n",
              "3          Good  \n",
              "4          Good  \n",
              "5          Good  \n",
              "6          Good  \n",
              "7      Standard  \n",
              "8      Standard  \n",
              "9          Good  \n",
              "\n",
              "[10 rows x 23 columns]"
            ]
          },
          "execution_count": 8,
          "metadata": {},
          "output_type": "execute_result"
        }
      ],
      "source": [
        "ds.head(10) #show the first 10 elements"
      ]
    },
    {
      "cell_type": "code",
      "execution_count": 5,
      "metadata": {
        "colab": {
          "base_uri": "https://localhost:8080/"
        },
        "id": "j2Mb0wHrnvMQ",
        "outputId": "6fff38bc-6fc7-4763-8423-547782f0a573"
      },
      "outputs": [
        {
          "data": {
            "text/plain": [
              "0"
            ]
          },
          "execution_count": 5,
          "metadata": {},
          "output_type": "execute_result"
        }
      ],
      "source": [
        "ds.duplicated().sum() #let's see how many duplicates"
      ]
    },
    {
      "cell_type": "code",
      "execution_count": 6,
      "metadata": {},
      "outputs": [
        {
          "data": {
            "text/plain": [
              "<AxesSubplot:>"
            ]
          },
          "execution_count": 6,
          "metadata": {},
          "output_type": "execute_result"
        },
        {
          "data": {
            "image/png": "[encoded data removed]",
            "text/plain": [
              "<Figure size 640x480 with 1 Axes>"
            ]
          },
          "metadata": {},
          "output_type": "display_data"
        }
      ],
      "source": [
        "sns.heatmap(ds.isna(), cbar = False) #to visualize null values for each column"
      ]
    },
    {
      "cell_type": "code",
      "execution_count": 7,
      "metadata": {
        "colab": {
          "base_uri": "https://localhost:8080/"
        },
        "id": "SEo61k0dnvMS",
        "outputId": "38c2e6d4-7a3e-4155-c1d8-7ee70d391db9"
      },
      "outputs": [
        {
          "data": {
            "text/plain": [
              "id     Age   Occupation     Annual_Income  Monthly_Inhand_Salary  Num_Bank_Accounts  Num_Credit_Card  Interest_Rate  Num_of_Loan  Type_of_Loan                                                             Delay_from_due_date  Num_of_Delayed_Payment  Changed_Credit_Limit  Num_Credit_Inquiries  Credit_Mix  Outstanding_Debt  Credit_Utilization_Ratio  Credit_History_Age  Payment_of_Min_Amount  Amount_invested_monthly  Payment_Behaviour                 Monthly_Balance  Credit_Score\n",
              "5      23.0  Scientist      19114.12       1824.843333            3.0                4.0              3.0            4.0          Auto Loan, Credit-Builder Loan, Personal Loan, and Home Equity Loan      8.0                  4.0                     9.27                  4.0                   Good        809.98            27.262259                 270.0               No                     62.430172                High_spent_Medium_value_payments  340.479212       Good            0.000091\n",
              "66876  20.0  Media_Manager  12928.24       1112.353333            7.0                6.0              11.0           0.0          No Data                                                                  8.0                  20.0                    1.15                  0.0                   Good        1057.29           27.109354                 393.0               No                     140.084057               Low_spent_Small_value_payments    261.151276       Good            0.000091\n",
              "66803  31.0  Manager        26305.91       1946.159167            4.0                7.0              9.0            2.0          Payday Loan, and Payday Loan                                             17.0                 12.0                    7.34                  4.0                   Standard    151.95            25.986375                 355.0               NM                     29.010543                High_spent_Medium_value_payments  391.614867       Standard        0.000091\n",
              "66820  39.0  Scientist      20886.73       1725.560833            5.0                5.0              12.0           4.0          Personal Loan, Not Specified, Credit-Builder Loan, and Home Equity Loan  13.0                 8.0                     4.07                  0.0                   Good        769.43            32.789952                 392.0               No                     16.004508                High_spent_Medium_value_payments  337.489933       Standard        0.000091\n",
              "66822  39.0  Scientist      20886.73       1725.560833            5.0                5.0              12.0           4.0          Personal Loan, Not Specified, Credit-Builder Loan, and Home Equity Loan  13.0                 8.0                     8.07                  5.0                   Good        769.43            25.409668                 394.0               No                     54.809365                High_spent_Small_value_payments   338.056602       Standard        0.000091\n",
              "                                                                                                                                                                                                                                                                                                                                                                                                                                                                                                     ...   \n",
              "33630  41.0  Scientist      141789.84      11656.820000           6.0                6.0              19.0           1.0          Not Specified                                                            17.0                 12.0                    8.02                  1.0                   Standard    1194.16           32.508489                 387.0               Yes                    137.625353               High_spent_Medium_value_payments  58.102988        Standard        0.000091\n",
              "33637  42.0  Developer      30366.16       2329.513333            7.0                4.0              18.0           4.0          Not Specified, Auto Loan, Auto Loan, and Debt Consolidation Loan         12.0                 8.0                     14.11                 1.0                   Standard    804.31            33.052998                 244.0               Yes                    138.507095               Low_spent_Large_value_payments    302.442894       Poor            0.000091\n",
              "33640  24.0  Teacher        128675.76      10471.980000           4.0                4.0              6.0            2.0          Credit-Builder Loan, and Not Specified                                   13.0                 11.0                    0.80                  3.0                   Good        53.79             31.184689                 387.0               No                     437.366461               High_spent_Small_value_payments   669.949550       Good            0.000091\n",
              "33645  24.0  Teacher        128675.76      10471.980000           4.0                4.0              6.0            2.0          Credit-Builder Loan, and Not Specified                                   14.0                 11.0                    7.80                  4.0                   Good        53.79             27.761981                 392.0               No                     829.939302               Low_spent_Small_value_payments    307.376709       Standard        0.000091\n",
              "99984  28.0  Architect      20002.88       1929.906667            10.0               8.0              29.0           5.0          Personal Loan, Auto Loan, Mortgage Loan, Student Loan, and Student Loan  35.0                 25.0                    18.31                 9.0                   Bad         3571.70           22.895966                 68.0                Yes                    43.370670                High_spent_Large_value_payments   328.655224       Poor            0.000091\n",
              "Length: 11032, dtype: float64"
            ]
          },
          "execution_count": 7,
          "metadata": {},
          "output_type": "execute_result"
        }
      ],
      "source": [
        "ds.value_counts() #how many variables\n",
        "ds.value_counts(normalize = True) #now in percentages"
      ]
    },
    {
      "cell_type": "code",
      "execution_count": 9,
      "metadata": {
        "colab": {
          "base_uri": "https://localhost:8080/",
          "height": 552
        },
        "id": "Ea5_d3sOnvMT",
        "outputId": "14e7a79a-d8e6-4414-b755-02f68d6126d3"
      },
      "outputs": [
        {
          "data": {
            "text/html": [
              "<div>\n",
              "<style scoped>\n",
              "    .dataframe tbody tr th:only-of-type {\n",
              "        vertical-align: middle;\n",
              "    }\n",
              "\n",
              "    .dataframe tbody tr th {\n",
              "        vertical-align: top;\n",
              "    }\n",
              "\n",
              "    .dataframe thead th {\n",
              "        text-align: right;\n",
              "    }\n",
              "</style>\n",
              "<table border=\"1\" class=\"dataframe\">\n",
              "  <thead>\n",
              "    <tr style=\"text-align: right;\">\n",
              "      <th></th>\n",
              "      <th>Age</th>\n",
              "      <th>Annual_Income</th>\n",
              "      <th>Monthly_Inhand_Salary</th>\n",
              "      <th>Num_Bank_Accounts</th>\n",
              "      <th>Num_Credit_Card</th>\n",
              "      <th>Interest_Rate</th>\n",
              "      <th>Num_of_Loan</th>\n",
              "      <th>Delay_from_due_date</th>\n",
              "      <th>Num_of_Delayed_Payment</th>\n",
              "      <th>Num_Credit_Inquiries</th>\n",
              "      <th>Outstanding_Debt</th>\n",
              "      <th>Credit_Utilization_Ratio</th>\n",
              "      <th>Amount_invested_monthly</th>\n",
              "      <th>Monthly_Balance</th>\n",
              "    </tr>\n",
              "  </thead>\n",
              "  <tbody>\n",
              "    <tr>\n",
              "      <th>Age</th>\n",
              "      <td>1.000000</td>\n",
              "      <td>0.094214</td>\n",
              "      <td>0.092432</td>\n",
              "      <td>-0.192405</td>\n",
              "      <td>-0.147670</td>\n",
              "      <td>-0.218744</td>\n",
              "      <td>-0.215283</td>\n",
              "      <td>-0.175110</td>\n",
              "      <td>-0.186063</td>\n",
              "      <td>-0.251603</td>\n",
              "      <td>-0.202975</td>\n",
              "      <td>0.023721</td>\n",
              "      <td>0.006597</td>\n",
              "      <td>-0.002635</td>\n",
              "    </tr>\n",
              "    <tr>\n",
              "      <th>Annual_Income</th>\n",
              "      <td>0.094214</td>\n",
              "      <td>1.000000</td>\n",
              "      <td>0.998155</td>\n",
              "      <td>-0.285732</td>\n",
              "      <td>-0.218083</td>\n",
              "      <td>-0.302391</td>\n",
              "      <td>-0.256766</td>\n",
              "      <td>-0.249761</td>\n",
              "      <td>-0.287701</td>\n",
              "      <td>-0.280632</td>\n",
              "      <td>-0.269997</td>\n",
              "      <td>0.177065</td>\n",
              "      <td>0.055108</td>\n",
              "      <td>-0.004711</td>\n",
              "    </tr>\n",
              "    <tr>\n",
              "      <th>Monthly_Inhand_Salary</th>\n",
              "      <td>0.092432</td>\n",
              "      <td>0.998155</td>\n",
              "      <td>1.000000</td>\n",
              "      <td>-0.283303</td>\n",
              "      <td>-0.216476</td>\n",
              "      <td>-0.301315</td>\n",
              "      <td>-0.256375</td>\n",
              "      <td>-0.249382</td>\n",
              "      <td>-0.285382</td>\n",
              "      <td>-0.279105</td>\n",
              "      <td>-0.269707</td>\n",
              "      <td>0.178518</td>\n",
              "      <td>0.053704</td>\n",
              "      <td>-0.004176</td>\n",
              "    </tr>\n",
              "    <tr>\n",
              "      <th>Num_Bank_Accounts</th>\n",
              "      <td>-0.192405</td>\n",
              "      <td>-0.285732</td>\n",
              "      <td>-0.283303</td>\n",
              "      <td>1.000000</td>\n",
              "      <td>0.442678</td>\n",
              "      <td>0.583227</td>\n",
              "      <td>0.472694</td>\n",
              "      <td>0.560583</td>\n",
              "      <td>0.601553</td>\n",
              "      <td>0.515379</td>\n",
              "      <td>0.506999</td>\n",
              "      <td>-0.070942</td>\n",
              "      <td>-0.015364</td>\n",
              "      <td>0.005845</td>\n",
              "    </tr>\n",
              "    <tr>\n",
              "      <th>Num_Credit_Card</th>\n",
              "      <td>-0.147670</td>\n",
              "      <td>-0.218083</td>\n",
              "      <td>-0.216476</td>\n",
              "      <td>0.442678</td>\n",
              "      <td>1.000000</td>\n",
              "      <td>0.499178</td>\n",
              "      <td>0.417508</td>\n",
              "      <td>0.479751</td>\n",
              "      <td>0.424036</td>\n",
              "      <td>0.458086</td>\n",
              "      <td>0.491157</td>\n",
              "      <td>-0.055238</td>\n",
              "      <td>-0.010274</td>\n",
              "      <td>0.004964</td>\n",
              "    </tr>\n",
              "    <tr>\n",
              "      <th>Interest_Rate</th>\n",
              "      <td>-0.218744</td>\n",
              "      <td>-0.302391</td>\n",
              "      <td>-0.301315</td>\n",
              "      <td>0.583227</td>\n",
              "      <td>0.499178</td>\n",
              "      <td>1.000000</td>\n",
              "      <td>0.560036</td>\n",
              "      <td>0.591529</td>\n",
              "      <td>0.571366</td>\n",
              "      <td>0.631691</td>\n",
              "      <td>0.628982</td>\n",
              "      <td>-0.077353</td>\n",
              "      <td>-0.018500</td>\n",
              "      <td>0.004477</td>\n",
              "    </tr>\n",
              "    <tr>\n",
              "      <th>Num_of_Loan</th>\n",
              "      <td>-0.215283</td>\n",
              "      <td>-0.256766</td>\n",
              "      <td>-0.256375</td>\n",
              "      <td>0.472694</td>\n",
              "      <td>0.417508</td>\n",
              "      <td>0.560036</td>\n",
              "      <td>1.000000</td>\n",
              "      <td>0.503398</td>\n",
              "      <td>0.473959</td>\n",
              "      <td>0.564533</td>\n",
              "      <td>0.639486</td>\n",
              "      <td>-0.101013</td>\n",
              "      <td>-0.012386</td>\n",
              "      <td>0.001958</td>\n",
              "    </tr>\n",
              "    <tr>\n",
              "      <th>Delay_from_due_date</th>\n",
              "      <td>-0.175110</td>\n",
              "      <td>-0.249761</td>\n",
              "      <td>-0.249382</td>\n",
              "      <td>0.560583</td>\n",
              "      <td>0.479751</td>\n",
              "      <td>0.591529</td>\n",
              "      <td>0.503398</td>\n",
              "      <td>1.000000</td>\n",
              "      <td>0.540332</td>\n",
              "      <td>0.539325</td>\n",
              "      <td>0.572768</td>\n",
              "      <td>-0.064390</td>\n",
              "      <td>-0.009811</td>\n",
              "      <td>0.004988</td>\n",
              "    </tr>\n",
              "    <tr>\n",
              "      <th>Num_of_Delayed_Payment</th>\n",
              "      <td>-0.186063</td>\n",
              "      <td>-0.287701</td>\n",
              "      <td>-0.285382</td>\n",
              "      <td>0.601553</td>\n",
              "      <td>0.424036</td>\n",
              "      <td>0.571366</td>\n",
              "      <td>0.473959</td>\n",
              "      <td>0.540332</td>\n",
              "      <td>1.000000</td>\n",
              "      <td>0.499689</td>\n",
              "      <td>0.503561</td>\n",
              "      <td>-0.072964</td>\n",
              "      <td>-0.021178</td>\n",
              "      <td>0.007799</td>\n",
              "    </tr>\n",
              "    <tr>\n",
              "      <th>Num_Credit_Inquiries</th>\n",
              "      <td>-0.251603</td>\n",
              "      <td>-0.280632</td>\n",
              "      <td>-0.279105</td>\n",
              "      <td>0.515379</td>\n",
              "      <td>0.458086</td>\n",
              "      <td>0.631691</td>\n",
              "      <td>0.564533</td>\n",
              "      <td>0.539325</td>\n",
              "      <td>0.499689</td>\n",
              "      <td>1.000000</td>\n",
              "      <td>0.597357</td>\n",
              "      <td>-0.079951</td>\n",
              "      <td>-0.017745</td>\n",
              "      <td>-0.002554</td>\n",
              "    </tr>\n",
              "    <tr>\n",
              "      <th>Outstanding_Debt</th>\n",
              "      <td>-0.202975</td>\n",
              "      <td>-0.269997</td>\n",
              "      <td>-0.269707</td>\n",
              "      <td>0.506999</td>\n",
              "      <td>0.491157</td>\n",
              "      <td>0.628982</td>\n",
              "      <td>0.639486</td>\n",
              "      <td>0.572768</td>\n",
              "      <td>0.503561</td>\n",
              "      <td>0.597357</td>\n",
              "      <td>1.000000</td>\n",
              "      <td>-0.072577</td>\n",
              "      <td>-0.013246</td>\n",
              "      <td>0.001235</td>\n",
              "    </tr>\n",
              "    <tr>\n",
              "      <th>Credit_Utilization_Ratio</th>\n",
              "      <td>0.023721</td>\n",
              "      <td>0.177065</td>\n",
              "      <td>0.178518</td>\n",
              "      <td>-0.070942</td>\n",
              "      <td>-0.055238</td>\n",
              "      <td>-0.077353</td>\n",
              "      <td>-0.101013</td>\n",
              "      <td>-0.064390</td>\n",
              "      <td>-0.072964</td>\n",
              "      <td>-0.079951</td>\n",
              "      <td>-0.072577</td>\n",
              "      <td>1.000000</td>\n",
              "      <td>0.001987</td>\n",
              "      <td>-0.004748</td>\n",
              "    </tr>\n",
              "    <tr>\n",
              "      <th>Amount_invested_monthly</th>\n",
              "      <td>0.006597</td>\n",
              "      <td>0.055108</td>\n",
              "      <td>0.053704</td>\n",
              "      <td>-0.015364</td>\n",
              "      <td>-0.010274</td>\n",
              "      <td>-0.018500</td>\n",
              "      <td>-0.012386</td>\n",
              "      <td>-0.009811</td>\n",
              "      <td>-0.021178</td>\n",
              "      <td>-0.017745</td>\n",
              "      <td>-0.013246</td>\n",
              "      <td>0.001987</td>\n",
              "      <td>1.000000</td>\n",
              "      <td>0.002295</td>\n",
              "    </tr>\n",
              "    <tr>\n",
              "      <th>Monthly_Balance</th>\n",
              "      <td>-0.002635</td>\n",
              "      <td>-0.004711</td>\n",
              "      <td>-0.004176</td>\n",
              "      <td>0.005845</td>\n",
              "      <td>0.004964</td>\n",
              "      <td>0.004477</td>\n",
              "      <td>0.001958</td>\n",
              "      <td>0.004988</td>\n",
              "      <td>0.007799</td>\n",
              "      <td>-0.002554</td>\n",
              "      <td>0.001235</td>\n",
              "      <td>-0.004748</td>\n",
              "      <td>0.002295</td>\n",
              "      <td>1.000000</td>\n",
              "    </tr>\n",
              "  </tbody>\n",
              "</table>\n",
              "</div>"
            ],
            "text/plain": [
              "                               Age  Annual_Income  Monthly_Inhand_Salary  \\\n",
              "Age                       1.000000       0.094214               0.092432   \n",
              "Annual_Income             0.094214       1.000000               0.998155   \n",
              "Monthly_Inhand_Salary     0.092432       0.998155               1.000000   \n",
              "Num_Bank_Accounts        -0.192405      -0.285732              -0.283303   \n",
              "Num_Credit_Card          -0.147670      -0.218083              -0.216476   \n",
              "Interest_Rate            -0.218744      -0.302391              -0.301315   \n",
              "Num_of_Loan              -0.215283      -0.256766              -0.256375   \n",
              "Delay_from_due_date      -0.175110      -0.249761              -0.249382   \n",
              "Num_of_Delayed_Payment   -0.186063      -0.287701              -0.285382   \n",
              "Num_Credit_Inquiries     -0.251603      -0.280632              -0.279105   \n",
              "Outstanding_Debt         -0.202975      -0.269997              -0.269707   \n",
              "Credit_Utilization_Ratio  0.023721       0.177065               0.178518   \n",
              "Amount_invested_monthly   0.006597       0.055108               0.053704   \n",
              "Monthly_Balance          -0.002635      -0.004711              -0.004176   \n",
              "\n",
              "                          Num_Bank_Accounts  Num_Credit_Card  Interest_Rate  \\\n",
              "Age                               -0.192405        -0.147670      -0.218744   \n",
              "Annual_Income                     -0.285732        -0.218083      -0.302391   \n",
              "Monthly_Inhand_Salary             -0.283303        -0.216476      -0.301315   \n",
              "Num_Bank_Accounts                  1.000000         0.442678       0.583227   \n",
              "Num_Credit_Card                    0.442678         1.000000       0.499178   \n",
              "Interest_Rate                      0.583227         0.499178       1.000000   \n",
              "Num_of_Loan                        0.472694         0.417508       0.560036   \n",
              "Delay_from_due_date                0.560583         0.479751       0.591529   \n",
              "Num_of_Delayed_Payment             0.601553         0.424036       0.571366   \n",
              "Num_Credit_Inquiries               0.515379         0.458086       0.631691   \n",
              "Outstanding_Debt                   0.506999         0.491157       0.628982   \n",
              "Credit_Utilization_Ratio          -0.070942        -0.055238      -0.077353   \n",
              "Amount_invested_monthly           -0.015364        -0.010274      -0.018500   \n",
              "Monthly_Balance                    0.005845         0.004964       0.004477   \n",
              "\n",
              "                          Num_of_Loan  Delay_from_due_date  \\\n",
              "Age                         -0.215283            -0.175110   \n",
              "Annual_Income               -0.256766            -0.249761   \n",
              "Monthly_Inhand_Salary       -0.256375            -0.249382   \n",
              "Num_Bank_Accounts            0.472694             0.560583   \n",
              "Num_Credit_Card              0.417508             0.479751   \n",
              "Interest_Rate                0.560036             0.591529   \n",
              "Num_of_Loan                  1.000000             0.503398   \n",
              "Delay_from_due_date          0.503398             1.000000   \n",
              "Num_of_Delayed_Payment       0.473959             0.540332   \n",
              "Num_Credit_Inquiries         0.564533             0.539325   \n",
              "Outstanding_Debt             0.639486             0.572768   \n",
              "Credit_Utilization_Ratio    -0.101013            -0.064390   \n",
              "Amount_invested_monthly     -0.012386            -0.009811   \n",
              "Monthly_Balance              0.001958             0.004988   \n",
              "\n",
              "                          Num_of_Delayed_Payment  Num_Credit_Inquiries  \\\n",
              "Age                                    -0.186063             -0.251603   \n",
              "Annual_Income                          -0.287701             -0.280632   \n",
              "Monthly_Inhand_Salary                  -0.285382             -0.279105   \n",
              "Num_Bank_Accounts                       0.601553              0.515379   \n",
              "Num_Credit_Card                         0.424036              0.458086   \n",
              "Interest_Rate                           0.571366              0.631691   \n",
              "Num_of_Loan                             0.473959              0.564533   \n",
              "Delay_from_due_date                     0.540332              0.539325   \n",
              "Num_of_Delayed_Payment                  1.000000              0.499689   \n",
              "Num_Credit_Inquiries                    0.499689              1.000000   \n",
              "Outstanding_Debt                        0.503561              0.597357   \n",
              "Credit_Utilization_Ratio               -0.072964             -0.079951   \n",
              "Amount_invested_monthly                -0.021178             -0.017745   \n",
              "Monthly_Balance                         0.007799             -0.002554   \n",
              "\n",
              "                          Outstanding_Debt  Credit_Utilization_Ratio  \\\n",
              "Age                              -0.202975                  0.023721   \n",
              "Annual_Income                    -0.269997                  0.177065   \n",
              "Monthly_Inhand_Salary            -0.269707                  0.178518   \n",
              "Num_Bank_Accounts                 0.506999                 -0.070942   \n",
              "Num_Credit_Card                   0.491157                 -0.055238   \n",
              "Interest_Rate                     0.628982                 -0.077353   \n",
              "Num_of_Loan                       0.639486                 -0.101013   \n",
              "Delay_from_due_date               0.572768                 -0.064390   \n",
              "Num_of_Delayed_Payment            0.503561                 -0.072964   \n",
              "Num_Credit_Inquiries              0.597357                 -0.079951   \n",
              "Outstanding_Debt                  1.000000                 -0.072577   \n",
              "Credit_Utilization_Ratio         -0.072577                  1.000000   \n",
              "Amount_invested_monthly          -0.013246                  0.001987   \n",
              "Monthly_Balance                   0.001235                 -0.004748   \n",
              "\n",
              "                          Amount_invested_monthly  Monthly_Balance  \n",
              "Age                                      0.006597        -0.002635  \n",
              "Annual_Income                            0.055108        -0.004711  \n",
              "Monthly_Inhand_Salary                    0.053704        -0.004176  \n",
              "Num_Bank_Accounts                       -0.015364         0.005845  \n",
              "Num_Credit_Card                         -0.010274         0.004964  \n",
              "Interest_Rate                           -0.018500         0.004477  \n",
              "Num_of_Loan                             -0.012386         0.001958  \n",
              "Delay_from_due_date                     -0.009811         0.004988  \n",
              "Num_of_Delayed_Payment                  -0.021178         0.007799  \n",
              "Num_Credit_Inquiries                    -0.017745        -0.002554  \n",
              "Outstanding_Debt                        -0.013246         0.001235  \n",
              "Credit_Utilization_Ratio                 0.001987        -0.004748  \n",
              "Amount_invested_monthly                  1.000000         0.002295  \n",
              "Monthly_Balance                          0.002295         1.000000  "
            ]
          },
          "execution_count": 9,
          "metadata": {},
          "output_type": "execute_result"
        }
      ],
      "source": [
        "#we can eliminate a priori some columns, as we can consider them as not relevant \n",
        "ds = ds.drop(columns=['id','Occupation', 'Type_of_Loan', 'Credit_History_Age', 'Changed_Credit_Limit', 'Payment_of_Min_Amount'])\n",
        "ds.corr() #to see correlations, but all categorical ones will be ignored, so change them"
      ]
    },
    {
      "cell_type": "code",
      "execution_count": 10,
      "metadata": {},
      "outputs": [],
      "source": [
        "from sklearn.preprocessing import LabelEncoder\n",
        "ds['Credit_Mix'] = LabelEncoder().fit_transform(ds['Credit_Mix'])\n",
        "ds['Payment_Behaviour'] = LabelEncoder().fit_transform(ds['Payment_Behaviour'])"
      ]
    },
    {
      "cell_type": "code",
      "execution_count": 11,
      "metadata": {
        "colab": {
          "base_uri": "https://localhost:8080/",
          "height": 615
        },
        "id": "fWapo3PQnvMU",
        "outputId": "00f0724b-abdb-4ff4-8fd8-96e29b7497c0"
      },
      "outputs": [
        {
          "data": {
            "text/html": [
              "<div>\n",
              "<style scoped>\n",
              "    .dataframe tbody tr th:only-of-type {\n",
              "        vertical-align: middle;\n",
              "    }\n",
              "\n",
              "    .dataframe tbody tr th {\n",
              "        vertical-align: top;\n",
              "    }\n",
              "\n",
              "    .dataframe thead th {\n",
              "        text-align: right;\n",
              "    }\n",
              "</style>\n",
              "<table border=\"1\" class=\"dataframe\">\n",
              "  <thead>\n",
              "    <tr style=\"text-align: right;\">\n",
              "      <th></th>\n",
              "      <th>Age</th>\n",
              "      <th>Annual_Income</th>\n",
              "      <th>Monthly_Inhand_Salary</th>\n",
              "      <th>Num_Bank_Accounts</th>\n",
              "      <th>Num_Credit_Card</th>\n",
              "      <th>Interest_Rate</th>\n",
              "      <th>Num_of_Loan</th>\n",
              "      <th>Delay_from_due_date</th>\n",
              "      <th>Num_of_Delayed_Payment</th>\n",
              "      <th>Num_Credit_Inquiries</th>\n",
              "      <th>Credit_Mix</th>\n",
              "      <th>Outstanding_Debt</th>\n",
              "      <th>Credit_Utilization_Ratio</th>\n",
              "      <th>Amount_invested_monthly</th>\n",
              "      <th>Payment_Behaviour</th>\n",
              "      <th>Monthly_Balance</th>\n",
              "    </tr>\n",
              "  </thead>\n",
              "  <tbody>\n",
              "    <tr>\n",
              "      <th>Age</th>\n",
              "      <td>1.000000</td>\n",
              "      <td>0.094214</td>\n",
              "      <td>0.092432</td>\n",
              "      <td>-0.192405</td>\n",
              "      <td>-0.147670</td>\n",
              "      <td>-0.218744</td>\n",
              "      <td>-0.215283</td>\n",
              "      <td>-0.175110</td>\n",
              "      <td>-0.186063</td>\n",
              "      <td>-0.251603</td>\n",
              "      <td>0.060897</td>\n",
              "      <td>-0.202975</td>\n",
              "      <td>0.023721</td>\n",
              "      <td>0.006597</td>\n",
              "      <td>-0.030798</td>\n",
              "      <td>-0.002635</td>\n",
              "    </tr>\n",
              "    <tr>\n",
              "      <th>Annual_Income</th>\n",
              "      <td>0.094214</td>\n",
              "      <td>1.000000</td>\n",
              "      <td>0.998155</td>\n",
              "      <td>-0.285732</td>\n",
              "      <td>-0.218083</td>\n",
              "      <td>-0.302391</td>\n",
              "      <td>-0.256766</td>\n",
              "      <td>-0.249761</td>\n",
              "      <td>-0.287701</td>\n",
              "      <td>-0.280632</td>\n",
              "      <td>0.078006</td>\n",
              "      <td>-0.269997</td>\n",
              "      <td>0.177065</td>\n",
              "      <td>0.055108</td>\n",
              "      <td>-0.265724</td>\n",
              "      <td>-0.004711</td>\n",
              "    </tr>\n",
              "    <tr>\n",
              "      <th>Monthly_Inhand_Salary</th>\n",
              "      <td>0.092432</td>\n",
              "      <td>0.998155</td>\n",
              "      <td>1.000000</td>\n",
              "      <td>-0.283303</td>\n",
              "      <td>-0.216476</td>\n",
              "      <td>-0.301315</td>\n",
              "      <td>-0.256375</td>\n",
              "      <td>-0.249382</td>\n",
              "      <td>-0.285382</td>\n",
              "      <td>-0.279105</td>\n",
              "      <td>0.077388</td>\n",
              "      <td>-0.269707</td>\n",
              "      <td>0.178518</td>\n",
              "      <td>0.053704</td>\n",
              "      <td>-0.266155</td>\n",
              "      <td>-0.004176</td>\n",
              "    </tr>\n",
              "    <tr>\n",
              "      <th>Num_Bank_Accounts</th>\n",
              "      <td>-0.192405</td>\n",
              "      <td>-0.285732</td>\n",
              "      <td>-0.283303</td>\n",
              "      <td>1.000000</td>\n",
              "      <td>0.442678</td>\n",
              "      <td>0.583227</td>\n",
              "      <td>0.472694</td>\n",
              "      <td>0.560583</td>\n",
              "      <td>0.601553</td>\n",
              "      <td>0.515379</td>\n",
              "      <td>-0.184559</td>\n",
              "      <td>0.506999</td>\n",
              "      <td>-0.070942</td>\n",
              "      <td>-0.015364</td>\n",
              "      <td>0.080292</td>\n",
              "      <td>0.005845</td>\n",
              "    </tr>\n",
              "    <tr>\n",
              "      <th>Num_Credit_Card</th>\n",
              "      <td>-0.147670</td>\n",
              "      <td>-0.218083</td>\n",
              "      <td>-0.216476</td>\n",
              "      <td>0.442678</td>\n",
              "      <td>1.000000</td>\n",
              "      <td>0.499178</td>\n",
              "      <td>0.417508</td>\n",
              "      <td>0.479751</td>\n",
              "      <td>0.424036</td>\n",
              "      <td>0.458086</td>\n",
              "      <td>-0.263867</td>\n",
              "      <td>0.491157</td>\n",
              "      <td>-0.055238</td>\n",
              "      <td>-0.010274</td>\n",
              "      <td>0.063975</td>\n",
              "      <td>0.004964</td>\n",
              "    </tr>\n",
              "    <tr>\n",
              "      <th>Interest_Rate</th>\n",
              "      <td>-0.218744</td>\n",
              "      <td>-0.302391</td>\n",
              "      <td>-0.301315</td>\n",
              "      <td>0.583227</td>\n",
              "      <td>0.499178</td>\n",
              "      <td>1.000000</td>\n",
              "      <td>0.560036</td>\n",
              "      <td>0.591529</td>\n",
              "      <td>0.571366</td>\n",
              "      <td>0.631691</td>\n",
              "      <td>-0.259463</td>\n",
              "      <td>0.628982</td>\n",
              "      <td>-0.077353</td>\n",
              "      <td>-0.018500</td>\n",
              "      <td>0.090950</td>\n",
              "      <td>0.004477</td>\n",
              "    </tr>\n",
              "    <tr>\n",
              "      <th>Num_of_Loan</th>\n",
              "      <td>-0.215283</td>\n",
              "      <td>-0.256766</td>\n",
              "      <td>-0.256375</td>\n",
              "      <td>0.472694</td>\n",
              "      <td>0.417508</td>\n",
              "      <td>0.560036</td>\n",
              "      <td>1.000000</td>\n",
              "      <td>0.503398</td>\n",
              "      <td>0.473959</td>\n",
              "      <td>0.564533</td>\n",
              "      <td>-0.351639</td>\n",
              "      <td>0.639486</td>\n",
              "      <td>-0.101013</td>\n",
              "      <td>-0.012386</td>\n",
              "      <td>0.077168</td>\n",
              "      <td>0.001958</td>\n",
              "    </tr>\n",
              "    <tr>\n",
              "      <th>Delay_from_due_date</th>\n",
              "      <td>-0.175110</td>\n",
              "      <td>-0.249761</td>\n",
              "      <td>-0.249382</td>\n",
              "      <td>0.560583</td>\n",
              "      <td>0.479751</td>\n",
              "      <td>0.591529</td>\n",
              "      <td>0.503398</td>\n",
              "      <td>1.000000</td>\n",
              "      <td>0.540332</td>\n",
              "      <td>0.539325</td>\n",
              "      <td>-0.326715</td>\n",
              "      <td>0.572768</td>\n",
              "      <td>-0.064390</td>\n",
              "      <td>-0.009811</td>\n",
              "      <td>0.077015</td>\n",
              "      <td>0.004988</td>\n",
              "    </tr>\n",
              "    <tr>\n",
              "      <th>Num_of_Delayed_Payment</th>\n",
              "      <td>-0.186063</td>\n",
              "      <td>-0.287701</td>\n",
              "      <td>-0.285382</td>\n",
              "      <td>0.601553</td>\n",
              "      <td>0.424036</td>\n",
              "      <td>0.571366</td>\n",
              "      <td>0.473959</td>\n",
              "      <td>0.540332</td>\n",
              "      <td>1.000000</td>\n",
              "      <td>0.499689</td>\n",
              "      <td>-0.195698</td>\n",
              "      <td>0.503561</td>\n",
              "      <td>-0.072964</td>\n",
              "      <td>-0.021178</td>\n",
              "      <td>0.084444</td>\n",
              "      <td>0.007799</td>\n",
              "    </tr>\n",
              "    <tr>\n",
              "      <th>Num_Credit_Inquiries</th>\n",
              "      <td>-0.251603</td>\n",
              "      <td>-0.280632</td>\n",
              "      <td>-0.279105</td>\n",
              "      <td>0.515379</td>\n",
              "      <td>0.458086</td>\n",
              "      <td>0.631691</td>\n",
              "      <td>0.564533</td>\n",
              "      <td>0.539325</td>\n",
              "      <td>0.499689</td>\n",
              "      <td>1.000000</td>\n",
              "      <td>-0.267859</td>\n",
              "      <td>0.597357</td>\n",
              "      <td>-0.079951</td>\n",
              "      <td>-0.017745</td>\n",
              "      <td>0.086762</td>\n",
              "      <td>-0.002554</td>\n",
              "    </tr>\n",
              "    <tr>\n",
              "      <th>Credit_Mix</th>\n",
              "      <td>0.060897</td>\n",
              "      <td>0.078006</td>\n",
              "      <td>0.077388</td>\n",
              "      <td>-0.184559</td>\n",
              "      <td>-0.263867</td>\n",
              "      <td>-0.259463</td>\n",
              "      <td>-0.351639</td>\n",
              "      <td>-0.326715</td>\n",
              "      <td>-0.195698</td>\n",
              "      <td>-0.267859</td>\n",
              "      <td>1.000000</td>\n",
              "      <td>-0.458926</td>\n",
              "      <td>0.025971</td>\n",
              "      <td>0.001187</td>\n",
              "      <td>-0.029618</td>\n",
              "      <td>-0.004519</td>\n",
              "    </tr>\n",
              "    <tr>\n",
              "      <th>Outstanding_Debt</th>\n",
              "      <td>-0.202975</td>\n",
              "      <td>-0.269997</td>\n",
              "      <td>-0.269707</td>\n",
              "      <td>0.506999</td>\n",
              "      <td>0.491157</td>\n",
              "      <td>0.628982</td>\n",
              "      <td>0.639486</td>\n",
              "      <td>0.572768</td>\n",
              "      <td>0.503561</td>\n",
              "      <td>0.597357</td>\n",
              "      <td>-0.458926</td>\n",
              "      <td>1.000000</td>\n",
              "      <td>-0.072577</td>\n",
              "      <td>-0.013246</td>\n",
              "      <td>0.083036</td>\n",
              "      <td>0.001235</td>\n",
              "    </tr>\n",
              "    <tr>\n",
              "      <th>Credit_Utilization_Ratio</th>\n",
              "      <td>0.023721</td>\n",
              "      <td>0.177065</td>\n",
              "      <td>0.178518</td>\n",
              "      <td>-0.070942</td>\n",
              "      <td>-0.055238</td>\n",
              "      <td>-0.077353</td>\n",
              "      <td>-0.101013</td>\n",
              "      <td>-0.064390</td>\n",
              "      <td>-0.072964</td>\n",
              "      <td>-0.079951</td>\n",
              "      <td>0.025971</td>\n",
              "      <td>-0.072577</td>\n",
              "      <td>1.000000</td>\n",
              "      <td>0.001987</td>\n",
              "      <td>-0.106230</td>\n",
              "      <td>-0.004748</td>\n",
              "    </tr>\n",
              "    <tr>\n",
              "      <th>Amount_invested_monthly</th>\n",
              "      <td>0.006597</td>\n",
              "      <td>0.055108</td>\n",
              "      <td>0.053704</td>\n",
              "      <td>-0.015364</td>\n",
              "      <td>-0.010274</td>\n",
              "      <td>-0.018500</td>\n",
              "      <td>-0.012386</td>\n",
              "      <td>-0.009811</td>\n",
              "      <td>-0.021178</td>\n",
              "      <td>-0.017745</td>\n",
              "      <td>0.001187</td>\n",
              "      <td>-0.013246</td>\n",
              "      <td>0.001987</td>\n",
              "      <td>1.000000</td>\n",
              "      <td>0.018440</td>\n",
              "      <td>0.002295</td>\n",
              "    </tr>\n",
              "    <tr>\n",
              "      <th>Payment_Behaviour</th>\n",
              "      <td>-0.030798</td>\n",
              "      <td>-0.265724</td>\n",
              "      <td>-0.266155</td>\n",
              "      <td>0.080292</td>\n",
              "      <td>0.063975</td>\n",
              "      <td>0.090950</td>\n",
              "      <td>0.077168</td>\n",
              "      <td>0.077015</td>\n",
              "      <td>0.084444</td>\n",
              "      <td>0.086762</td>\n",
              "      <td>-0.029618</td>\n",
              "      <td>0.083036</td>\n",
              "      <td>-0.106230</td>\n",
              "      <td>0.018440</td>\n",
              "      <td>1.000000</td>\n",
              "      <td>-0.003225</td>\n",
              "    </tr>\n",
              "    <tr>\n",
              "      <th>Monthly_Balance</th>\n",
              "      <td>-0.002635</td>\n",
              "      <td>-0.004711</td>\n",
              "      <td>-0.004176</td>\n",
              "      <td>0.005845</td>\n",
              "      <td>0.004964</td>\n",
              "      <td>0.004477</td>\n",
              "      <td>0.001958</td>\n",
              "      <td>0.004988</td>\n",
              "      <td>0.007799</td>\n",
              "      <td>-0.002554</td>\n",
              "      <td>-0.004519</td>\n",
              "      <td>0.001235</td>\n",
              "      <td>-0.004748</td>\n",
              "      <td>0.002295</td>\n",
              "      <td>-0.003225</td>\n",
              "      <td>1.000000</td>\n",
              "    </tr>\n",
              "  </tbody>\n",
              "</table>\n",
              "</div>"
            ],
            "text/plain": [
              "                               Age  Annual_Income  Monthly_Inhand_Salary  \\\n",
              "Age                       1.000000       0.094214               0.092432   \n",
              "Annual_Income             0.094214       1.000000               0.998155   \n",
              "Monthly_Inhand_Salary     0.092432       0.998155               1.000000   \n",
              "Num_Bank_Accounts        -0.192405      -0.285732              -0.283303   \n",
              "Num_Credit_Card          -0.147670      -0.218083              -0.216476   \n",
              "Interest_Rate            -0.218744      -0.302391              -0.301315   \n",
              "Num_of_Loan              -0.215283      -0.256766              -0.256375   \n",
              "Delay_from_due_date      -0.175110      -0.249761              -0.249382   \n",
              "Num_of_Delayed_Payment   -0.186063      -0.287701              -0.285382   \n",
              "Num_Credit_Inquiries     -0.251603      -0.280632              -0.279105   \n",
              "Credit_Mix                0.060897       0.078006               0.077388   \n",
              "Outstanding_Debt         -0.202975      -0.269997              -0.269707   \n",
              "Credit_Utilization_Ratio  0.023721       0.177065               0.178518   \n",
              "Amount_invested_monthly   0.006597       0.055108               0.053704   \n",
              "Payment_Behaviour        -0.030798      -0.265724              -0.266155   \n",
              "Monthly_Balance          -0.002635      -0.004711              -0.004176   \n",
              "\n",
              "                          Num_Bank_Accounts  Num_Credit_Card  Interest_Rate  \\\n",
              "Age                               -0.192405        -0.147670      -0.218744   \n",
              "Annual_Income                     -0.285732        -0.218083      -0.302391   \n",
              "Monthly_Inhand_Salary             -0.283303        -0.216476      -0.301315   \n",
              "Num_Bank_Accounts                  1.000000         0.442678       0.583227   \n",
              "Num_Credit_Card                    0.442678         1.000000       0.499178   \n",
              "Interest_Rate                      0.583227         0.499178       1.000000   \n",
              "Num_of_Loan                        0.472694         0.417508       0.560036   \n",
              "Delay_from_due_date                0.560583         0.479751       0.591529   \n",
              "Num_of_Delayed_Payment             0.601553         0.424036       0.571366   \n",
              "Num_Credit_Inquiries               0.515379         0.458086       0.631691   \n",
              "Credit_Mix                        -0.184559        -0.263867      -0.259463   \n",
              "Outstanding_Debt                   0.506999         0.491157       0.628982   \n",
              "Credit_Utilization_Ratio          -0.070942        -0.055238      -0.077353   \n",
              "Amount_invested_monthly           -0.015364        -0.010274      -0.018500   \n",
              "Payment_Behaviour                  0.080292         0.063975       0.090950   \n",
              "Monthly_Balance                    0.005845         0.004964       0.004477   \n",
              "\n",
              "                          Num_of_Loan  Delay_from_due_date  \\\n",
              "Age                         -0.215283            -0.175110   \n",
              "Annual_Income               -0.256766            -0.249761   \n",
              "Monthly_Inhand_Salary       -0.256375            -0.249382   \n",
              "Num_Bank_Accounts            0.472694             0.560583   \n",
              "Num_Credit_Card              0.417508             0.479751   \n",
              "Interest_Rate                0.560036             0.591529   \n",
              "Num_of_Loan                  1.000000             0.503398   \n",
              "Delay_from_due_date          0.503398             1.000000   \n",
              "Num_of_Delayed_Payment       0.473959             0.540332   \n",
              "Num_Credit_Inquiries         0.564533             0.539325   \n",
              "Credit_Mix                  -0.351639            -0.326715   \n",
              "Outstanding_Debt             0.639486             0.572768   \n",
              "Credit_Utilization_Ratio    -0.101013            -0.064390   \n",
              "Amount_invested_monthly     -0.012386            -0.009811   \n",
              "Payment_Behaviour            0.077168             0.077015   \n",
              "Monthly_Balance              0.001958             0.004988   \n",
              "\n",
              "                          Num_of_Delayed_Payment  Num_Credit_Inquiries  \\\n",
              "Age                                    -0.186063             -0.251603   \n",
              "Annual_Income                          -0.287701             -0.280632   \n",
              "Monthly_Inhand_Salary                  -0.285382             -0.279105   \n",
              "Num_Bank_Accounts                       0.601553              0.515379   \n",
              "Num_Credit_Card                         0.424036              0.458086   \n",
              "Interest_Rate                           0.571366              0.631691   \n",
              "Num_of_Loan                             0.473959              0.564533   \n",
              "Delay_from_due_date                     0.540332              0.539325   \n",
              "Num_of_Delayed_Payment                  1.000000              0.499689   \n",
              "Num_Credit_Inquiries                    0.499689              1.000000   \n",
              "Credit_Mix                             -0.195698             -0.267859   \n",
              "Outstanding_Debt                        0.503561              0.597357   \n",
              "Credit_Utilization_Ratio               -0.072964             -0.079951   \n",
              "Amount_invested_monthly                -0.021178             -0.017745   \n",
              "Payment_Behaviour                       0.084444              0.086762   \n",
              "Monthly_Balance                         0.007799             -0.002554   \n",
              "\n",
              "                          Credit_Mix  Outstanding_Debt  \\\n",
              "Age                         0.060897         -0.202975   \n",
              "Annual_Income               0.078006         -0.269997   \n",
              "Monthly_Inhand_Salary       0.077388         -0.269707   \n",
              "Num_Bank_Accounts          -0.184559          0.506999   \n",
              "Num_Credit_Card            -0.263867          0.491157   \n",
              "Interest_Rate              -0.259463          0.628982   \n",
              "Num_of_Loan                -0.351639          0.639486   \n",
              "Delay_from_due_date        -0.326715          0.572768   \n",
              "Num_of_Delayed_Payment     -0.195698          0.503561   \n",
              "Num_Credit_Inquiries       -0.267859          0.597357   \n",
              "Credit_Mix                  1.000000         -0.458926   \n",
              "Outstanding_Debt           -0.458926          1.000000   \n",
              "Credit_Utilization_Ratio    0.025971         -0.072577   \n",
              "Amount_invested_monthly     0.001187         -0.013246   \n",
              "Payment_Behaviour          -0.029618          0.083036   \n",
              "Monthly_Balance            -0.004519          0.001235   \n",
              "\n",
              "                          Credit_Utilization_Ratio  Amount_invested_monthly  \\\n",
              "Age                                       0.023721                 0.006597   \n",
              "Annual_Income                             0.177065                 0.055108   \n",
              "Monthly_Inhand_Salary                     0.178518                 0.053704   \n",
              "Num_Bank_Accounts                        -0.070942                -0.015364   \n",
              "Num_Credit_Card                          -0.055238                -0.010274   \n",
              "Interest_Rate                            -0.077353                -0.018500   \n",
              "Num_of_Loan                              -0.101013                -0.012386   \n",
              "Delay_from_due_date                      -0.064390                -0.009811   \n",
              "Num_of_Delayed_Payment                   -0.072964                -0.021178   \n",
              "Num_Credit_Inquiries                     -0.079951                -0.017745   \n",
              "Credit_Mix                                0.025971                 0.001187   \n",
              "Outstanding_Debt                         -0.072577                -0.013246   \n",
              "Credit_Utilization_Ratio                  1.000000                 0.001987   \n",
              "Amount_invested_monthly                   0.001987                 1.000000   \n",
              "Payment_Behaviour                        -0.106230                 0.018440   \n",
              "Monthly_Balance                          -0.004748                 0.002295   \n",
              "\n",
              "                          Payment_Behaviour  Monthly_Balance  \n",
              "Age                               -0.030798        -0.002635  \n",
              "Annual_Income                     -0.265724        -0.004711  \n",
              "Monthly_Inhand_Salary             -0.266155        -0.004176  \n",
              "Num_Bank_Accounts                  0.080292         0.005845  \n",
              "Num_Credit_Card                    0.063975         0.004964  \n",
              "Interest_Rate                      0.090950         0.004477  \n",
              "Num_of_Loan                        0.077168         0.001958  \n",
              "Delay_from_due_date                0.077015         0.004988  \n",
              "Num_of_Delayed_Payment             0.084444         0.007799  \n",
              "Num_Credit_Inquiries               0.086762        -0.002554  \n",
              "Credit_Mix                        -0.029618        -0.004519  \n",
              "Outstanding_Debt                   0.083036         0.001235  \n",
              "Credit_Utilization_Ratio          -0.106230        -0.004748  \n",
              "Amount_invested_monthly            0.018440         0.002295  \n",
              "Payment_Behaviour                  1.000000        -0.003225  \n",
              "Monthly_Balance                   -0.003225         1.000000  "
            ]
          },
          "execution_count": 11,
          "metadata": {},
          "output_type": "execute_result"
        }
      ],
      "source": [
        "#from sklearn.preprocessing import LabelEncoder\n",
        "#ds['Credit_Mix'] = LabelEncoder().fit_transform(ds['Credit_Mix'])\n",
        "#ds['Payment_Behaviour'] = LabelEncoder().fit_transform(ds['Payment_Behaviour'])\n",
        "\n",
        "from sklearn.compose import ColumnTransformer\n",
        "from sklearn.preprocessing import StandardScaler, OneHotEncoder\n",
        "\n",
        "pipeline=ColumnTransformer([('num',StandardScaler(),[0,1,2,3,4,5,6,7,8,9,11,12,13,15]),('cat',OneHotEncoder(),[10,14])])\n",
        "\n",
        "\n",
        "\n",
        "ds.head()\n",
        "#again\n",
        "ds.corr()"
      ]
    },
    {
      "cell_type": "code",
      "execution_count": 11,
      "metadata": {},
      "outputs": [
        {
          "name": "stdout",
          "output_type": "stream",
          "text": [
            "<class 'pandas.core.frame.DataFrame'>\n",
            "RangeIndex: 100000 entries, 0 to 99999\n",
            "Data columns (total 17 columns):\n",
            " #   Column                    Non-Null Count   Dtype  \n",
            "---  ------                    --------------   -----  \n",
            " 0   Age                       90113 non-null   float64\n",
            " 1   Annual_Income             89811 non-null   float64\n",
            " 2   Monthly_Inhand_Salary     89881 non-null   float64\n",
            " 3   Num_Bank_Accounts         89935 non-null   float64\n",
            " 4   Num_Credit_Card           90131 non-null   float64\n",
            " 5   Interest_Rate             89999 non-null   float64\n",
            " 6   Num_of_Loan               90030 non-null   float64\n",
            " 7   Delay_from_due_date       90053 non-null   float64\n",
            " 8   Num_of_Delayed_Payment    89927 non-null   float64\n",
            " 9   Num_Credit_Inquiries      89971 non-null   float64\n",
            " 10  Credit_Mix                100000 non-null  int32  \n",
            " 11  Outstanding_Debt          90154 non-null   float64\n",
            " 12  Credit_Utilization_Ratio  89988 non-null   float64\n",
            " 13  Amount_invested_monthly   89955 non-null   float64\n",
            " 14  Payment_Behaviour         100000 non-null  int32  \n",
            " 15  Monthly_Balance           90101 non-null   float64\n",
            " 16  Credit_Score              100000 non-null  object \n",
            "dtypes: float64(14), int32(2), object(1)\n",
            "memory usage: 12.2+ MB\n"
          ]
        }
      ],
      "source": [
        "ds.info()"
      ]
    },
    {
      "cell_type": "code",
      "execution_count": 12,
      "metadata": {},
      "outputs": [
        {
          "name": "stdout",
          "output_type": "stream",
          "text": [
            "Index(['Age', 'Annual_Income', 'Monthly_Inhand_Salary', 'Num_Bank_Accounts',\n",
            "       'Num_Credit_Card', 'Interest_Rate', 'Num_of_Loan',\n",
            "       'Delay_from_due_date', 'Num_of_Delayed_Payment', 'Num_Credit_Inquiries',\n",
            "       'Credit_Mix', 'Outstanding_Debt', 'Credit_Utilization_Ratio',\n",
            "       'Amount_invested_monthly', 'Payment_Behaviour', 'Monthly_Balance',\n",
            "       'Credit_Score'],\n",
            "      dtype='object')\n"
          ]
        }
      ],
      "source": [
        "print(ds.columns)"
      ]
    },
    {
      "cell_type": "code",
      "execution_count": 12,
      "metadata": {},
      "outputs": [
        {
          "name": "stdout",
          "output_type": "stream",
          "text": [
            "<class 'pandas.core.frame.DataFrame'>\n",
            "RangeIndex: 100000 entries, 0 to 99999\n",
            "Data columns (total 17 columns):\n",
            " #   Column                    Non-Null Count   Dtype  \n",
            "---  ------                    --------------   -----  \n",
            " 0   Age                       100000 non-null  float64\n",
            " 1   Annual_Income             100000 non-null  float64\n",
            " 2   Monthly_Inhand_Salary     100000 non-null  float64\n",
            " 3   Num_Bank_Accounts         100000 non-null  float64\n",
            " 4   Num_Credit_Card           100000 non-null  float64\n",
            " 5   Interest_Rate             100000 non-null  float64\n",
            " 6   Num_of_Loan               100000 non-null  float64\n",
            " 7   Delay_from_due_date       100000 non-null  float64\n",
            " 8   Num_of_Delayed_Payment    100000 non-null  float64\n",
            " 9   Num_Credit_Inquiries      100000 non-null  float64\n",
            " 10  Credit_Mix                100000 non-null  int32  \n",
            " 11  Outstanding_Debt          100000 non-null  float64\n",
            " 12  Credit_Utilization_Ratio  100000 non-null  float64\n",
            " 13  Amount_invested_monthly   100000 non-null  float64\n",
            " 14  Payment_Behaviour         100000 non-null  int32  \n",
            " 15  Monthly_Balance           100000 non-null  float64\n",
            " 16  Credit_Score              100000 non-null  object \n",
            "dtypes: float64(14), int32(2), object(1)\n",
            "memory usage: 12.2+ MB\n"
          ]
        }
      ],
      "source": [
        "#pre-process\n",
        "\n",
        "#replace missing values with the mode\n",
        "\n",
        "for i in ds.columns[:-1]:\n",
        "    \n",
        "    if i == 'Credit_Mix' or i == 'Payment_Behaviour':\n",
        "        ds[i].fillna(ds[i].mode(), inplace = True)\n",
        "    else:\n",
        "        ds[i].fillna(ds[i].mean(), inplace = True)\n",
        "        \n",
        "ds.isnull().sum() #check how many null values in ds now\n",
        "ds.info() #contains the number of columns, column labels, column data types, memory usage, range index, and the number of cells in each column (non-null values)."
      ]
    },
    {
      "cell_type": "code",
      "execution_count": 14,
      "metadata": {
        "colab": {
          "base_uri": "https://localhost:8080/"
        },
        "id": "dAqwf53vnvMV",
        "outputId": "3e24ae69-0428-4643-aadd-536699ea8412"
      },
      "outputs": [
        {
          "name": "stdout",
          "output_type": "stream",
          "text": [
            "<class 'pandas.core.frame.DataFrame'>\n",
            "RangeIndex: 100000 entries, 0 to 99999\n",
            "Data columns (total 17 columns):\n",
            " #   Column                    Non-Null Count   Dtype  \n",
            "---  ------                    --------------   -----  \n",
            " 0   Age                       100000 non-null  float64\n",
            " 1   Annual_Income             100000 non-null  float64\n",
            " 2   Monthly_Inhand_Salary     100000 non-null  float64\n",
            " 3   Num_Bank_Accounts         100000 non-null  float64\n",
            " 4   Num_Credit_Card           100000 non-null  float64\n",
            " 5   Interest_Rate             100000 non-null  float64\n",
            " 6   Num_of_Loan               100000 non-null  float64\n",
            " 7   Delay_from_due_date       100000 non-null  float64\n",
            " 8   Num_of_Delayed_Payment    100000 non-null  float64\n",
            " 9   Num_Credit_Inquiries      100000 non-null  float64\n",
            " 10  Credit_Mix                100000 non-null  int32  \n",
            " 11  Outstanding_Debt          100000 non-null  float64\n",
            " 12  Credit_Utilization_Ratio  100000 non-null  float64\n",
            " 13  Amount_invested_monthly   100000 non-null  float64\n",
            " 14  Payment_Behaviour         100000 non-null  int32  \n",
            " 15  Monthly_Balance           100000 non-null  float64\n",
            " 16  Credit_Score              100000 non-null  object \n",
            "dtypes: float64(14), int32(2), object(1)\n",
            "memory usage: 12.2+ MB\n"
          ]
        }
      ],
      "source": [
        "description = ds.describe() #statistical summary\n",
        "ds.info() "
      ]
    },
    {
      "cell_type": "code",
      "execution_count": 15,
      "metadata": {
        "colab": {
          "base_uri": "https://localhost:8080/",
          "height": 334
        },
        "id": "10H7sxWSlfvR",
        "outputId": "a5ea7974-303a-4918-fe9a-a5694a810802"
      },
      "outputs": [
        {
          "name": "stdout",
          "output_type": "stream",
          "text": [
            "Standard    53174\n",
            "Poor        28998\n",
            "Good        17828\n",
            "Name: Credit_Score, dtype: int64\n"
          ]
        },
        {
          "data": {
            "image/png": "[encoded data removed]",
            "text/plain": [
              "<Figure size 640x480 with 1 Axes>"
            ]
          },
          "metadata": {},
          "output_type": "display_data"
        }
      ],
      "source": [
        "print(pd.value_counts(ds['Credit_Score']))\n",
        "_= plt.hist(ds['Credit_Score']) # Assign the result of plt.hist to variable _. This is a common trick to discard unwanted output.\n",
        "plt.show()"
      ]
    },
    {
      "cell_type": "markdown",
      "metadata": {
        "id": "E1AjVst2nvMY"
      },
      "source": [
        "In order to see the popularity of age"
      ]
    },
    {
      "cell_type": "code",
      "execution_count": 16,
      "metadata": {
        "colab": {
          "base_uri": "https://localhost:8080/",
          "height": 391
        },
        "id": "Vi1nUXe9nvMY",
        "outputId": "aefa679a-4a27-4d94-88da-e4956e84138d"
      },
      "outputs": [
        {
          "data": {
            "image/png": "[encoded data removed]",
            "text/plain": [
              "<Figure size 1000x600 with 1 Axes>"
            ]
          },
          "metadata": {},
          "output_type": "display_data"
        }
      ],
      "source": [
        "plt.figure(figsize=(10,6))\n",
        "sns.histplot(ds['Age'], bins=[0,15,30,45,60,75], shrink=.8)\n",
        "plt.xticks(rotation=90);"
      ]
    },
    {
      "cell_type": "markdown",
      "metadata": {
        "id": "PZsG0MCenvMZ"
      },
      "source": [
        "Remove outliers"
      ]
    },
    {
      "cell_type": "markdown",
      "metadata": {
        "id": "5fisEtKcnvMa"
      },
      "source": [
        "Outliers are points that are noticebly different from the others, this is why it is better to remove them.\n",
        "We have decided to visualize them thanks to the boxplot, realized thanks to seaborn."
      ]
    },
    {
      "cell_type": "code",
      "execution_count": 13,
      "metadata": {
        "id": "g_x0Vbp3-Ued"
      },
      "outputs": [],
      "source": [
        "from numpy import percentile"
      ]
    },
    {
      "cell_type": "code",
      "execution_count": 27,
      "metadata": {},
      "outputs": [
        {
          "ename": "TypeError",
          "evalue": "ufunc 'true_divide' not supported for the input types, and the inputs could not be safely coerced to any supported types according to the casting rule ''safe''",
          "output_type": "error",
          "traceback": [
            "\u001b[1;31m---------------------------------------------------------------------------\u001b[0m",
            "\u001b[1;31mTypeError\u001b[0m                                 Traceback (most recent call last)",
            "Cell \u001b[1;32mIn [27], line 7\u001b[0m\n\u001b[0;32m      3\u001b[0m b \u001b[39m=\u001b[39m \u001b[39m0\u001b[39m \n\u001b[0;32m      4\u001b[0m \u001b[39mfor\u001b[39;00m x \u001b[39min\u001b[39;00m ds\u001b[39m.\u001b[39mcolumns:\n\u001b[0;32m      5\u001b[0m     \u001b[39m#a = sns.boxplot(ds[x])\u001b[39;00m\n\u001b[0;32m      6\u001b[0m \u001b[39m# using the variable axs for multiple Axes\u001b[39;00m\n\u001b[1;32m----> 7\u001b[0m     axs[b, a]\u001b[39m.\u001b[39;49mboxplot(ds[x])\n\u001b[0;32m      8\u001b[0m     \u001b[39mif\u001b[39;00m a \u001b[39m==\u001b[39m \u001b[39m4\u001b[39m:\n\u001b[0;32m      9\u001b[0m         a \u001b[39m=\u001b[39m \u001b[39m0\u001b[39m\n",
            "File \u001b[1;32mc:\\Users\\alber\\anaconda3\\lib\\site-packages\\matplotlib\\__init__.py:1414\u001b[0m, in \u001b[0;36m_preprocess_data.<locals>.inner\u001b[1;34m(ax, data, *args, **kwargs)\u001b[0m\n\u001b[0;32m   1411\u001b[0m \u001b[39m@functools\u001b[39m\u001b[39m.\u001b[39mwraps(func)\n\u001b[0;32m   1412\u001b[0m \u001b[39mdef\u001b[39;00m \u001b[39minner\u001b[39m(ax, \u001b[39m*\u001b[39margs, data\u001b[39m=\u001b[39m\u001b[39mNone\u001b[39;00m, \u001b[39m*\u001b[39m\u001b[39m*\u001b[39mkwargs):\n\u001b[0;32m   1413\u001b[0m     \u001b[39mif\u001b[39;00m data \u001b[39mis\u001b[39;00m \u001b[39mNone\u001b[39;00m:\n\u001b[1;32m-> 1414\u001b[0m         \u001b[39mreturn\u001b[39;00m func(ax, \u001b[39m*\u001b[39m\u001b[39mmap\u001b[39m(sanitize_sequence, args), \u001b[39m*\u001b[39m\u001b[39m*\u001b[39mkwargs)\n\u001b[0;32m   1416\u001b[0m     bound \u001b[39m=\u001b[39m new_sig\u001b[39m.\u001b[39mbind(ax, \u001b[39m*\u001b[39margs, \u001b[39m*\u001b[39m\u001b[39m*\u001b[39mkwargs)\n\u001b[0;32m   1417\u001b[0m     auto_label \u001b[39m=\u001b[39m (bound\u001b[39m.\u001b[39marguments\u001b[39m.\u001b[39mget(label_namer)\n\u001b[0;32m   1418\u001b[0m                   \u001b[39mor\u001b[39;00m bound\u001b[39m.\u001b[39mkwargs\u001b[39m.\u001b[39mget(label_namer))\n",
            "File \u001b[1;32mc:\\Users\\alber\\anaconda3\\lib\\site-packages\\matplotlib\\axes\\_axes.py:3710\u001b[0m, in \u001b[0;36mAxes.boxplot\u001b[1;34m(self, x, notch, sym, vert, whis, positions, widths, patch_artist, bootstrap, usermedians, conf_intervals, meanline, showmeans, showcaps, showbox, showfliers, boxprops, labels, flierprops, medianprops, meanprops, capprops, whiskerprops, manage_ticks, autorange, zorder)\u001b[0m\n\u001b[0;32m   3707\u001b[0m \u001b[39mif\u001b[39;00m bootstrap \u001b[39mis\u001b[39;00m \u001b[39mNone\u001b[39;00m:\n\u001b[0;32m   3708\u001b[0m     bootstrap \u001b[39m=\u001b[39m rcParams[\u001b[39m'\u001b[39m\u001b[39mboxplot.bootstrap\u001b[39m\u001b[39m'\u001b[39m]\n\u001b[1;32m-> 3710\u001b[0m bxpstats \u001b[39m=\u001b[39m cbook\u001b[39m.\u001b[39;49mboxplot_stats(x, whis\u001b[39m=\u001b[39;49mwhis, bootstrap\u001b[39m=\u001b[39;49mbootstrap,\n\u001b[0;32m   3711\u001b[0m                                labels\u001b[39m=\u001b[39;49mlabels, autorange\u001b[39m=\u001b[39;49mautorange)\n\u001b[0;32m   3712\u001b[0m \u001b[39mif\u001b[39;00m notch \u001b[39mis\u001b[39;00m \u001b[39mNone\u001b[39;00m:\n\u001b[0;32m   3713\u001b[0m     notch \u001b[39m=\u001b[39m rcParams[\u001b[39m'\u001b[39m\u001b[39mboxplot.notch\u001b[39m\u001b[39m'\u001b[39m]\n",
            "File \u001b[1;32mc:\\Users\\alber\\anaconda3\\lib\\site-packages\\matplotlib\\cbook\\__init__.py:1195\u001b[0m, in \u001b[0;36mboxplot_stats\u001b[1;34m(X, whis, bootstrap, labels, autorange)\u001b[0m\n\u001b[0;32m   1192\u001b[0m x \u001b[39m=\u001b[39m np\u001b[39m.\u001b[39masarray(x)\n\u001b[0;32m   1194\u001b[0m \u001b[39m# arithmetic mean\u001b[39;00m\n\u001b[1;32m-> 1195\u001b[0m stats[\u001b[39m'\u001b[39m\u001b[39mmean\u001b[39m\u001b[39m'\u001b[39m] \u001b[39m=\u001b[39m np\u001b[39m.\u001b[39;49mmean(x)\n\u001b[0;32m   1197\u001b[0m \u001b[39m# medians and quartiles\u001b[39;00m\n\u001b[0;32m   1198\u001b[0m q1, med, q3 \u001b[39m=\u001b[39m np\u001b[39m.\u001b[39mpercentile(x, [\u001b[39m25\u001b[39m, \u001b[39m50\u001b[39m, \u001b[39m75\u001b[39m])\n",
            "File \u001b[1;32m<__array_function__ internals>:5\u001b[0m, in \u001b[0;36mmean\u001b[1;34m(*args, **kwargs)\u001b[0m\n",
            "File \u001b[1;32mc:\\Users\\alber\\anaconda3\\lib\\site-packages\\numpy\\core\\fromnumeric.py:3440\u001b[0m, in \u001b[0;36mmean\u001b[1;34m(a, axis, dtype, out, keepdims, where)\u001b[0m\n\u001b[0;32m   3437\u001b[0m     \u001b[39melse\u001b[39;00m:\n\u001b[0;32m   3438\u001b[0m         \u001b[39mreturn\u001b[39;00m mean(axis\u001b[39m=\u001b[39maxis, dtype\u001b[39m=\u001b[39mdtype, out\u001b[39m=\u001b[39mout, \u001b[39m*\u001b[39m\u001b[39m*\u001b[39mkwargs)\n\u001b[1;32m-> 3440\u001b[0m \u001b[39mreturn\u001b[39;00m _methods\u001b[39m.\u001b[39m_mean(a, axis\u001b[39m=\u001b[39maxis, dtype\u001b[39m=\u001b[39mdtype,\n\u001b[0;32m   3441\u001b[0m                       out\u001b[39m=\u001b[39mout, \u001b[39m*\u001b[39m\u001b[39m*\u001b[39mkwargs)\n",
            "File \u001b[1;32mc:\\Users\\alber\\anaconda3\\lib\\site-packages\\numpy\\core\\_methods.py:191\u001b[0m, in \u001b[0;36m_mean\u001b[1;34m(a, axis, dtype, out, keepdims, where)\u001b[0m\n\u001b[0;32m    189\u001b[0m         ret \u001b[39m=\u001b[39m ret\u001b[39m.\u001b[39mdtype\u001b[39m.\u001b[39mtype(ret \u001b[39m/\u001b[39m rcount)\n\u001b[0;32m    190\u001b[0m \u001b[39melse\u001b[39;00m:\n\u001b[1;32m--> 191\u001b[0m     ret \u001b[39m=\u001b[39m ret \u001b[39m/\u001b[39;49m rcount\n\u001b[0;32m    193\u001b[0m \u001b[39mreturn\u001b[39;00m ret\n",
            "\u001b[1;31mTypeError\u001b[0m: ufunc 'true_divide' not supported for the input types, and the inputs could not be safely coerced to any supported types according to the casting rule ''safe''"
          ]
        },
        {
          "data": {
            "image/png": "[encoded data removed]",
            "text/plain": [
              "<Figure size 640x480 with 25 Axes>"
            ]
          },
          "metadata": {},
          "output_type": "display_data"
        }
      ],
      "source": [
        "fig, axs = plt.subplots(4,4)\n",
        "a = 0\n",
        "b = 0 \n",
        "for x in ds.columns:\n",
        "    #a = sns.boxplot(ds[x])\n",
        "# using the variable axs for multiple Axes\n",
        "    axs[b, a].boxplot(ds[x])\n",
        "    if a == 3:\n",
        "        a = 0\n",
        "        b = b+1\n",
        "    else:\n",
        "        a = a+1\n",
        "    if b == 4:\n",
        "        break\n",
        "\n"
      ]
    },
    {
      "cell_type": "code",
      "execution_count": 18,
      "metadata": {
        "colab": {
          "base_uri": "https://localhost:8080/",
          "height": 351
        },
        "id": "4y2MUHrVnvMa",
        "outputId": "579a8598-380e-4ed2-9723-5c63ada0a93e"
      },
      "outputs": [
        {
          "data": {
            "text/plain": [
              "<AxesSubplot:>"
            ]
          },
          "execution_count": 18,
          "metadata": {},
          "output_type": "execute_result"
        },
        {
          "data": {
            "image/png": "[encoded data removed]",
            "text/plain": [
              "<Figure size 640x480 with 1 Axes>"
            ]
          },
          "metadata": {},
          "output_type": "display_data"
        }
      ],
      "source": [
        "sns.boxplot(ds['Age'])"
      ]
    },
    {
      "cell_type": "code",
      "execution_count": 19,
      "metadata": {
        "colab": {
          "base_uri": "https://localhost:8080/",
          "height": 421
        },
        "id": "YVHHck18kitt",
        "outputId": "3c37e8ba-d7c0-4af8-ffe8-d84c069cd2e0"
      },
      "outputs": [
        {
          "name": "stdout",
          "output_type": "stream",
          "text": [
            "Percentiles: 25th=20347.965, 75th=67531.720, IQR=47183.755\n",
            "Identified outliers: 3138\n"
          ]
        },
        {
          "data": {
            "text/plain": [
              "<AxesSubplot:>"
            ]
          },
          "execution_count": 19,
          "metadata": {},
          "output_type": "execute_result"
        },
        {
          "data": {
            "image/png": "[encoded data removed]",
            "text/plain": [
              "<Figure size 640x480 with 1 Axes>"
            ]
          },
          "metadata": {},
          "output_type": "display_data"
        }
      ],
      "source": [
        "\n",
        "\n",
        "q25, q75 = percentile(ds['Annual_Income'], 25), percentile(ds['Annual_Income'], 75)\n",
        "iqr = q75 - q25\n",
        "print('Percentiles: 25th=%.3f, 75th=%.3f, IQR=%.3f' % (q25, q75, iqr))\n",
        "\n",
        "\n",
        "cut_off = iqr * 1.5\n",
        "lower, upper = q25 - cut_off, q75 + cut_off\n",
        "\n",
        "outliers = [x for x in ds['Annual_Income'] if x < lower or x > upper]\n",
        "print('Identified outliers: %d' % len(outliers))\n",
        "\n",
        "\n",
        "sns.boxplot(ds['Annual_Income'])"
      ]
    },
    {
      "cell_type": "code",
      "execution_count": 20,
      "metadata": {
        "colab": {
          "base_uri": "https://localhost:8080/",
          "height": 352
        },
        "id": "dWJHUTUeoZwX",
        "outputId": "cdd49e10-d395-4625-bba4-30c33debc531"
      },
      "outputs": [
        {
          "data": {
            "text/plain": [
              "<AxesSubplot:>"
            ]
          },
          "execution_count": 20,
          "metadata": {},
          "output_type": "execute_result"
        },
        {
          "data": {
            "image/png": "[encoded data removed]",
            "text/plain": [
              "<Figure size 640x480 with 1 Axes>"
            ]
          },
          "metadata": {},
          "output_type": "display_data"
        }
      ],
      "source": [
        "sns.boxplot(ds['Monthly_Inhand_Salary'], flierprops = dict(markerfacecolor = '0.50', markersize = 5))"
      ]
    },
    {
      "cell_type": "code",
      "execution_count": 21,
      "metadata": {
        "colab": {
          "base_uri": "https://localhost:8080/",
          "height": 387
        },
        "id": "QlGzwkjSnvMd",
        "outputId": "23be5345-1036-4517-b4cf-3ff3d82f076a"
      },
      "outputs": [
        {
          "name": "stdout",
          "output_type": "stream",
          "text": [
            "Percentiles: 25th=1724.938, 75th=5582.571, IQR=3857.632\n",
            "Identified outliers: 3371\n"
          ]
        },
        {
          "data": {
            "text/plain": [
              "<AxesSubplot:>"
            ]
          },
          "execution_count": 21,
          "metadata": {},
          "output_type": "execute_result"
        },
        {
          "data": {
            "image/png": "[encoded data removed]",
            "text/plain": [
              "<Figure size 640x480 with 1 Axes>"
            ]
          },
          "metadata": {},
          "output_type": "display_data"
        }
      ],
      "source": [
        "q25, q75 = percentile(ds['Monthly_Inhand_Salary'], 25), percentile(ds['Monthly_Inhand_Salary'], 75)\n",
        "iqr = q75 - q25\n",
        "print('Percentiles: 25th=%.3f, 75th=%.3f, IQR=%.3f' % (q25, q75, iqr))\n",
        "\n",
        "\n",
        "cut_off = iqr * 1.5\n",
        "lower, upper = q25 - cut_off, q75 + cut_off\n",
        "\n",
        "outliers = [x for x in ds['Monthly_Inhand_Salary'] if x < lower or x > upper]\n",
        "print('Identified outliers: %d' % len(outliers))\n",
        "\n",
        "for i in outliers:\n",
        "    ds['Monthly_Inhand_Salary'] = ds['Monthly_Inhand_Salary'].replace(i,ds['Monthly_Inhand_Salary'].mean())\n",
        "\n",
        "sns.boxplot(ds['Monthly_Inhand_Salary'])"
      ]
    },
    {
      "cell_type": "code",
      "execution_count": 22,
      "metadata": {
        "colab": {
          "base_uri": "https://localhost:8080/",
          "height": 352
        },
        "id": "bsjTpoEinvMe",
        "outputId": "79087c6e-d8a8-4905-9815-5b8b01b76d56"
      },
      "outputs": [
        {
          "data": {
            "text/plain": [
              "<AxesSubplot:>"
            ]
          },
          "execution_count": 22,
          "metadata": {},
          "output_type": "execute_result"
        },
        {
          "data": {
            "image/png": "[encoded data removed]",
            "text/plain": [
              "<Figure size 640x480 with 1 Axes>"
            ]
          },
          "metadata": {},
          "output_type": "display_data"
        }
      ],
      "source": [
        "sns.boxplot(ds['Num_Bank_Accounts'], flierprops = dict(markerfacecolor = '0.50', markersize = 5))"
      ]
    },
    {
      "cell_type": "code",
      "execution_count": 23,
      "metadata": {
        "colab": {
          "base_uri": "https://localhost:8080/",
          "height": 387
        },
        "id": "Udv2cq_w6lnH",
        "outputId": "25fe6a59-056f-4345-9182-f59957a8bad0"
      },
      "outputs": [
        {
          "name": "stdout",
          "output_type": "stream",
          "text": [
            "Percentiles: 25th=4.000, 75th=7.000, IQR=3.000\n",
            "Identified outliers: 19\n"
          ]
        },
        {
          "data": {
            "text/plain": [
              "<AxesSubplot:>"
            ]
          },
          "execution_count": 23,
          "metadata": {},
          "output_type": "execute_result"
        },
        {
          "data": {
            "image/png": "[encoded data removed]",
            "text/plain": [
              "<Figure size 640x480 with 1 Axes>"
            ]
          },
          "metadata": {},
          "output_type": "display_data"
        }
      ],
      "source": [
        "q25, q75 = percentile(ds['Num_Bank_Accounts'], 25), percentile(ds['Num_Bank_Accounts'], 75)\n",
        "iqr = q75 - q25\n",
        "print('Percentiles: 25th=%.3f, 75th=%.3f, IQR=%.3f' % (q25, q75, iqr))\n",
        "\n",
        "\n",
        "cut_off = iqr * 1.5\n",
        "lower, upper = q25 - cut_off, q75 + cut_off\n",
        "\n",
        "outliers = [x for x in ds['Num_Bank_Accounts'] if x < lower or x > upper]\n",
        "print('Identified outliers: %d' % len(outliers))\n",
        "\n",
        "for i in outliers:\n",
        "    ds['Num_Bank_Accounts'] = ds['Num_Bank_Accounts'].replace(i,ds['Num_Bank_Accounts'].mean())\n",
        "\n",
        "\n",
        "sns.boxplot(ds['Num_Bank_Accounts'])"
      ]
    },
    {
      "cell_type": "code",
      "execution_count": 24,
      "metadata": {
        "colab": {
          "base_uri": "https://localhost:8080/",
          "height": 352
        },
        "id": "XABIRHwS-oqd",
        "outputId": "4ce2cd17-70a7-4c65-e721-836057888ce0"
      },
      "outputs": [
        {
          "data": {
            "text/plain": [
              "<AxesSubplot:>"
            ]
          },
          "execution_count": 24,
          "metadata": {},
          "output_type": "execute_result"
        },
        {
          "data": {
            "image/png": "[encoded data removed]",
            "text/plain": [
              "<Figure size 640x480 with 1 Axes>"
            ]
          },
          "metadata": {},
          "output_type": "display_data"
        }
      ],
      "source": [
        "sns.boxplot(ds['Num_Credit_Card'], flierprops = dict(markerfacecolor = '0.50', markersize = 5)) "
      ]
    },
    {
      "cell_type": "code",
      "execution_count": 25,
      "metadata": {
        "colab": {
          "base_uri": "https://localhost:8080/",
          "height": 387
        },
        "id": "arbuf4-envMf",
        "outputId": "ac0205d4-40c4-460b-a853-cc847612ac48"
      },
      "outputs": [
        {
          "name": "stdout",
          "output_type": "stream",
          "text": [
            "Percentiles: 25th=4.000, 75th=7.000, IQR=3.000\n",
            "Identified outliers: 0\n"
          ]
        },
        {
          "data": {
            "text/plain": [
              "<AxesSubplot:>"
            ]
          },
          "execution_count": 25,
          "metadata": {},
          "output_type": "execute_result"
        },
        {
          "data": {
            "image/png": "[encoded data removed]",
            "text/plain": [
              "<Figure size 640x480 with 1 Axes>"
            ]
          },
          "metadata": {},
          "output_type": "display_data"
        }
      ],
      "source": [
        "q25, q75 = percentile(ds['Num_Credit_Card'], 25), percentile(ds['Num_Credit_Card'], 75)\n",
        "iqr = q75 - q25\n",
        "print('Percentiles: 25th=%.3f, 75th=%.3f, IQR=%.3f' % (q25, q75, iqr))\n",
        "\n",
        "\n",
        "cut_off = iqr * 1.5\n",
        "lower, upper = q25 - cut_off, q75 + cut_off\n",
        "\n",
        "outliers = [x for x in ds['Num_Credit_Card'] if x < lower or x > upper]\n",
        "print('Identified outliers: %d' % len(outliers))\n",
        "\n",
        "sns.boxplot(ds['Num_Credit_Card'], flierprops = dict(markerfacecolor = '0.50', markersize = 5))"
      ]
    },
    {
      "cell_type": "code",
      "execution_count": 26,
      "metadata": {
        "colab": {
          "base_uri": "https://localhost:8080/",
          "height": 352
        },
        "id": "Gg44DcUa-uFe",
        "outputId": "e8504214-7f0a-4dff-bcd3-63a6a4a39c07"
      },
      "outputs": [
        {
          "data": {
            "text/plain": [
              "<AxesSubplot:>"
            ]
          },
          "execution_count": 26,
          "metadata": {},
          "output_type": "execute_result"
        },
        {
          "data": {
            "image/png": "[encoded data removed]",
            "text/plain": [
              "<Figure size 640x480 with 1 Axes>"
            ]
          },
          "metadata": {},
          "output_type": "display_data"
        }
      ],
      "source": [
        "sns.boxplot(ds['Interest_Rate'], flierprops = dict(markerfacecolor = '0.50', markersize = 5))"
      ]
    },
    {
      "cell_type": "code",
      "execution_count": 27,
      "metadata": {
        "colab": {
          "base_uri": "https://localhost:8080/",
          "height": 387
        },
        "id": "cQl8cxi1nvMf",
        "outputId": "7c280cdd-621a-4c22-cb38-2a9892fccd8a"
      },
      "outputs": [
        {
          "name": "stdout",
          "output_type": "stream",
          "text": [
            "Percentiles: 25th=8.000, 75th=19.000, IQR=11.000\n",
            "Identified outliers: 0\n"
          ]
        },
        {
          "data": {
            "text/plain": [
              "<AxesSubplot:>"
            ]
          },
          "execution_count": 27,
          "metadata": {},
          "output_type": "execute_result"
        },
        {
          "data": {
            "image/png": "[encoded data removed]",
            "text/plain": [
              "<Figure size 640x480 with 1 Axes>"
            ]
          },
          "metadata": {},
          "output_type": "display_data"
        }
      ],
      "source": [
        "\n",
        "q25, q75 = percentile(ds['Interest_Rate'], 25), percentile(ds['Interest_Rate'], 75)\n",
        "iqr = q75 - q25\n",
        "print('Percentiles: 25th=%.3f, 75th=%.3f, IQR=%.3f' % (q25, q75, iqr))\n",
        "\n",
        "\n",
        "cut_off = iqr * 1.5\n",
        "lower, upper = q25 - cut_off, q75 + cut_off\n",
        "\n",
        "outliers = [x for x in ds['Interest_Rate'] if x < lower or x > upper]\n",
        "print('Identified outliers: %d' % len(outliers))\n",
        "\n",
        "sns.boxplot(ds['Interest_Rate'], flierprops = dict(markerfacecolor = '0.50', markersize = 5))"
      ]
    },
    {
      "cell_type": "code",
      "execution_count": 28,
      "metadata": {
        "colab": {
          "base_uri": "https://localhost:8080/",
          "height": 352
        },
        "id": "Tk0KtSuI-xob",
        "outputId": "dd1e790d-8a14-4d34-eca0-909ff64983c6"
      },
      "outputs": [
        {
          "data": {
            "text/plain": [
              "<AxesSubplot:>"
            ]
          },
          "execution_count": 28,
          "metadata": {},
          "output_type": "execute_result"
        },
        {
          "data": {
            "image/png": "[encoded data removed]",
            "text/plain": [
              "<Figure size 640x480 with 1 Axes>"
            ]
          },
          "metadata": {},
          "output_type": "display_data"
        }
      ],
      "source": [
        "sns.boxplot(ds['Num_of_Loan'], flierprops = dict(markerfacecolor = '0.50', markersize = 5))"
      ]
    },
    {
      "cell_type": "code",
      "execution_count": 29,
      "metadata": {
        "colab": {
          "base_uri": "https://localhost:8080/",
          "height": 387
        },
        "id": "ZIli0aqanvMf",
        "outputId": "a6e40898-d4ab-457c-9080-410672465c70"
      },
      "outputs": [
        {
          "name": "stdout",
          "output_type": "stream",
          "text": [
            "Percentiles: 25th=2.000, 75th=5.000, IQR=3.000\n",
            "Identified outliers: 0\n"
          ]
        },
        {
          "data": {
            "text/plain": [
              "<AxesSubplot:>"
            ]
          },
          "execution_count": 29,
          "metadata": {},
          "output_type": "execute_result"
        },
        {
          "data": {
            "image/png": "[encoded data removed]",
            "text/plain": [
              "<Figure size 640x480 with 1 Axes>"
            ]
          },
          "metadata": {},
          "output_type": "display_data"
        }
      ],
      "source": [
        "\n",
        "q25, q75 = percentile(ds['Num_of_Loan'], 25), percentile(ds['Num_of_Loan'], 75)\n",
        "iqr = q75 - q25\n",
        "print('Percentiles: 25th=%.3f, 75th=%.3f, IQR=%.3f' % (q25, q75, iqr))\n",
        "\n",
        "\n",
        "cut_off = iqr * 1.5\n",
        "lower, upper = q25 - cut_off, q75 + cut_off\n",
        "\n",
        "outliers = [x for x in ds['Num_of_Loan'] if x < lower or x > upper]\n",
        "print('Identified outliers: %d' % len(outliers))\n",
        "\n",
        "sns.boxplot(ds['Num_of_Loan'], flierprops = dict(markerfacecolor = '0.50', markersize = 5))"
      ]
    },
    {
      "cell_type": "code",
      "execution_count": 30,
      "metadata": {
        "colab": {
          "base_uri": "https://localhost:8080/",
          "height": 352
        },
        "id": "xC5eY4Jf-zHG",
        "outputId": "eed68319-44ca-4827-986f-2f27fc5e369f"
      },
      "outputs": [
        {
          "data": {
            "text/plain": [
              "<AxesSubplot:>"
            ]
          },
          "execution_count": 30,
          "metadata": {},
          "output_type": "execute_result"
        },
        {
          "data": {
            "image/png": "[encoded data removed]",
            "text/plain": [
              "<Figure size 640x480 with 1 Axes>"
            ]
          },
          "metadata": {},
          "output_type": "display_data"
        }
      ],
      "source": [
        "sns.boxplot(ds['Delay_from_due_date'], flierprops = dict(markerfacecolor = '0.50', markersize = 5))"
      ]
    },
    {
      "cell_type": "code",
      "execution_count": 31,
      "metadata": {
        "colab": {
          "base_uri": "https://localhost:8080/",
          "height": 387
        },
        "id": "PlMBUtKanvMg",
        "outputId": "e4460225-90da-44c6-8420-8dccdccbd6d3"
      },
      "outputs": [
        {
          "name": "stdout",
          "output_type": "stream",
          "text": [
            "Percentiles: 25th=11.000, 75th=27.000, IQR=16.000\n",
            "Identified outliers: 5755\n"
          ]
        },
        {
          "data": {
            "text/plain": [
              "<AxesSubplot:>"
            ]
          },
          "execution_count": 31,
          "metadata": {},
          "output_type": "execute_result"
        },
        {
          "data": {
            "image/png": "[encoded data removed]",
            "text/plain": [
              "<Figure size 640x480 with 1 Axes>"
            ]
          },
          "metadata": {},
          "output_type": "display_data"
        }
      ],
      "source": [
        "q25, q75 = percentile(ds['Delay_from_due_date'], 25), percentile(ds['Delay_from_due_date'], 75)\n",
        "iqr = q75 - q25\n",
        "print('Percentiles: 25th=%.3f, 75th=%.3f, IQR=%.3f' % (q25, q75, iqr))\n",
        "\n",
        "\n",
        "cut_off = iqr * 1.5\n",
        "lower, upper = q25 - cut_off, q75 + cut_off\n",
        "\n",
        "outliers = [x for x in ds['Delay_from_due_date'] if x < lower or x > upper]\n",
        "print('Identified outliers: %d' % len(outliers))\n",
        "\n",
        "for i in outliers:\n",
        "    ds['Delay_from_due_date'] = ds['Delay_from_due_date'].replace(i,ds['Delay_from_due_date'].mean())\n",
        "\n",
        "\n",
        "sns.boxplot(ds['Delay_from_due_date'], flierprops = dict(markerfacecolor = '0.50', markersize = 5))"
      ]
    },
    {
      "cell_type": "code",
      "execution_count": 32,
      "metadata": {
        "colab": {
          "base_uri": "https://localhost:8080/",
          "height": 352
        },
        "id": "ditjyaiV_zrm",
        "outputId": "a663dfa3-af1e-4034-c91b-cef93fefca7c"
      },
      "outputs": [
        {
          "data": {
            "text/plain": [
              "<AxesSubplot:>"
            ]
          },
          "execution_count": 32,
          "metadata": {},
          "output_type": "execute_result"
        },
        {
          "data": {
            "image/png": "[encoded data removed]",
            "text/plain": [
              "<Figure size 640x480 with 1 Axes>"
            ]
          },
          "metadata": {},
          "output_type": "display_data"
        }
      ],
      "source": [
        "sns.boxplot(ds['Num_of_Delayed_Payment'], flierprops = dict(markerfacecolor = '0.50', markersize = 5))"
      ]
    },
    {
      "cell_type": "code",
      "execution_count": 33,
      "metadata": {
        "colab": {
          "base_uri": "https://localhost:8080/",
          "height": 387
        },
        "id": "9A4lyKM1nvMg",
        "outputId": "3819980b-1409-4606-94bd-18839ac09256"
      },
      "outputs": [
        {
          "name": "stdout",
          "output_type": "stream",
          "text": [
            "Percentiles: 25th=9.000, 75th=18.000, IQR=9.000\n",
            "Identified outliers: 0\n"
          ]
        },
        {
          "data": {
            "text/plain": [
              "<AxesSubplot:>"
            ]
          },
          "execution_count": 33,
          "metadata": {},
          "output_type": "execute_result"
        },
        {
          "data": {
            "image/png": "[encoded data removed]",
            "text/plain": [
              "<Figure size 640x480 with 1 Axes>"
            ]
          },
          "metadata": {},
          "output_type": "display_data"
        }
      ],
      "source": [
        "\n",
        "q25, q75 = percentile(ds['Num_of_Delayed_Payment'], 25), percentile(ds['Num_of_Delayed_Payment'], 75)\n",
        "iqr = q75 - q25\n",
        "print('Percentiles: 25th=%.3f, 75th=%.3f, IQR=%.3f' % (q25, q75, iqr))\n",
        "\n",
        "\n",
        "cut_off = iqr * 1.5\n",
        "lower, upper = q25 - cut_off, q75 + cut_off\n",
        "\n",
        "outliers = [x for x in ds['Num_of_Delayed_Payment'] if x < lower or x > upper]\n",
        "print('Identified outliers: %d' % len(outliers))\n",
        "\n",
        "sns.boxplot(ds['Num_of_Delayed_Payment'], flierprops = dict(markerfacecolor = '0.50', markersize = 5))\n"
      ]
    },
    {
      "cell_type": "code",
      "execution_count": 34,
      "metadata": {
        "colab": {
          "base_uri": "https://localhost:8080/",
          "height": 352
        },
        "id": "TAVyXJ2K-14-",
        "outputId": "a5bbf224-9f11-46b4-ed51-91e202685d51"
      },
      "outputs": [
        {
          "data": {
            "text/plain": [
              "<AxesSubplot:>"
            ]
          },
          "execution_count": 34,
          "metadata": {},
          "output_type": "execute_result"
        },
        {
          "data": {
            "image/png": "[encoded data removed]",
            "text/plain": [
              "<Figure size 640x480 with 1 Axes>"
            ]
          },
          "metadata": {},
          "output_type": "display_data"
        }
      ],
      "source": [
        "sns.boxplot(ds['Num_Credit_Inquiries'], flierprops = dict(markerfacecolor = '0.50', markersize = 5))"
      ]
    },
    {
      "cell_type": "code",
      "execution_count": 35,
      "metadata": {
        "colab": {
          "base_uri": "https://localhost:8080/",
          "height": 387
        },
        "id": "hLOvQ3qVnvMh",
        "outputId": "d62a8173-061e-476d-bb6e-2e2d57b110f6"
      },
      "outputs": [
        {
          "name": "stdout",
          "output_type": "stream",
          "text": [
            "Percentiles: 25th=3.000, 75th=8.000, IQR=5.000\n",
            "Identified outliers: 729\n"
          ]
        },
        {
          "data": {
            "text/plain": [
              "<AxesSubplot:>"
            ]
          },
          "execution_count": 35,
          "metadata": {},
          "output_type": "execute_result"
        },
        {
          "data": {
            "image/png": "[encoded data removed]",
            "text/plain": [
              "<Figure size 640x480 with 1 Axes>"
            ]
          },
          "metadata": {},
          "output_type": "display_data"
        }
      ],
      "source": [
        "\n",
        "q25, q75 = percentile(ds['Num_Credit_Inquiries'], 25), percentile(ds['Num_Credit_Inquiries'], 75)\n",
        "iqr = q75 - q25\n",
        "print('Percentiles: 25th=%.3f, 75th=%.3f, IQR=%.3f' % (q25, q75, iqr))\n",
        "\n",
        "\n",
        "cut_off = iqr * 1.5\n",
        "lower, upper = q25 - cut_off, q75 + cut_off\n",
        "\n",
        "outliers = [x for x in ds['Num_Credit_Inquiries'] if x < lower or x > upper]\n",
        "print('Identified outliers: %d' % len(outliers))\n",
        "\n",
        "\n",
        "for i in outliers:\n",
        "    ds['Num_Credit_Inquiries'] = ds['Num_Credit_Inquiries'].replace(i,ds['Num_Credit_Inquiries'].mean())\n",
        "\n",
        "sns.boxplot(ds['Num_Credit_Inquiries'], flierprops = dict(markerfacecolor = '0.50', markersize = 5))"
      ]
    },
    {
      "cell_type": "code",
      "execution_count": 36,
      "metadata": {
        "colab": {
          "base_uri": "https://localhost:8080/",
          "height": 352
        },
        "id": "Lt3vWWUXAAkl",
        "outputId": "356c3d8d-f7e5-4b81-81ea-a59f3bdc0a03"
      },
      "outputs": [
        {
          "data": {
            "text/plain": [
              "<AxesSubplot:>"
            ]
          },
          "execution_count": 36,
          "metadata": {},
          "output_type": "execute_result"
        },
        {
          "data": {
            "image/png": "[encoded data removed]",
            "text/plain": [
              "<Figure size 640x480 with 1 Axes>"
            ]
          },
          "metadata": {},
          "output_type": "display_data"
        }
      ],
      "source": [
        "sns.boxplot(ds['Credit_Mix'], flierprops = dict(markerfacecolor = '0.50', markersize = 5))"
      ]
    },
    {
      "cell_type": "code",
      "execution_count": 37,
      "metadata": {
        "colab": {
          "base_uri": "https://localhost:8080/",
          "height": 387
        },
        "id": "nNMAUl2gnvMh",
        "outputId": "f39a32e9-a667-4b0c-e76f-63acc877d91f"
      },
      "outputs": [
        {
          "name": "stdout",
          "output_type": "stream",
          "text": [
            "Percentiles: 25th=4.000, 75th=7.000, IQR=3.000\n",
            "Identified outliers: 0\n"
          ]
        },
        {
          "data": {
            "text/plain": [
              "<AxesSubplot:>"
            ]
          },
          "execution_count": 37,
          "metadata": {},
          "output_type": "execute_result"
        },
        {
          "data": {
            "image/png": "[encoded data removed]",
            "text/plain": [
              "<Figure size 640x480 with 1 Axes>"
            ]
          },
          "metadata": {},
          "output_type": "display_data"
        }
      ],
      "source": [
        "\n",
        "q25, q75 = percentile(ds['Num_Credit_Card'], 25), percentile(ds['Num_Credit_Card'], 75)\n",
        "iqr = q75 - q25\n",
        "print('Percentiles: 25th=%.3f, 75th=%.3f, IQR=%.3f' % (q25, q75, iqr))\n",
        "\n",
        "\n",
        "cut_off = iqr * 1.5\n",
        "lower, upper = q25 - cut_off, q75 + cut_off\n",
        "\n",
        "outliers = [x for x in ds['Num_Credit_Card'] if x < lower or x > upper]\n",
        "print('Identified outliers: %d' % len(outliers))\n",
        "\n",
        "sns.boxplot(ds['Credit_Mix'], flierprops = dict(markerfacecolor = '0.50', markersize = 5))"
      ]
    },
    {
      "cell_type": "code",
      "execution_count": 38,
      "metadata": {
        "colab": {
          "base_uri": "https://localhost:8080/",
          "height": 352
        },
        "id": "NygRMpy-_EWO",
        "outputId": "7703c9d0-9a22-4e40-831a-1c94e8248e35"
      },
      "outputs": [
        {
          "data": {
            "text/plain": [
              "<AxesSubplot:>"
            ]
          },
          "execution_count": 38,
          "metadata": {},
          "output_type": "execute_result"
        },
        {
          "data": {
            "image/png": "[encoded data removed]",
            "text/plain": [
              "<Figure size 640x480 with 1 Axes>"
            ]
          },
          "metadata": {},
          "output_type": "display_data"
        }
      ],
      "source": [
        "sns.boxplot(ds['Outstanding_Debt'], flierprops = dict(markerfacecolor = '0.50', markersize = 5))"
      ]
    },
    {
      "cell_type": "code",
      "execution_count": 39,
      "metadata": {
        "colab": {
          "base_uri": "https://localhost:8080/",
          "height": 387
        },
        "id": "MLRcbml2nvMi",
        "outputId": "436ab681-daa9-4d56-bff3-d2b1a781010c"
      },
      "outputs": [
        {
          "name": "stdout",
          "output_type": "stream",
          "text": [
            "Percentiles: 25th=632.460, 75th=1760.010, IQR=1127.550\n",
            "Identified outliers: 7696\n"
          ]
        },
        {
          "data": {
            "text/plain": [
              "<AxesSubplot:>"
            ]
          },
          "execution_count": 39,
          "metadata": {},
          "output_type": "execute_result"
        },
        {
          "data": {
            "image/png": "[encoded data removed]",
            "text/plain": [
              "<Figure size 640x480 with 1 Axes>"
            ]
          },
          "metadata": {},
          "output_type": "display_data"
        }
      ],
      "source": [
        "q25, q75 = percentile(ds['Outstanding_Debt'], 25), percentile(ds['Outstanding_Debt'], 75)\n",
        "iqr = q75 - q25\n",
        "print('Percentiles: 25th=%.3f, 75th=%.3f, IQR=%.3f' % (q25, q75, iqr))\n",
        "\n",
        "\n",
        "cut_off = iqr * 1.5\n",
        "lower, upper = q25 - cut_off, q75 + cut_off\n",
        "\n",
        "outliers = [x for x in ds['Outstanding_Debt'] if x < lower or x > upper]\n",
        "print('Identified outliers: %d' % len(outliers))\n",
        "\n",
        "for i in outliers:\n",
        "    ds['Outstanding_Debt'] = ds['Outstanding_Debt'].replace(i,ds['Outstanding_Debt'].mean())\n",
        "\n",
        "sns.boxplot(ds['Outstanding_Debt'])"
      ]
    },
    {
      "cell_type": "code",
      "execution_count": 40,
      "metadata": {
        "colab": {
          "base_uri": "https://localhost:8080/",
          "height": 352
        },
        "id": "RLeMRdsP_HET",
        "outputId": "0253fecd-edbf-4765-a87b-852c8ea2204d"
      },
      "outputs": [
        {
          "data": {
            "text/plain": [
              "<AxesSubplot:>"
            ]
          },
          "execution_count": 40,
          "metadata": {},
          "output_type": "execute_result"
        },
        {
          "data": {
            "image/png": "[encoded data removed]",
            "text/plain": [
              "<Figure size 640x480 with 1 Axes>"
            ]
          },
          "metadata": {},
          "output_type": "display_data"
        }
      ],
      "source": [
        "sns.boxplot(ds['Credit_Utilization_Ratio'], flierprops = dict(markerfacecolor = '0.50', markersize = 5))"
      ]
    },
    {
      "cell_type": "code",
      "execution_count": 41,
      "metadata": {
        "colab": {
          "base_uri": "https://localhost:8080/",
          "height": 387
        },
        "id": "pW8u9TRUnvMj",
        "outputId": "67b7a5c1-c258-4ed7-96a1-e7bdf73d8d88"
      },
      "outputs": [
        {
          "name": "stdout",
          "output_type": "stream",
          "text": [
            "Percentiles: 25th=28.537, 75th=36.033, IQR=7.496\n",
            "Identified outliers: 19\n"
          ]
        },
        {
          "data": {
            "text/plain": [
              "<AxesSubplot:>"
            ]
          },
          "execution_count": 41,
          "metadata": {},
          "output_type": "execute_result"
        },
        {
          "data": {
            "image/png": "[encoded data removed]",
            "text/plain": [
              "<Figure size 640x480 with 1 Axes>"
            ]
          },
          "metadata": {},
          "output_type": "display_data"
        }
      ],
      "source": [
        "\n",
        "\n",
        "q25, q75 = percentile(ds['Credit_Utilization_Ratio'], 25), percentile(ds['Credit_Utilization_Ratio'], 75)\n",
        "iqr = q75 - q25\n",
        "print('Percentiles: 25th=%.3f, 75th=%.3f, IQR=%.3f' % (q25, q75, iqr))\n",
        "\n",
        "\n",
        "cut_off = iqr * 1.5\n",
        "lower, upper = q25 - cut_off, q75 + cut_off\n",
        "\n",
        "outliers = [x for x in ds['Credit_Utilization_Ratio'] if x < lower or x > upper]\n",
        "print('Identified outliers: %d' % len(outliers))\n",
        "\n",
        "sns.boxplot(ds['Credit_Utilization_Ratio'])\n"
      ]
    },
    {
      "cell_type": "code",
      "execution_count": 42,
      "metadata": {
        "colab": {
          "base_uri": "https://localhost:8080/",
          "height": 352
        },
        "id": "Md_8gVwM_KW7",
        "outputId": "4a0a2b76-758f-44c8-e732-16aa2ec871bd"
      },
      "outputs": [
        {
          "data": {
            "text/plain": [
              "<AxesSubplot:>"
            ]
          },
          "execution_count": 42,
          "metadata": {},
          "output_type": "execute_result"
        },
        {
          "data": {
            "image/png": "[encoded data removed]",
            "text/plain": [
              "<Figure size 640x480 with 1 Axes>"
            ]
          },
          "metadata": {},
          "output_type": "display_data"
        }
      ],
      "source": [
        "sns.boxplot(ds['Amount_invested_monthly'], flierprops = dict(markerfacecolor = '0.50', markersize = 5))"
      ]
    },
    {
      "cell_type": "code",
      "execution_count": 43,
      "metadata": {
        "colab": {
          "base_uri": "https://localhost:8080/",
          "height": 387
        },
        "id": "aFhdvBZdnvMk",
        "outputId": "e20e280d-24d8-4847-c935-210bb749f0c4"
      },
      "outputs": [
        {
          "name": "stdout",
          "output_type": "stream",
          "text": [
            "Percentiles: 25th=76.154, 75th=372.058, IQR=295.904\n",
            "Identified outliers: 5984\n"
          ]
        },
        {
          "data": {
            "text/plain": [
              "<AxesSubplot:>"
            ]
          },
          "execution_count": 43,
          "metadata": {},
          "output_type": "execute_result"
        },
        {
          "data": {
            "image/png": "[encoded data removed]",
            "text/plain": [
              "<Figure size 640x480 with 1 Axes>"
            ]
          },
          "metadata": {},
          "output_type": "display_data"
        }
      ],
      "source": [
        "\n",
        "q25, q75 = percentile(ds['Amount_invested_monthly'], 25), percentile(ds['Amount_invested_monthly'], 75)\n",
        "iqr = q75 - q25\n",
        "print('Percentiles: 25th=%.3f, 75th=%.3f, IQR=%.3f' % (q25, q75, iqr))\n",
        "\n",
        "\n",
        "cut_off = iqr * 1.5\n",
        "lower, upper = q25 - cut_off, q75 + cut_off\n",
        "\n",
        "outliers = [x for x in ds['Amount_invested_monthly'] if x < lower or x > upper]\n",
        "print('Identified outliers: %d' % len(outliers))\n",
        "\n",
        "\n",
        "for i in outliers:\n",
        "    ds['Amount_invested_monthly'] = ds['Amount_invested_monthly'].replace(i,ds['Amount_invested_monthly'].mean())\n",
        "\n",
        "sns.boxplot(ds['Amount_invested_monthly'], flierprops = dict(markerfacecolor = '0.50', markersize = 5))\n"
      ]
    },
    {
      "cell_type": "code",
      "execution_count": 44,
      "metadata": {
        "colab": {
          "base_uri": "https://localhost:8080/",
          "height": 352
        },
        "id": "jI4ggzfi_NcF",
        "outputId": "63a0127f-4a5a-46a5-fe43-0c5e81e2f413"
      },
      "outputs": [
        {
          "data": {
            "text/plain": [
              "<AxesSubplot:>"
            ]
          },
          "execution_count": 44,
          "metadata": {},
          "output_type": "execute_result"
        },
        {
          "data": {
            "image/png": "[encoded data removed]",
            "text/plain": [
              "<Figure size 640x480 with 1 Axes>"
            ]
          },
          "metadata": {},
          "output_type": "display_data"
        }
      ],
      "source": [
        "sns.boxplot(ds['Payment_Behaviour'], flierprops = dict(markerfacecolor = '0.50', markersize = 5))\n"
      ]
    },
    {
      "cell_type": "code",
      "execution_count": 45,
      "metadata": {
        "colab": {
          "base_uri": "https://localhost:8080/",
          "height": 387
        },
        "id": "66Xz4oBUnvMk",
        "outputId": "fb6d6caa-f123-4840-d45f-f765a637954f"
      },
      "outputs": [
        {
          "name": "stdout",
          "output_type": "stream",
          "text": [
            "Percentiles: 25th=1.000, 75th=5.000, IQR=4.000\n",
            "Identified outliers: 0\n"
          ]
        },
        {
          "data": {
            "text/plain": [
              "<AxesSubplot:>"
            ]
          },
          "execution_count": 45,
          "metadata": {},
          "output_type": "execute_result"
        },
        {
          "data": {
            "image/png": "[encoded data removed]",
            "text/plain": [
              "<Figure size 640x480 with 1 Axes>"
            ]
          },
          "metadata": {},
          "output_type": "display_data"
        }
      ],
      "source": [
        "\n",
        "q25, q75 = percentile(ds['Payment_Behaviour'], 25), percentile(ds['Payment_Behaviour'], 75)\n",
        "iqr = q75 - q25\n",
        "print('Percentiles: 25th=%.3f, 75th=%.3f, IQR=%.3f' % (q25, q75, iqr))\n",
        "\n",
        "\n",
        "cut_off = iqr * 1.5\n",
        "lower, upper = q25 - cut_off, q75 + cut_off\n",
        "\n",
        "outliers = [x for x in ds['Payment_Behaviour'] if x < lower or x > upper]\n",
        "print('Identified outliers: %d' % len(outliers))\n",
        "\n",
        "sns.boxplot(ds['Payment_Behaviour'], flierprops = dict(markerfacecolor = '0.50', markersize = 5))\n"
      ]
    },
    {
      "cell_type": "markdown",
      "metadata": {
        "id": "PY710DxqnvMl"
      },
      "source": [
        "After having looked at our dataset and having cleaned it, we can now start collecting data into array of dependent (what we want to predict) and independent variables  "
      ]
    },
    {
      "cell_type": "code",
      "execution_count": 46,
      "metadata": {
        "id": "1fclQYy1nvMm"
      },
      "outputs": [],
      "source": [
        "#collect data into arrays\n",
        "X = ds.iloc[:, :-1].values      #independent variable\n",
        "y = ds.iloc[:, -1].values       #dependent variable"
      ]
    },
    {
      "cell_type": "code",
      "execution_count": 47,
      "metadata": {
        "id": "JnoPoMiBnvMm"
      },
      "outputs": [],
      "source": [
        "from sklearn.model_selection import train_test_split\n",
        "X_train, X_test, y_train, y_test = train_test_split(X, y, test_size = 0.25, random_state = 0)"
      ]
    },
    {
      "cell_type": "code",
      "execution_count": 48,
      "metadata": {
        "id": "DeBDo_alnvMm"
      },
      "outputs": [],
      "source": [
        "#encode data. This step is really important, we have already transformed the categorical data into integers. REMEMBER, NEVER TRAIN ON THE TEST SET!!\n",
        "\n",
        "X_train = pipeline.fit_transform(X_train)\n",
        "X_test = pipeline.transform(X_test)"
      ]
    },
    {
      "cell_type": "markdown",
      "metadata": {
        "id": "gG7hZCbTnvMn"
      },
      "source": [
        "We can now decide three models that can help us solving this problem. "
      ]
    },
    {
      "cell_type": "code",
      "execution_count": 49,
      "metadata": {
        "id": "AgLdWpvAnvMn"
      },
      "outputs": [],
      "source": [
        "#validation from the training\n",
        "from sklearn.svm import SVC # import SVC model\n",
        "#from sklearn.tree import DecisionTreeClassifier\n",
        "from sklearn import neighbors\n",
        "from xgboost import XGBClassifier\n",
        "from sklearn.model_selection import GridSearchCV\n",
        "from sklearn.metrics import classification_report\n",
        "from sklearn.neural_network import MLPClassifier\n",
        "from sklearn.metrics import ConfusionMatrixDisplay, accuracy_score, recall_score"
      ]
    },
    {
      "cell_type": "code",
      "execution_count": 50,
      "metadata": {},
      "outputs": [
        {
          "name": "stdout",
          "output_type": "stream",
          "text": [
            "{'C': 1, 'kernel': 'poly', 'max_iter': 1000}\n",
            "              precision    recall  f1-score   support\n",
            "\n",
            "        Good       0.47      0.05      0.10      4428\n",
            "        Poor       0.52      0.02      0.03      7277\n",
            "    Standard       0.54      0.98      0.69     13295\n",
            "\n",
            "    accuracy                           0.53     25000\n",
            "   macro avg       0.51      0.35      0.27     25000\n",
            "weighted avg       0.52      0.53      0.39     25000\n",
            "\n"
          ]
        },
        {
          "data": {
            "image/png": "[encoded data removed]",
            "text/plain": [
              "<Figure size 640x480 with 2 Axes>"
            ]
          },
          "metadata": {},
          "output_type": "display_data"
        }
      ],
      "source": [
        "param_grid = {'kernel':('linear', 'rbf', 'poly', 'sigmoid'), 'C':[0.1,1, 10], 'max_iter':[1000]}\n",
        "classifier = SVC()\n",
        "\n",
        "clf_svc = GridSearchCV(classifier, param_grid)\n",
        "\n",
        "clf_svc.fit(X_train,y_train)\n",
        "print(clf_svc.best_params_)\n",
        "y_pred_svc = clf_svc.predict(X_test)\n",
        "print(classification_report(y_test, y_pred_svc))\n",
        "\n",
        "\n",
        "_ = ConfusionMatrixDisplay.from_predictions(y_test, y_pred_svc)"
      ]
    },
    {
      "cell_type": "code",
      "execution_count": null,
      "metadata": {},
      "outputs": [],
      "source": [
        "#size = 10\n",
        "param_grid = {'max_depth':[7, 11, 13],\n",
        "              #'lambda': np.random.uniform(1e-3,10,size).tolist(),\n",
        "              #'alpha': np.random.uniform(1e-3,10,size).tolist(),\n",
        "              #'colsample_bytree': np.random.uniform(0.3,1,size).tolist(),\n",
        "              'learning_rate':[0.1, 0.001], #loguniform distribution\n",
        "              #'min_child_weight':np.random.randint(1,300,size).tolist()\n",
        "              }\n",
        "cls = XGBClassifier()\n",
        "clf = GridSearchCV(cls, param_grid)\n",
        "#print(clf.best_params_)\n",
        "\n",
        "clf_xgb = clf.fit(X_train,y_train)\n",
        "\n",
        "print(clf_xgb.best_params_)\n",
        "y_pred_xgb = clf_xgb.predict(X_test)\n",
        "print(classification_report(y_test, y_pred_xgb))\n",
        "\n",
        "\n",
        "_ = ConfusionMatrixDisplay.from_predictions(y_test, y_pred_xgb)"
      ]
    },
    {
      "cell_type": "code",
      "execution_count": 54,
      "metadata": {},
      "outputs": [
        {
          "name": "stdout",
          "output_type": "stream",
          "text": [
            "Fitting 10 folds for each of 15 candidates, totalling 150 fits\n"
          ]
        },
        {
          "name": "stderr",
          "output_type": "stream",
          "text": [
            "Exception ignored in: <function Booster.__del__ at 0x000001EFC6E618B0>\n",
            "Traceback (most recent call last):\n",
            "  File \"c:\\Users\\alber\\anaconda3\\lib\\site-packages\\xgboost\\core.py\", line 1422, in __del__\n",
            "    if hasattr(self, 'handle') and self.handle is not None:\n",
            "KeyboardInterrupt: \n"
          ]
        },
        {
          "ename": "KeyboardInterrupt",
          "evalue": "",
          "output_type": "error",
          "traceback": [
            "\u001b[1;31m---------------------------------------------------------------------------\u001b[0m",
            "\u001b[1;31mKeyboardInterrupt\u001b[0m                         Traceback (most recent call last)",
            "Cell \u001b[1;32mIn [54], line 10\u001b[0m\n\u001b[0;32m      6\u001b[0m grid \u001b[39m=\u001b[39m GridSearchCV(knn, param_grid, cv\u001b[39m=\u001b[39m\u001b[39m10\u001b[39m, scoring\u001b[39m=\u001b[39m\u001b[39m'\u001b[39m\u001b[39maccuracy\u001b[39m\u001b[39m'\u001b[39m, return_train_score\u001b[39m=\u001b[39m\u001b[39mFalse\u001b[39;00m, verbose\u001b[39m=\u001b[39m\u001b[39m1\u001b[39m)\n\u001b[0;32m      8\u001b[0m \u001b[39m# fitting the model for grid search\u001b[39;00m\n\u001b[1;32m---> 10\u001b[0m grid_search\u001b[39m=\u001b[39mgrid\u001b[39m.\u001b[39;49mfit(X_train, y_train)\n\u001b[0;32m     11\u001b[0m \u001b[39mprint\u001b[39m(grid_search\u001b[39m.\u001b[39mbest_params_)\n\u001b[0;32m     12\u001b[0m y_pred_knn \u001b[39m=\u001b[39m grid_search\u001b[39m.\u001b[39mbest_estimator_\u001b[39m.\u001b[39mpredict(X_test)\n",
            "File \u001b[1;32mc:\\Users\\alber\\anaconda3\\lib\\site-packages\\sklearn\\model_selection\\_search.py:891\u001b[0m, in \u001b[0;36mBaseSearchCV.fit\u001b[1;34m(self, X, y, groups, **fit_params)\u001b[0m\n\u001b[0;32m    885\u001b[0m     results \u001b[39m=\u001b[39m \u001b[39mself\u001b[39m\u001b[39m.\u001b[39m_format_results(\n\u001b[0;32m    886\u001b[0m         all_candidate_params, n_splits, all_out, all_more_results\n\u001b[0;32m    887\u001b[0m     )\n\u001b[0;32m    889\u001b[0m     \u001b[39mreturn\u001b[39;00m results\n\u001b[1;32m--> 891\u001b[0m \u001b[39mself\u001b[39;49m\u001b[39m.\u001b[39;49m_run_search(evaluate_candidates)\n\u001b[0;32m    893\u001b[0m \u001b[39m# multimetric is determined here because in the case of a callable\u001b[39;00m\n\u001b[0;32m    894\u001b[0m \u001b[39m# self.scoring the return type is only known after calling\u001b[39;00m\n\u001b[0;32m    895\u001b[0m first_test_score \u001b[39m=\u001b[39m all_out[\u001b[39m0\u001b[39m][\u001b[39m\"\u001b[39m\u001b[39mtest_scores\u001b[39m\u001b[39m\"\u001b[39m]\n",
            "File \u001b[1;32mc:\\Users\\alber\\anaconda3\\lib\\site-packages\\sklearn\\model_selection\\_search.py:1392\u001b[0m, in \u001b[0;36mGridSearchCV._run_search\u001b[1;34m(self, evaluate_candidates)\u001b[0m\n\u001b[0;32m   1390\u001b[0m \u001b[39mdef\u001b[39;00m \u001b[39m_run_search\u001b[39m(\u001b[39mself\u001b[39m, evaluate_candidates):\n\u001b[0;32m   1391\u001b[0m     \u001b[39m\"\"\"Search all candidates in param_grid\"\"\"\u001b[39;00m\n\u001b[1;32m-> 1392\u001b[0m     evaluate_candidates(ParameterGrid(\u001b[39mself\u001b[39;49m\u001b[39m.\u001b[39;49mparam_grid))\n",
            "File \u001b[1;32mc:\\Users\\alber\\anaconda3\\lib\\site-packages\\sklearn\\model_selection\\_search.py:838\u001b[0m, in \u001b[0;36mBaseSearchCV.fit.<locals>.evaluate_candidates\u001b[1;34m(candidate_params, cv, more_results)\u001b[0m\n\u001b[0;32m    830\u001b[0m \u001b[39mif\u001b[39;00m \u001b[39mself\u001b[39m\u001b[39m.\u001b[39mverbose \u001b[39m>\u001b[39m \u001b[39m0\u001b[39m:\n\u001b[0;32m    831\u001b[0m     \u001b[39mprint\u001b[39m(\n\u001b[0;32m    832\u001b[0m         \u001b[39m\"\u001b[39m\u001b[39mFitting \u001b[39m\u001b[39m{0}\u001b[39;00m\u001b[39m folds for each of \u001b[39m\u001b[39m{1}\u001b[39;00m\u001b[39m candidates,\u001b[39m\u001b[39m\"\u001b[39m\n\u001b[0;32m    833\u001b[0m         \u001b[39m\"\u001b[39m\u001b[39m totalling \u001b[39m\u001b[39m{2}\u001b[39;00m\u001b[39m fits\u001b[39m\u001b[39m\"\u001b[39m\u001b[39m.\u001b[39mformat(\n\u001b[0;32m    834\u001b[0m             n_splits, n_candidates, n_candidates \u001b[39m*\u001b[39m n_splits\n\u001b[0;32m    835\u001b[0m         )\n\u001b[0;32m    836\u001b[0m     )\n\u001b[1;32m--> 838\u001b[0m out \u001b[39m=\u001b[39m parallel(\n\u001b[0;32m    839\u001b[0m     delayed(_fit_and_score)(\n\u001b[0;32m    840\u001b[0m         clone(base_estimator),\n\u001b[0;32m    841\u001b[0m         X,\n\u001b[0;32m    842\u001b[0m         y,\n\u001b[0;32m    843\u001b[0m         train\u001b[39m=\u001b[39;49mtrain,\n\u001b[0;32m    844\u001b[0m         test\u001b[39m=\u001b[39;49mtest,\n\u001b[0;32m    845\u001b[0m         parameters\u001b[39m=\u001b[39;49mparameters,\n\u001b[0;32m    846\u001b[0m         split_progress\u001b[39m=\u001b[39;49m(split_idx, n_splits),\n\u001b[0;32m    847\u001b[0m         candidate_progress\u001b[39m=\u001b[39;49m(cand_idx, n_candidates),\n\u001b[0;32m    848\u001b[0m         \u001b[39m*\u001b[39;49m\u001b[39m*\u001b[39;49mfit_and_score_kwargs,\n\u001b[0;32m    849\u001b[0m     )\n\u001b[0;32m    850\u001b[0m     \u001b[39mfor\u001b[39;49;00m (cand_idx, parameters), (split_idx, (train, test)) \u001b[39min\u001b[39;49;00m product(\n\u001b[0;32m    851\u001b[0m         \u001b[39menumerate\u001b[39;49m(candidate_params), \u001b[39menumerate\u001b[39;49m(cv\u001b[39m.\u001b[39;49msplit(X, y, groups))\n\u001b[0;32m    852\u001b[0m     )\n\u001b[0;32m    853\u001b[0m )\n\u001b[0;32m    855\u001b[0m \u001b[39mif\u001b[39;00m \u001b[39mlen\u001b[39m(out) \u001b[39m<\u001b[39m \u001b[39m1\u001b[39m:\n\u001b[0;32m    856\u001b[0m     \u001b[39mraise\u001b[39;00m \u001b[39mValueError\u001b[39;00m(\n\u001b[0;32m    857\u001b[0m         \u001b[39m\"\u001b[39m\u001b[39mNo fits were performed. \u001b[39m\u001b[39m\"\u001b[39m\n\u001b[0;32m    858\u001b[0m         \u001b[39m\"\u001b[39m\u001b[39mWas the CV iterator empty? \u001b[39m\u001b[39m\"\u001b[39m\n\u001b[0;32m    859\u001b[0m         \u001b[39m\"\u001b[39m\u001b[39mWere there no candidates?\u001b[39m\u001b[39m\"\u001b[39m\n\u001b[0;32m    860\u001b[0m     )\n",
            "File \u001b[1;32mc:\\Users\\alber\\anaconda3\\lib\\site-packages\\joblib\\parallel.py:1051\u001b[0m, in \u001b[0;36mParallel.__call__\u001b[1;34m(self, iterable)\u001b[0m\n\u001b[0;32m   1048\u001b[0m \u001b[39mif\u001b[39;00m \u001b[39mself\u001b[39m\u001b[39m.\u001b[39mdispatch_one_batch(iterator):\n\u001b[0;32m   1049\u001b[0m     \u001b[39mself\u001b[39m\u001b[39m.\u001b[39m_iterating \u001b[39m=\u001b[39m \u001b[39mself\u001b[39m\u001b[39m.\u001b[39m_original_iterator \u001b[39mis\u001b[39;00m \u001b[39mnot\u001b[39;00m \u001b[39mNone\u001b[39;00m\n\u001b[1;32m-> 1051\u001b[0m \u001b[39mwhile\u001b[39;00m \u001b[39mself\u001b[39;49m\u001b[39m.\u001b[39;49mdispatch_one_batch(iterator):\n\u001b[0;32m   1052\u001b[0m     \u001b[39mpass\u001b[39;00m\n\u001b[0;32m   1054\u001b[0m \u001b[39mif\u001b[39;00m pre_dispatch \u001b[39m==\u001b[39m \u001b[39m\"\u001b[39m\u001b[39mall\u001b[39m\u001b[39m\"\u001b[39m \u001b[39mor\u001b[39;00m n_jobs \u001b[39m==\u001b[39m \u001b[39m1\u001b[39m:\n\u001b[0;32m   1055\u001b[0m     \u001b[39m# The iterable was consumed all at once by the above for loop.\u001b[39;00m\n\u001b[0;32m   1056\u001b[0m     \u001b[39m# No need to wait for async callbacks to trigger to\u001b[39;00m\n\u001b[0;32m   1057\u001b[0m     \u001b[39m# consumption.\u001b[39;00m\n",
            "File \u001b[1;32mc:\\Users\\alber\\anaconda3\\lib\\site-packages\\joblib\\parallel.py:864\u001b[0m, in \u001b[0;36mParallel.dispatch_one_batch\u001b[1;34m(self, iterator)\u001b[0m\n\u001b[0;32m    862\u001b[0m     \u001b[39mreturn\u001b[39;00m \u001b[39mFalse\u001b[39;00m\n\u001b[0;32m    863\u001b[0m \u001b[39melse\u001b[39;00m:\n\u001b[1;32m--> 864\u001b[0m     \u001b[39mself\u001b[39;49m\u001b[39m.\u001b[39;49m_dispatch(tasks)\n\u001b[0;32m    865\u001b[0m     \u001b[39mreturn\u001b[39;00m \u001b[39mTrue\u001b[39;00m\n",
            "File \u001b[1;32mc:\\Users\\alber\\anaconda3\\lib\\site-packages\\joblib\\parallel.py:782\u001b[0m, in \u001b[0;36mParallel._dispatch\u001b[1;34m(self, batch)\u001b[0m\n\u001b[0;32m    780\u001b[0m \u001b[39mwith\u001b[39;00m \u001b[39mself\u001b[39m\u001b[39m.\u001b[39m_lock:\n\u001b[0;32m    781\u001b[0m     job_idx \u001b[39m=\u001b[39m \u001b[39mlen\u001b[39m(\u001b[39mself\u001b[39m\u001b[39m.\u001b[39m_jobs)\n\u001b[1;32m--> 782\u001b[0m     job \u001b[39m=\u001b[39m \u001b[39mself\u001b[39;49m\u001b[39m.\u001b[39;49m_backend\u001b[39m.\u001b[39;49mapply_async(batch, callback\u001b[39m=\u001b[39;49mcb)\n\u001b[0;32m    783\u001b[0m     \u001b[39m# A job can complete so quickly than its callback is\u001b[39;00m\n\u001b[0;32m    784\u001b[0m     \u001b[39m# called before we get here, causing self._jobs to\u001b[39;00m\n\u001b[0;32m    785\u001b[0m     \u001b[39m# grow. To ensure correct results ordering, .insert is\u001b[39;00m\n\u001b[0;32m    786\u001b[0m     \u001b[39m# used (rather than .append) in the following line\u001b[39;00m\n\u001b[0;32m    787\u001b[0m     \u001b[39mself\u001b[39m\u001b[39m.\u001b[39m_jobs\u001b[39m.\u001b[39minsert(job_idx, job)\n",
            "File \u001b[1;32mc:\\Users\\alber\\anaconda3\\lib\\site-packages\\joblib\\_parallel_backends.py:208\u001b[0m, in \u001b[0;36mSequentialBackend.apply_async\u001b[1;34m(self, func, callback)\u001b[0m\n\u001b[0;32m    206\u001b[0m \u001b[39mdef\u001b[39;00m \u001b[39mapply_async\u001b[39m(\u001b[39mself\u001b[39m, func, callback\u001b[39m=\u001b[39m\u001b[39mNone\u001b[39;00m):\n\u001b[0;32m    207\u001b[0m     \u001b[39m\"\"\"Schedule a func to be run\"\"\"\u001b[39;00m\n\u001b[1;32m--> 208\u001b[0m     result \u001b[39m=\u001b[39m ImmediateResult(func)\n\u001b[0;32m    209\u001b[0m     \u001b[39mif\u001b[39;00m callback:\n\u001b[0;32m    210\u001b[0m         callback(result)\n",
            "File \u001b[1;32mc:\\Users\\alber\\anaconda3\\lib\\site-packages\\joblib\\_parallel_backends.py:572\u001b[0m, in \u001b[0;36mImmediateResult.__init__\u001b[1;34m(self, batch)\u001b[0m\n\u001b[0;32m    569\u001b[0m \u001b[39mdef\u001b[39;00m \u001b[39m__init__\u001b[39m(\u001b[39mself\u001b[39m, batch):\n\u001b[0;32m    570\u001b[0m     \u001b[39m# Don't delay the application, to avoid keeping the input\u001b[39;00m\n\u001b[0;32m    571\u001b[0m     \u001b[39m# arguments in memory\u001b[39;00m\n\u001b[1;32m--> 572\u001b[0m     \u001b[39mself\u001b[39m\u001b[39m.\u001b[39mresults \u001b[39m=\u001b[39m batch()\n",
            "File \u001b[1;32mc:\\Users\\alber\\anaconda3\\lib\\site-packages\\joblib\\parallel.py:263\u001b[0m, in \u001b[0;36mBatchedCalls.__call__\u001b[1;34m(self)\u001b[0m\n\u001b[0;32m    259\u001b[0m \u001b[39mdef\u001b[39;00m \u001b[39m__call__\u001b[39m(\u001b[39mself\u001b[39m):\n\u001b[0;32m    260\u001b[0m     \u001b[39m# Set the default nested backend to self._backend but do not set the\u001b[39;00m\n\u001b[0;32m    261\u001b[0m     \u001b[39m# change the default number of processes to -1\u001b[39;00m\n\u001b[0;32m    262\u001b[0m     \u001b[39mwith\u001b[39;00m parallel_backend(\u001b[39mself\u001b[39m\u001b[39m.\u001b[39m_backend, n_jobs\u001b[39m=\u001b[39m\u001b[39mself\u001b[39m\u001b[39m.\u001b[39m_n_jobs):\n\u001b[1;32m--> 263\u001b[0m         \u001b[39mreturn\u001b[39;00m [func(\u001b[39m*\u001b[39margs, \u001b[39m*\u001b[39m\u001b[39m*\u001b[39mkwargs)\n\u001b[0;32m    264\u001b[0m                 \u001b[39mfor\u001b[39;00m func, args, kwargs \u001b[39min\u001b[39;00m \u001b[39mself\u001b[39m\u001b[39m.\u001b[39mitems]\n",
            "File \u001b[1;32mc:\\Users\\alber\\anaconda3\\lib\\site-packages\\joblib\\parallel.py:263\u001b[0m, in \u001b[0;36m<listcomp>\u001b[1;34m(.0)\u001b[0m\n\u001b[0;32m    259\u001b[0m \u001b[39mdef\u001b[39;00m \u001b[39m__call__\u001b[39m(\u001b[39mself\u001b[39m):\n\u001b[0;32m    260\u001b[0m     \u001b[39m# Set the default nested backend to self._backend but do not set the\u001b[39;00m\n\u001b[0;32m    261\u001b[0m     \u001b[39m# change the default number of processes to -1\u001b[39;00m\n\u001b[0;32m    262\u001b[0m     \u001b[39mwith\u001b[39;00m parallel_backend(\u001b[39mself\u001b[39m\u001b[39m.\u001b[39m_backend, n_jobs\u001b[39m=\u001b[39m\u001b[39mself\u001b[39m\u001b[39m.\u001b[39m_n_jobs):\n\u001b[1;32m--> 263\u001b[0m         \u001b[39mreturn\u001b[39;00m [func(\u001b[39m*\u001b[39margs, \u001b[39m*\u001b[39m\u001b[39m*\u001b[39mkwargs)\n\u001b[0;32m    264\u001b[0m                 \u001b[39mfor\u001b[39;00m func, args, kwargs \u001b[39min\u001b[39;00m \u001b[39mself\u001b[39m\u001b[39m.\u001b[39mitems]\n",
            "File \u001b[1;32mc:\\Users\\alber\\anaconda3\\lib\\site-packages\\sklearn\\utils\\fixes.py:216\u001b[0m, in \u001b[0;36m_FuncWrapper.__call__\u001b[1;34m(self, *args, **kwargs)\u001b[0m\n\u001b[0;32m    214\u001b[0m \u001b[39mdef\u001b[39;00m \u001b[39m__call__\u001b[39m(\u001b[39mself\u001b[39m, \u001b[39m*\u001b[39margs, \u001b[39m*\u001b[39m\u001b[39m*\u001b[39mkwargs):\n\u001b[0;32m    215\u001b[0m     \u001b[39mwith\u001b[39;00m config_context(\u001b[39m*\u001b[39m\u001b[39m*\u001b[39m\u001b[39mself\u001b[39m\u001b[39m.\u001b[39mconfig):\n\u001b[1;32m--> 216\u001b[0m         \u001b[39mreturn\u001b[39;00m \u001b[39mself\u001b[39m\u001b[39m.\u001b[39mfunction(\u001b[39m*\u001b[39margs, \u001b[39m*\u001b[39m\u001b[39m*\u001b[39mkwargs)\n",
            "File \u001b[1;32mc:\\Users\\alber\\anaconda3\\lib\\site-packages\\sklearn\\model_selection\\_validation.py:702\u001b[0m, in \u001b[0;36m_fit_and_score\u001b[1;34m(estimator, X, y, scorer, train, test, verbose, parameters, fit_params, return_train_score, return_parameters, return_n_test_samples, return_times, return_estimator, split_progress, candidate_progress, error_score)\u001b[0m\n\u001b[0;32m    699\u001b[0m result[\u001b[39m\"\u001b[39m\u001b[39mfit_error\u001b[39m\u001b[39m\"\u001b[39m] \u001b[39m=\u001b[39m \u001b[39mNone\u001b[39;00m\n\u001b[0;32m    701\u001b[0m fit_time \u001b[39m=\u001b[39m time\u001b[39m.\u001b[39mtime() \u001b[39m-\u001b[39m start_time\n\u001b[1;32m--> 702\u001b[0m test_scores \u001b[39m=\u001b[39m _score(estimator, X_test, y_test, scorer, error_score)\n\u001b[0;32m    703\u001b[0m score_time \u001b[39m=\u001b[39m time\u001b[39m.\u001b[39mtime() \u001b[39m-\u001b[39m start_time \u001b[39m-\u001b[39m fit_time\n\u001b[0;32m    704\u001b[0m \u001b[39mif\u001b[39;00m return_train_score:\n",
            "File \u001b[1;32mc:\\Users\\alber\\anaconda3\\lib\\site-packages\\sklearn\\model_selection\\_validation.py:761\u001b[0m, in \u001b[0;36m_score\u001b[1;34m(estimator, X_test, y_test, scorer, error_score)\u001b[0m\n\u001b[0;32m    759\u001b[0m         scores \u001b[39m=\u001b[39m scorer(estimator, X_test)\n\u001b[0;32m    760\u001b[0m     \u001b[39melse\u001b[39;00m:\n\u001b[1;32m--> 761\u001b[0m         scores \u001b[39m=\u001b[39m scorer(estimator, X_test, y_test)\n\u001b[0;32m    762\u001b[0m \u001b[39mexcept\u001b[39;00m \u001b[39mException\u001b[39;00m:\n\u001b[0;32m    763\u001b[0m     \u001b[39mif\u001b[39;00m error_score \u001b[39m==\u001b[39m \u001b[39m\"\u001b[39m\u001b[39mraise\u001b[39m\u001b[39m\"\u001b[39m:\n",
            "File \u001b[1;32mc:\\Users\\alber\\anaconda3\\lib\\site-packages\\sklearn\\metrics\\_scorer.py:216\u001b[0m, in \u001b[0;36m_BaseScorer.__call__\u001b[1;34m(self, estimator, X, y_true, sample_weight)\u001b[0m\n\u001b[0;32m    193\u001b[0m \u001b[39mdef\u001b[39;00m \u001b[39m__call__\u001b[39m(\u001b[39mself\u001b[39m, estimator, X, y_true, sample_weight\u001b[39m=\u001b[39m\u001b[39mNone\u001b[39;00m):\n\u001b[0;32m    194\u001b[0m     \u001b[39m\"\"\"Evaluate predicted target values for X relative to y_true.\u001b[39;00m\n\u001b[0;32m    195\u001b[0m \n\u001b[0;32m    196\u001b[0m \u001b[39m    Parameters\u001b[39;00m\n\u001b[1;32m   (...)\u001b[0m\n\u001b[0;32m    214\u001b[0m \u001b[39m        Score function applied to prediction of estimator on X.\u001b[39;00m\n\u001b[0;32m    215\u001b[0m \u001b[39m    \"\"\"\u001b[39;00m\n\u001b[1;32m--> 216\u001b[0m     \u001b[39mreturn\u001b[39;00m \u001b[39mself\u001b[39;49m\u001b[39m.\u001b[39;49m_score(\n\u001b[0;32m    217\u001b[0m         partial(_cached_call, \u001b[39mNone\u001b[39;49;00m),\n\u001b[0;32m    218\u001b[0m         estimator,\n\u001b[0;32m    219\u001b[0m         X,\n\u001b[0;32m    220\u001b[0m         y_true,\n\u001b[0;32m    221\u001b[0m         sample_weight\u001b[39m=\u001b[39;49msample_weight,\n\u001b[0;32m    222\u001b[0m     )\n",
            "File \u001b[1;32mc:\\Users\\alber\\anaconda3\\lib\\site-packages\\sklearn\\metrics\\_scorer.py:258\u001b[0m, in \u001b[0;36m_PredictScorer._score\u001b[1;34m(self, method_caller, estimator, X, y_true, sample_weight)\u001b[0m\n\u001b[0;32m    230\u001b[0m \u001b[39mdef\u001b[39;00m \u001b[39m_score\u001b[39m(\u001b[39mself\u001b[39m, method_caller, estimator, X, y_true, sample_weight\u001b[39m=\u001b[39m\u001b[39mNone\u001b[39;00m):\n\u001b[0;32m    231\u001b[0m     \u001b[39m\"\"\"Evaluate predicted target values for X relative to y_true.\u001b[39;00m\n\u001b[0;32m    232\u001b[0m \n\u001b[0;32m    233\u001b[0m \u001b[39m    Parameters\u001b[39;00m\n\u001b[1;32m   (...)\u001b[0m\n\u001b[0;32m    255\u001b[0m \u001b[39m        Score function applied to prediction of estimator on X.\u001b[39;00m\n\u001b[0;32m    256\u001b[0m \u001b[39m    \"\"\"\u001b[39;00m\n\u001b[1;32m--> 258\u001b[0m     y_pred \u001b[39m=\u001b[39m method_caller(estimator, \u001b[39m\"\u001b[39;49m\u001b[39mpredict\u001b[39;49m\u001b[39m\"\u001b[39;49m, X)\n\u001b[0;32m    259\u001b[0m     \u001b[39mif\u001b[39;00m sample_weight \u001b[39mis\u001b[39;00m \u001b[39mnot\u001b[39;00m \u001b[39mNone\u001b[39;00m:\n\u001b[0;32m    260\u001b[0m         \u001b[39mreturn\u001b[39;00m \u001b[39mself\u001b[39m\u001b[39m.\u001b[39m_sign \u001b[39m*\u001b[39m \u001b[39mself\u001b[39m\u001b[39m.\u001b[39m_score_func(\n\u001b[0;32m    261\u001b[0m             y_true, y_pred, sample_weight\u001b[39m=\u001b[39msample_weight, \u001b[39m*\u001b[39m\u001b[39m*\u001b[39m\u001b[39mself\u001b[39m\u001b[39m.\u001b[39m_kwargs\n\u001b[0;32m    262\u001b[0m         )\n",
            "File \u001b[1;32mc:\\Users\\alber\\anaconda3\\lib\\site-packages\\sklearn\\metrics\\_scorer.py:68\u001b[0m, in \u001b[0;36m_cached_call\u001b[1;34m(cache, estimator, method, *args, **kwargs)\u001b[0m\n\u001b[0;32m     66\u001b[0m \u001b[39m\"\"\"Call estimator with method and args and kwargs.\"\"\"\u001b[39;00m\n\u001b[0;32m     67\u001b[0m \u001b[39mif\u001b[39;00m cache \u001b[39mis\u001b[39;00m \u001b[39mNone\u001b[39;00m:\n\u001b[1;32m---> 68\u001b[0m     \u001b[39mreturn\u001b[39;00m \u001b[39mgetattr\u001b[39m(estimator, method)(\u001b[39m*\u001b[39margs, \u001b[39m*\u001b[39m\u001b[39m*\u001b[39mkwargs)\n\u001b[0;32m     70\u001b[0m \u001b[39mtry\u001b[39;00m:\n\u001b[0;32m     71\u001b[0m     \u001b[39mreturn\u001b[39;00m cache[method]\n",
            "File \u001b[1;32mc:\\Users\\alber\\anaconda3\\lib\\site-packages\\sklearn\\neighbors\\_classification.py:214\u001b[0m, in \u001b[0;36mKNeighborsClassifier.predict\u001b[1;34m(self, X)\u001b[0m\n\u001b[0;32m    200\u001b[0m \u001b[39mdef\u001b[39;00m \u001b[39mpredict\u001b[39m(\u001b[39mself\u001b[39m, X):\n\u001b[0;32m    201\u001b[0m     \u001b[39m\"\"\"Predict the class labels for the provided data.\u001b[39;00m\n\u001b[0;32m    202\u001b[0m \n\u001b[0;32m    203\u001b[0m \u001b[39m    Parameters\u001b[39;00m\n\u001b[1;32m   (...)\u001b[0m\n\u001b[0;32m    212\u001b[0m \u001b[39m        Class labels for each data sample.\u001b[39;00m\n\u001b[0;32m    213\u001b[0m \u001b[39m    \"\"\"\u001b[39;00m\n\u001b[1;32m--> 214\u001b[0m     neigh_dist, neigh_ind \u001b[39m=\u001b[39m \u001b[39mself\u001b[39;49m\u001b[39m.\u001b[39;49mkneighbors(X)\n\u001b[0;32m    215\u001b[0m     classes_ \u001b[39m=\u001b[39m \u001b[39mself\u001b[39m\u001b[39m.\u001b[39mclasses_\n\u001b[0;32m    216\u001b[0m     _y \u001b[39m=\u001b[39m \u001b[39mself\u001b[39m\u001b[39m.\u001b[39m_y\n",
            "File \u001b[1;32mc:\\Users\\alber\\anaconda3\\lib\\site-packages\\sklearn\\neighbors\\_base.py:752\u001b[0m, in \u001b[0;36mKNeighborsMixin.kneighbors\u001b[1;34m(self, X, n_neighbors, return_distance)\u001b[0m\n\u001b[0;32m    749\u001b[0m     \u001b[39melse\u001b[39;00m:\n\u001b[0;32m    750\u001b[0m         kwds \u001b[39m=\u001b[39m \u001b[39mself\u001b[39m\u001b[39m.\u001b[39meffective_metric_params_\n\u001b[1;32m--> 752\u001b[0m     chunked_results \u001b[39m=\u001b[39m \u001b[39mlist\u001b[39;49m(\n\u001b[0;32m    753\u001b[0m         pairwise_distances_chunked(\n\u001b[0;32m    754\u001b[0m             X,\n\u001b[0;32m    755\u001b[0m             \u001b[39mself\u001b[39;49m\u001b[39m.\u001b[39;49m_fit_X,\n\u001b[0;32m    756\u001b[0m             reduce_func\u001b[39m=\u001b[39;49mreduce_func,\n\u001b[0;32m    757\u001b[0m             metric\u001b[39m=\u001b[39;49m\u001b[39mself\u001b[39;49m\u001b[39m.\u001b[39;49meffective_metric_,\n\u001b[0;32m    758\u001b[0m             n_jobs\u001b[39m=\u001b[39;49mn_jobs,\n\u001b[0;32m    759\u001b[0m             \u001b[39m*\u001b[39;49m\u001b[39m*\u001b[39;49mkwds,\n\u001b[0;32m    760\u001b[0m         )\n\u001b[0;32m    761\u001b[0m     )\n\u001b[0;32m    763\u001b[0m \u001b[39melif\u001b[39;00m \u001b[39mself\u001b[39m\u001b[39m.\u001b[39m_fit_method \u001b[39min\u001b[39;00m [\u001b[39m\"\u001b[39m\u001b[39mball_tree\u001b[39m\u001b[39m\"\u001b[39m, \u001b[39m\"\u001b[39m\u001b[39mkd_tree\u001b[39m\u001b[39m\"\u001b[39m]:\n\u001b[0;32m    764\u001b[0m     \u001b[39mif\u001b[39;00m issparse(X):\n",
            "File \u001b[1;32mc:\\Users\\alber\\anaconda3\\lib\\site-packages\\sklearn\\metrics\\pairwise.py:1717\u001b[0m, in \u001b[0;36mpairwise_distances_chunked\u001b[1;34m(X, Y, reduce_func, metric, n_jobs, working_memory, **kwds)\u001b[0m\n\u001b[0;32m   1715\u001b[0m \u001b[39melse\u001b[39;00m:\n\u001b[0;32m   1716\u001b[0m     X_chunk \u001b[39m=\u001b[39m X[sl]\n\u001b[1;32m-> 1717\u001b[0m D_chunk \u001b[39m=\u001b[39m pairwise_distances(X_chunk, Y, metric\u001b[39m=\u001b[39mmetric, n_jobs\u001b[39m=\u001b[39mn_jobs, \u001b[39m*\u001b[39m\u001b[39m*\u001b[39mkwds)\n\u001b[0;32m   1718\u001b[0m \u001b[39mif\u001b[39;00m (X \u001b[39mis\u001b[39;00m Y \u001b[39mor\u001b[39;00m Y \u001b[39mis\u001b[39;00m \u001b[39mNone\u001b[39;00m) \u001b[39mand\u001b[39;00m PAIRWISE_DISTANCE_FUNCTIONS\u001b[39m.\u001b[39mget(\n\u001b[0;32m   1719\u001b[0m     metric, \u001b[39mNone\u001b[39;00m\n\u001b[0;32m   1720\u001b[0m ) \u001b[39mis\u001b[39;00m euclidean_distances:\n\u001b[0;32m   1721\u001b[0m     \u001b[39m# zeroing diagonal, taking care of aliases of \"euclidean\",\u001b[39;00m\n\u001b[0;32m   1722\u001b[0m     \u001b[39m# i.e. \"l2\"\u001b[39;00m\n\u001b[0;32m   1723\u001b[0m     D_chunk\u001b[39m.\u001b[39mflat[sl\u001b[39m.\u001b[39mstart :: _num_samples(X) \u001b[39m+\u001b[39m \u001b[39m1\u001b[39m] \u001b[39m=\u001b[39m \u001b[39m0\u001b[39m\n",
            "File \u001b[1;32mc:\\Users\\alber\\anaconda3\\lib\\site-packages\\sklearn\\metrics\\pairwise.py:1889\u001b[0m, in \u001b[0;36mpairwise_distances\u001b[1;34m(X, Y, metric, n_jobs, force_all_finite, **kwds)\u001b[0m\n\u001b[0;32m   1886\u001b[0m         \u001b[39mreturn\u001b[39;00m distance\u001b[39m.\u001b[39msquareform(distance\u001b[39m.\u001b[39mpdist(X, metric\u001b[39m=\u001b[39mmetric, \u001b[39m*\u001b[39m\u001b[39m*\u001b[39mkwds))\n\u001b[0;32m   1887\u001b[0m     func \u001b[39m=\u001b[39m partial(distance\u001b[39m.\u001b[39mcdist, metric\u001b[39m=\u001b[39mmetric, \u001b[39m*\u001b[39m\u001b[39m*\u001b[39mkwds)\n\u001b[1;32m-> 1889\u001b[0m \u001b[39mreturn\u001b[39;00m _parallel_pairwise(X, Y, func, n_jobs, \u001b[39m*\u001b[39m\u001b[39m*\u001b[39mkwds)\n",
            "File \u001b[1;32mc:\\Users\\alber\\anaconda3\\lib\\site-packages\\sklearn\\metrics\\pairwise.py:1430\u001b[0m, in \u001b[0;36m_parallel_pairwise\u001b[1;34m(X, Y, func, n_jobs, **kwds)\u001b[0m\n\u001b[0;32m   1427\u001b[0m X, Y, dtype \u001b[39m=\u001b[39m _return_float_dtype(X, Y)\n\u001b[0;32m   1429\u001b[0m \u001b[39mif\u001b[39;00m effective_n_jobs(n_jobs) \u001b[39m==\u001b[39m \u001b[39m1\u001b[39m:\n\u001b[1;32m-> 1430\u001b[0m     \u001b[39mreturn\u001b[39;00m func(X, Y, \u001b[39m*\u001b[39m\u001b[39m*\u001b[39mkwds)\n\u001b[0;32m   1432\u001b[0m \u001b[39m# enforce a threading backend to prevent data communication overhead\u001b[39;00m\n\u001b[0;32m   1433\u001b[0m fd \u001b[39m=\u001b[39m delayed(_dist_wrapper)\n",
            "File \u001b[1;32mc:\\Users\\alber\\anaconda3\\lib\\site-packages\\sklearn\\metrics\\pairwise.py:330\u001b[0m, in \u001b[0;36meuclidean_distances\u001b[1;34m(X, Y, Y_norm_squared, squared, X_norm_squared)\u001b[0m\n\u001b[0;32m    324\u001b[0m     \u001b[39mif\u001b[39;00m Y_norm_squared\u001b[39m.\u001b[39mshape \u001b[39m!=\u001b[39m (\u001b[39m1\u001b[39m, Y\u001b[39m.\u001b[39mshape[\u001b[39m0\u001b[39m]):\n\u001b[0;32m    325\u001b[0m         \u001b[39mraise\u001b[39;00m \u001b[39mValueError\u001b[39;00m(\n\u001b[0;32m    326\u001b[0m             \u001b[39mf\u001b[39m\u001b[39m\"\u001b[39m\u001b[39mIncompatible dimensions for Y of shape \u001b[39m\u001b[39m{\u001b[39;00mY\u001b[39m.\u001b[39mshape\u001b[39m}\u001b[39;00m\u001b[39m and \u001b[39m\u001b[39m\"\u001b[39m\n\u001b[0;32m    327\u001b[0m             \u001b[39mf\u001b[39m\u001b[39m\"\u001b[39m\u001b[39mY_norm_squared of shape \u001b[39m\u001b[39m{\u001b[39;00moriginal_shape\u001b[39m}\u001b[39;00m\u001b[39m.\u001b[39m\u001b[39m\"\u001b[39m\n\u001b[0;32m    328\u001b[0m         )\n\u001b[1;32m--> 330\u001b[0m \u001b[39mreturn\u001b[39;00m _euclidean_distances(X, Y, X_norm_squared, Y_norm_squared, squared)\n",
            "File \u001b[1;32mc:\\Users\\alber\\anaconda3\\lib\\site-packages\\sklearn\\metrics\\pairwise.py:373\u001b[0m, in \u001b[0;36m_euclidean_distances\u001b[1;34m(X, Y, X_norm_squared, Y_norm_squared, squared)\u001b[0m\n\u001b[0;32m    371\u001b[0m     distances \u001b[39m=\u001b[39m \u001b[39m-\u001b[39m\u001b[39m2\u001b[39m \u001b[39m*\u001b[39m safe_sparse_dot(X, Y\u001b[39m.\u001b[39mT, dense_output\u001b[39m=\u001b[39m\u001b[39mTrue\u001b[39;00m)\n\u001b[0;32m    372\u001b[0m     distances \u001b[39m+\u001b[39m\u001b[39m=\u001b[39m XX\n\u001b[1;32m--> 373\u001b[0m     distances \u001b[39m+\u001b[39m\u001b[39m=\u001b[39m YY\n\u001b[0;32m    374\u001b[0m np\u001b[39m.\u001b[39mmaximum(distances, \u001b[39m0\u001b[39m, out\u001b[39m=\u001b[39mdistances)\n\u001b[0;32m    376\u001b[0m \u001b[39m# Ensure that distances between vectors and themselves are set to 0.0.\u001b[39;00m\n\u001b[0;32m    377\u001b[0m \u001b[39m# This may not be the case due to floating point rounding errors.\u001b[39;00m\n",
            "\u001b[1;31mKeyboardInterrupt\u001b[0m: "
          ]
        }
      ],
      "source": [
        "#k_range = list(range(5, 10))\n",
        "\n",
        "param_grid = {'n_neighbors':[8, 10, 14], 'metric' : ['manhattan', 'l2', 'l1', 'euclidean', 'cosine']}\n",
        "knn = neighbors.KNeighborsClassifier()\n",
        "# defining parameter range\n",
        "grid = GridSearchCV(knn, param_grid, cv=10, scoring='accuracy', return_train_score=False, verbose=1)\n",
        "\n",
        "# fitting the model for grid search\n",
        "\n",
        "grid_search=grid.fit(X_train, y_train)\n",
        "print(grid_search.best_params_)\n",
        "y_pred_knn = grid_search.best_estimator_.predict(X_test)\n",
        "print(classification_report(y_test, y_pred_knn))\n",
        "\n",
        "_ = ConfusionMatrixDisplay.from_predictions(y_test, y_pred_knn)"
      ]
    },
    {
      "cell_type": "code",
      "execution_count": null,
      "metadata": {},
      "outputs": [],
      "source": [
        "cls_mlp = MLPClassifier( \n",
        "    hidden_layer_sizes=(5,3)    \n",
        "    )\n",
        "\n",
        "param_grid_mlp = {'activation':['identity', 'logistic', 'tanh', 'relu'], 'learning_rate_init':(0.001, 0.005, 0.01)}\n",
        "\n",
        "classifier = GridSearchCV(cls_mlp, param_grid_mlp)\n",
        "clf_mlp = classifier.fit(X_train,y_train)\n",
        "print(clf_mlp.best_params_)\n",
        "y_pred_mlp = clf_mlp.best_estimator_.predict(X_test)\n",
        "print(classification_report(y_test, y_pred_mlp))\n",
        "_ = ConfusionMatrixDisplay.from_predictions(y_test, y_pred_mlp)"
      ]
    },
    {
      "cell_type": "code",
      "execution_count": null,
      "metadata": {
        "id": "wu1cUj5RnvMn"
      },
      "outputs": [],
      "source": [
        "#from sklearn.model_selection import cross_val_score\n",
        "#scores = cross_val_score(classifier, X_train, y_train, cv=10)\n",
        "#print(scores)"
      ]
    }
  ],
  "metadata": {
    "colab": {
      "provenance": []
    },
    "kernelspec": {
      "display_name": "Python 3.9.12 ('base')",
      "language": "python",
      "name": "python3"
    },
    "language_info": {
      "codemirror_mode": {
        "name": "ipython",
        "version": 3
      },
      "file_extension": ".py",
      "mimetype": "text/x-python",
      "name": "python",
      "nbconvert_exporter": "python",
      "pygments_lexer": "ipython3",
      "version": "3.9.12"
    },
    "vscode": {
      "interpreter": {
        "hash": "7c39e21a772e99c1a7e3fb7ef3402580462d255e64df51b314942f2f47217269"
      }
    }
  },
  "nbformat": 4,
  "nbformat_minor": 0
}
