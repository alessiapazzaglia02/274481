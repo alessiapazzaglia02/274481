{
  "cells": [
    {
      "cell_type": "markdown",
      "metadata": {},
      "source": [
        "PRELIMINARY STEP: import libraries"
      ]
    },
    {
      "cell_type": "code",
      "execution_count": 2,
      "metadata": {},
      "outputs": [],
      "source": [
        "import pandas as pd\n",
        "import numpy as np\n",
        "import matplotlib.pyplot as plt\n",
        "import seaborn as sns\n",
        "%matplotlib inline"
      ]
    },
    {
      "cell_type": "markdown",
      "metadata": {},
      "source": [
        "Reading the dataset thanks to the built-in function in pandas."
      ]
    },
    {
      "cell_type": "code",
      "execution_count": 3,
      "metadata": {},
      "outputs": [],
      "source": [
        "ds = pd.read_csv(\"./credit_prediction.csv\") #open and read the file using pandas"
      ]
    },
    {
      "cell_type": "code",
      "execution_count": 4,
      "metadata": {},
      "outputs": [
        {
          "data": {
            "text/html": [
              "<div>\n",
              "<style scoped>\n",
              "    .dataframe tbody tr th:only-of-type {\n",
              "        vertical-align: middle;\n",
              "    }\n",
              "\n",
              "    .dataframe tbody tr th {\n",
              "        vertical-align: top;\n",
              "    }\n",
              "\n",
              "    .dataframe thead th {\n",
              "        text-align: right;\n",
              "    }\n",
              "</style>\n",
              "<table border=\"1\" class=\"dataframe\">\n",
              "  <thead>\n",
              "    <tr style=\"text-align: right;\">\n",
              "      <th></th>\n",
              "      <th>id</th>\n",
              "      <th>Age</th>\n",
              "      <th>Occupation</th>\n",
              "      <th>Annual_Income</th>\n",
              "      <th>Monthly_Inhand_Salary</th>\n",
              "      <th>Num_Bank_Accounts</th>\n",
              "      <th>Num_Credit_Card</th>\n",
              "      <th>Interest_Rate</th>\n",
              "      <th>Num_of_Loan</th>\n",
              "      <th>Type_of_Loan</th>\n",
              "      <th>...</th>\n",
              "      <th>Num_Credit_Inquiries</th>\n",
              "      <th>Credit_Mix</th>\n",
              "      <th>Outstanding_Debt</th>\n",
              "      <th>Credit_Utilization_Ratio</th>\n",
              "      <th>Credit_History_Age</th>\n",
              "      <th>Payment_of_Min_Amount</th>\n",
              "      <th>Amount_invested_monthly</th>\n",
              "      <th>Payment_Behaviour</th>\n",
              "      <th>Monthly_Balance</th>\n",
              "      <th>Credit_Score</th>\n",
              "    </tr>\n",
              "  </thead>\n",
              "  <tbody>\n",
              "    <tr>\n",
              "      <th>0</th>\n",
              "      <td>0</td>\n",
              "      <td>23.0</td>\n",
              "      <td>Scientist</td>\n",
              "      <td>19114.12</td>\n",
              "      <td>1824.843333</td>\n",
              "      <td>3.0</td>\n",
              "      <td>4.0</td>\n",
              "      <td>3.0</td>\n",
              "      <td>4.0</td>\n",
              "      <td>Auto Loan, Credit-Builder Loan, Personal Loan,...</td>\n",
              "      <td>...</td>\n",
              "      <td>4.0</td>\n",
              "      <td>Good</td>\n",
              "      <td>809.98</td>\n",
              "      <td>26.822620</td>\n",
              "      <td>265.0</td>\n",
              "      <td>No</td>\n",
              "      <td>80.415295</td>\n",
              "      <td>NaN</td>\n",
              "      <td>312.494089</td>\n",
              "      <td>Good</td>\n",
              "    </tr>\n",
              "    <tr>\n",
              "      <th>1</th>\n",
              "      <td>1</td>\n",
              "      <td>23.0</td>\n",
              "      <td>Scientist</td>\n",
              "      <td>NaN</td>\n",
              "      <td>1824.843333</td>\n",
              "      <td>3.0</td>\n",
              "      <td>4.0</td>\n",
              "      <td>3.0</td>\n",
              "      <td>4.0</td>\n",
              "      <td>Auto Loan, Credit-Builder Loan, Personal Loan,...</td>\n",
              "      <td>...</td>\n",
              "      <td>4.0</td>\n",
              "      <td>Good</td>\n",
              "      <td>809.98</td>\n",
              "      <td>NaN</td>\n",
              "      <td>266.0</td>\n",
              "      <td>No</td>\n",
              "      <td>118.280222</td>\n",
              "      <td>Low_spent_Large_value_payments</td>\n",
              "      <td>284.629162</td>\n",
              "      <td>Good</td>\n",
              "    </tr>\n",
              "    <tr>\n",
              "      <th>2</th>\n",
              "      <td>2</td>\n",
              "      <td>23.0</td>\n",
              "      <td>Scientist</td>\n",
              "      <td>19114.12</td>\n",
              "      <td>1824.843333</td>\n",
              "      <td>3.0</td>\n",
              "      <td>4.0</td>\n",
              "      <td>3.0</td>\n",
              "      <td>NaN</td>\n",
              "      <td>Auto Loan, Credit-Builder Loan, Personal Loan,...</td>\n",
              "      <td>...</td>\n",
              "      <td>4.0</td>\n",
              "      <td>Good</td>\n",
              "      <td>809.98</td>\n",
              "      <td>28.609352</td>\n",
              "      <td>267.0</td>\n",
              "      <td>No</td>\n",
              "      <td>81.699521</td>\n",
              "      <td>Low_spent_Medium_value_payments</td>\n",
              "      <td>331.209863</td>\n",
              "      <td>Good</td>\n",
              "    </tr>\n",
              "    <tr>\n",
              "      <th>3</th>\n",
              "      <td>3</td>\n",
              "      <td>23.0</td>\n",
              "      <td>Scientist</td>\n",
              "      <td>19114.12</td>\n",
              "      <td>1824.843333</td>\n",
              "      <td>NaN</td>\n",
              "      <td>4.0</td>\n",
              "      <td>3.0</td>\n",
              "      <td>4.0</td>\n",
              "      <td>Auto Loan, Credit-Builder Loan, Personal Loan,...</td>\n",
              "      <td>...</td>\n",
              "      <td>NaN</td>\n",
              "      <td>Good</td>\n",
              "      <td>809.98</td>\n",
              "      <td>31.377862</td>\n",
              "      <td>268.0</td>\n",
              "      <td>No</td>\n",
              "      <td>199.458074</td>\n",
              "      <td>Low_spent_Small_value_payments</td>\n",
              "      <td>223.451310</td>\n",
              "      <td>Good</td>\n",
              "    </tr>\n",
              "    <tr>\n",
              "      <th>4</th>\n",
              "      <td>4</td>\n",
              "      <td>23.0</td>\n",
              "      <td>NaN</td>\n",
              "      <td>19114.12</td>\n",
              "      <td>1824.843333</td>\n",
              "      <td>3.0</td>\n",
              "      <td>4.0</td>\n",
              "      <td>3.0</td>\n",
              "      <td>4.0</td>\n",
              "      <td>Auto Loan, Credit-Builder Loan, Personal Loan,...</td>\n",
              "      <td>...</td>\n",
              "      <td>4.0</td>\n",
              "      <td>Good</td>\n",
              "      <td>809.98</td>\n",
              "      <td>24.797347</td>\n",
              "      <td>269.0</td>\n",
              "      <td>No</td>\n",
              "      <td>41.420153</td>\n",
              "      <td>High_spent_Medium_value_payments</td>\n",
              "      <td>341.489231</td>\n",
              "      <td>Good</td>\n",
              "    </tr>\n",
              "    <tr>\n",
              "      <th>5</th>\n",
              "      <td>5</td>\n",
              "      <td>23.0</td>\n",
              "      <td>Scientist</td>\n",
              "      <td>19114.12</td>\n",
              "      <td>1824.843333</td>\n",
              "      <td>3.0</td>\n",
              "      <td>4.0</td>\n",
              "      <td>3.0</td>\n",
              "      <td>4.0</td>\n",
              "      <td>Auto Loan, Credit-Builder Loan, Personal Loan,...</td>\n",
              "      <td>...</td>\n",
              "      <td>4.0</td>\n",
              "      <td>Good</td>\n",
              "      <td>809.98</td>\n",
              "      <td>27.262259</td>\n",
              "      <td>270.0</td>\n",
              "      <td>No</td>\n",
              "      <td>62.430172</td>\n",
              "      <td>High_spent_Medium_value_payments</td>\n",
              "      <td>340.479212</td>\n",
              "      <td>Good</td>\n",
              "    </tr>\n",
              "    <tr>\n",
              "      <th>6</th>\n",
              "      <td>6</td>\n",
              "      <td>23.0</td>\n",
              "      <td>Scientist</td>\n",
              "      <td>19114.12</td>\n",
              "      <td>1824.843333</td>\n",
              "      <td>3.0</td>\n",
              "      <td>4.0</td>\n",
              "      <td>3.0</td>\n",
              "      <td>4.0</td>\n",
              "      <td>Auto Loan, Credit-Builder Loan, Personal Loan,...</td>\n",
              "      <td>...</td>\n",
              "      <td>4.0</td>\n",
              "      <td>Good</td>\n",
              "      <td>809.98</td>\n",
              "      <td>NaN</td>\n",
              "      <td>271.0</td>\n",
              "      <td>No</td>\n",
              "      <td>178.344067</td>\n",
              "      <td>Low_spent_Small_value_payments</td>\n",
              "      <td>244.565317</td>\n",
              "      <td>Good</td>\n",
              "    </tr>\n",
              "    <tr>\n",
              "      <th>7</th>\n",
              "      <td>7</td>\n",
              "      <td>23.0</td>\n",
              "      <td>Scientist</td>\n",
              "      <td>19114.12</td>\n",
              "      <td>1824.843333</td>\n",
              "      <td>3.0</td>\n",
              "      <td>4.0</td>\n",
              "      <td>3.0</td>\n",
              "      <td>4.0</td>\n",
              "      <td>Auto Loan, Credit-Builder Loan, Personal Loan,...</td>\n",
              "      <td>...</td>\n",
              "      <td>4.0</td>\n",
              "      <td>Good</td>\n",
              "      <td>809.98</td>\n",
              "      <td>23.933795</td>\n",
              "      <td>NaN</td>\n",
              "      <td>No</td>\n",
              "      <td>24.785217</td>\n",
              "      <td>High_spent_Medium_value_payments</td>\n",
              "      <td>358.124168</td>\n",
              "      <td>Standard</td>\n",
              "    </tr>\n",
              "    <tr>\n",
              "      <th>8</th>\n",
              "      <td>8</td>\n",
              "      <td>28.0</td>\n",
              "      <td>Teacher</td>\n",
              "      <td>34847.84</td>\n",
              "      <td>3037.986667</td>\n",
              "      <td>2.0</td>\n",
              "      <td>4.0</td>\n",
              "      <td>6.0</td>\n",
              "      <td>NaN</td>\n",
              "      <td>Credit-Builder Loan</td>\n",
              "      <td>...</td>\n",
              "      <td>2.0</td>\n",
              "      <td>Good</td>\n",
              "      <td>605.03</td>\n",
              "      <td>NaN</td>\n",
              "      <td>319.0</td>\n",
              "      <td>NaN</td>\n",
              "      <td>NaN</td>\n",
              "      <td>Low_spent_Small_value_payments</td>\n",
              "      <td>470.690627</td>\n",
              "      <td>Standard</td>\n",
              "    </tr>\n",
              "    <tr>\n",
              "      <th>9</th>\n",
              "      <td>9</td>\n",
              "      <td>28.0</td>\n",
              "      <td>Teacher</td>\n",
              "      <td>34847.84</td>\n",
              "      <td>3037.986667</td>\n",
              "      <td>NaN</td>\n",
              "      <td>4.0</td>\n",
              "      <td>6.0</td>\n",
              "      <td>1.0</td>\n",
              "      <td>Credit-Builder Loan</td>\n",
              "      <td>...</td>\n",
              "      <td>2.0</td>\n",
              "      <td>Good</td>\n",
              "      <td>605.03</td>\n",
              "      <td>38.550848</td>\n",
              "      <td>320.0</td>\n",
              "      <td>No</td>\n",
              "      <td>40.391238</td>\n",
              "      <td>High_spent_Large_value_payments</td>\n",
              "      <td>484.591214</td>\n",
              "      <td>Good</td>\n",
              "    </tr>\n",
              "  </tbody>\n",
              "</table>\n",
              "<p>10 rows × 23 columns</p>\n",
              "</div>"
            ],
            "text/plain": [
              "   id   Age Occupation  Annual_Income  Monthly_Inhand_Salary  \\\n",
              "0   0  23.0  Scientist       19114.12            1824.843333   \n",
              "1   1  23.0  Scientist            NaN            1824.843333   \n",
              "2   2  23.0  Scientist       19114.12            1824.843333   \n",
              "3   3  23.0  Scientist       19114.12            1824.843333   \n",
              "4   4  23.0        NaN       19114.12            1824.843333   \n",
              "5   5  23.0  Scientist       19114.12            1824.843333   \n",
              "6   6  23.0  Scientist       19114.12            1824.843333   \n",
              "7   7  23.0  Scientist       19114.12            1824.843333   \n",
              "8   8  28.0    Teacher       34847.84            3037.986667   \n",
              "9   9  28.0    Teacher       34847.84            3037.986667   \n",
              "\n",
              "   Num_Bank_Accounts  Num_Credit_Card  Interest_Rate  Num_of_Loan  \\\n",
              "0                3.0              4.0            3.0          4.0   \n",
              "1                3.0              4.0            3.0          4.0   \n",
              "2                3.0              4.0            3.0          NaN   \n",
              "3                NaN              4.0            3.0          4.0   \n",
              "4                3.0              4.0            3.0          4.0   \n",
              "5                3.0              4.0            3.0          4.0   \n",
              "6                3.0              4.0            3.0          4.0   \n",
              "7                3.0              4.0            3.0          4.0   \n",
              "8                2.0              4.0            6.0          NaN   \n",
              "9                NaN              4.0            6.0          1.0   \n",
              "\n",
              "                                        Type_of_Loan  ...  \\\n",
              "0  Auto Loan, Credit-Builder Loan, Personal Loan,...  ...   \n",
              "1  Auto Loan, Credit-Builder Loan, Personal Loan,...  ...   \n",
              "2  Auto Loan, Credit-Builder Loan, Personal Loan,...  ...   \n",
              "3  Auto Loan, Credit-Builder Loan, Personal Loan,...  ...   \n",
              "4  Auto Loan, Credit-Builder Loan, Personal Loan,...  ...   \n",
              "5  Auto Loan, Credit-Builder Loan, Personal Loan,...  ...   \n",
              "6  Auto Loan, Credit-Builder Loan, Personal Loan,...  ...   \n",
              "7  Auto Loan, Credit-Builder Loan, Personal Loan,...  ...   \n",
              "8                                Credit-Builder Loan  ...   \n",
              "9                                Credit-Builder Loan  ...   \n",
              "\n",
              "   Num_Credit_Inquiries  Credit_Mix  Outstanding_Debt  \\\n",
              "0                   4.0        Good            809.98   \n",
              "1                   4.0        Good            809.98   \n",
              "2                   4.0        Good            809.98   \n",
              "3                   NaN        Good            809.98   \n",
              "4                   4.0        Good            809.98   \n",
              "5                   4.0        Good            809.98   \n",
              "6                   4.0        Good            809.98   \n",
              "7                   4.0        Good            809.98   \n",
              "8                   2.0        Good            605.03   \n",
              "9                   2.0        Good            605.03   \n",
              "\n",
              "   Credit_Utilization_Ratio Credit_History_Age  Payment_of_Min_Amount  \\\n",
              "0                 26.822620              265.0                     No   \n",
              "1                       NaN              266.0                     No   \n",
              "2                 28.609352              267.0                     No   \n",
              "3                 31.377862              268.0                     No   \n",
              "4                 24.797347              269.0                     No   \n",
              "5                 27.262259              270.0                     No   \n",
              "6                       NaN              271.0                     No   \n",
              "7                 23.933795                NaN                     No   \n",
              "8                       NaN              319.0                    NaN   \n",
              "9                 38.550848              320.0                     No   \n",
              "\n",
              "   Amount_invested_monthly                 Payment_Behaviour Monthly_Balance  \\\n",
              "0                80.415295                               NaN      312.494089   \n",
              "1               118.280222    Low_spent_Large_value_payments      284.629162   \n",
              "2                81.699521   Low_spent_Medium_value_payments      331.209863   \n",
              "3               199.458074    Low_spent_Small_value_payments      223.451310   \n",
              "4                41.420153  High_spent_Medium_value_payments      341.489231   \n",
              "5                62.430172  High_spent_Medium_value_payments      340.479212   \n",
              "6               178.344067    Low_spent_Small_value_payments      244.565317   \n",
              "7                24.785217  High_spent_Medium_value_payments      358.124168   \n",
              "8                      NaN    Low_spent_Small_value_payments      470.690627   \n",
              "9                40.391238   High_spent_Large_value_payments      484.591214   \n",
              "\n",
              "   Credit_Score  \n",
              "0          Good  \n",
              "1          Good  \n",
              "2          Good  \n",
              "3          Good  \n",
              "4          Good  \n",
              "5          Good  \n",
              "6          Good  \n",
              "7      Standard  \n",
              "8      Standard  \n",
              "9          Good  \n",
              "\n",
              "[10 rows x 23 columns]"
            ]
          },
          "execution_count": 4,
          "metadata": {},
          "output_type": "execute_result"
        }
      ],
      "source": [
        "ds.head(10) #show the first 10 elements"
      ]
    },
    {
      "cell_type": "code",
      "execution_count": 5,
      "metadata": {},
      "outputs": [
        {
          "data": {
            "text/html": [
              "<div>\n",
              "<style scoped>\n",
              "    .dataframe tbody tr th:only-of-type {\n",
              "        vertical-align: middle;\n",
              "    }\n",
              "\n",
              "    .dataframe tbody tr th {\n",
              "        vertical-align: top;\n",
              "    }\n",
              "\n",
              "    .dataframe thead th {\n",
              "        text-align: right;\n",
              "    }\n",
              "</style>\n",
              "<table border=\"1\" class=\"dataframe\">\n",
              "  <thead>\n",
              "    <tr style=\"text-align: right;\">\n",
              "      <th></th>\n",
              "      <th>id</th>\n",
              "      <th>Age</th>\n",
              "      <th>Annual_Income</th>\n",
              "      <th>Monthly_Inhand_Salary</th>\n",
              "      <th>Num_Bank_Accounts</th>\n",
              "      <th>Num_Credit_Card</th>\n",
              "      <th>Interest_Rate</th>\n",
              "      <th>Num_of_Loan</th>\n",
              "      <th>Delay_from_due_date</th>\n",
              "      <th>Num_of_Delayed_Payment</th>\n",
              "      <th>Changed_Credit_Limit</th>\n",
              "      <th>Num_Credit_Inquiries</th>\n",
              "      <th>Outstanding_Debt</th>\n",
              "      <th>Credit_Utilization_Ratio</th>\n",
              "      <th>Credit_History_Age</th>\n",
              "      <th>Amount_invested_monthly</th>\n",
              "      <th>Monthly_Balance</th>\n",
              "    </tr>\n",
              "  </thead>\n",
              "  <tbody>\n",
              "    <tr>\n",
              "      <th>id</th>\n",
              "      <td>1.000000</td>\n",
              "      <td>0.004053</td>\n",
              "      <td>-0.005780</td>\n",
              "      <td>-0.003586</td>\n",
              "      <td>0.003776</td>\n",
              "      <td>-0.003119</td>\n",
              "      <td>0.003751</td>\n",
              "      <td>-0.007748</td>\n",
              "      <td>-0.005714</td>\n",
              "      <td>0.003155</td>\n",
              "      <td>0.008625</td>\n",
              "      <td>-0.002343</td>\n",
              "      <td>0.002999</td>\n",
              "      <td>-0.006853</td>\n",
              "      <td>-0.006203</td>\n",
              "      <td>0.004839</td>\n",
              "      <td>0.000779</td>\n",
              "    </tr>\n",
              "    <tr>\n",
              "      <th>Age</th>\n",
              "      <td>0.004053</td>\n",
              "      <td>1.000000</td>\n",
              "      <td>0.094214</td>\n",
              "      <td>0.092432</td>\n",
              "      <td>-0.192405</td>\n",
              "      <td>-0.147670</td>\n",
              "      <td>-0.218744</td>\n",
              "      <td>-0.215283</td>\n",
              "      <td>-0.175110</td>\n",
              "      <td>-0.186063</td>\n",
              "      <td>-0.158929</td>\n",
              "      <td>-0.251603</td>\n",
              "      <td>-0.202975</td>\n",
              "      <td>0.023721</td>\n",
              "      <td>0.235896</td>\n",
              "      <td>0.006597</td>\n",
              "      <td>-0.002635</td>\n",
              "    </tr>\n",
              "    <tr>\n",
              "      <th>Annual_Income</th>\n",
              "      <td>-0.005780</td>\n",
              "      <td>0.094214</td>\n",
              "      <td>1.000000</td>\n",
              "      <td>0.998155</td>\n",
              "      <td>-0.285732</td>\n",
              "      <td>-0.218083</td>\n",
              "      <td>-0.302391</td>\n",
              "      <td>-0.256766</td>\n",
              "      <td>-0.249761</td>\n",
              "      <td>-0.287701</td>\n",
              "      <td>-0.177471</td>\n",
              "      <td>-0.280632</td>\n",
              "      <td>-0.269997</td>\n",
              "      <td>0.177065</td>\n",
              "      <td>0.272721</td>\n",
              "      <td>0.055108</td>\n",
              "      <td>-0.004711</td>\n",
              "    </tr>\n",
              "    <tr>\n",
              "      <th>Monthly_Inhand_Salary</th>\n",
              "      <td>-0.003586</td>\n",
              "      <td>0.092432</td>\n",
              "      <td>0.998155</td>\n",
              "      <td>1.000000</td>\n",
              "      <td>-0.283303</td>\n",
              "      <td>-0.216476</td>\n",
              "      <td>-0.301315</td>\n",
              "      <td>-0.256375</td>\n",
              "      <td>-0.249382</td>\n",
              "      <td>-0.285382</td>\n",
              "      <td>-0.175202</td>\n",
              "      <td>-0.279105</td>\n",
              "      <td>-0.269707</td>\n",
              "      <td>0.178518</td>\n",
              "      <td>0.271030</td>\n",
              "      <td>0.053704</td>\n",
              "      <td>-0.004176</td>\n",
              "    </tr>\n",
              "    <tr>\n",
              "      <th>Num_Bank_Accounts</th>\n",
              "      <td>0.003776</td>\n",
              "      <td>-0.192405</td>\n",
              "      <td>-0.285732</td>\n",
              "      <td>-0.283303</td>\n",
              "      <td>1.000000</td>\n",
              "      <td>0.442678</td>\n",
              "      <td>0.583227</td>\n",
              "      <td>0.472694</td>\n",
              "      <td>0.560583</td>\n",
              "      <td>0.601553</td>\n",
              "      <td>0.333300</td>\n",
              "      <td>0.515379</td>\n",
              "      <td>0.506999</td>\n",
              "      <td>-0.070942</td>\n",
              "      <td>-0.485478</td>\n",
              "      <td>-0.015364</td>\n",
              "      <td>0.005845</td>\n",
              "    </tr>\n",
              "    <tr>\n",
              "      <th>Num_Credit_Card</th>\n",
              "      <td>-0.003119</td>\n",
              "      <td>-0.147670</td>\n",
              "      <td>-0.218083</td>\n",
              "      <td>-0.216476</td>\n",
              "      <td>0.442678</td>\n",
              "      <td>1.000000</td>\n",
              "      <td>0.499178</td>\n",
              "      <td>0.417508</td>\n",
              "      <td>0.479751</td>\n",
              "      <td>0.424036</td>\n",
              "      <td>0.253572</td>\n",
              "      <td>0.458086</td>\n",
              "      <td>0.491157</td>\n",
              "      <td>-0.055238</td>\n",
              "      <td>-0.416870</td>\n",
              "      <td>-0.010274</td>\n",
              "      <td>0.004964</td>\n",
              "    </tr>\n",
              "    <tr>\n",
              "      <th>Interest_Rate</th>\n",
              "      <td>0.003751</td>\n",
              "      <td>-0.218744</td>\n",
              "      <td>-0.302391</td>\n",
              "      <td>-0.301315</td>\n",
              "      <td>0.583227</td>\n",
              "      <td>0.499178</td>\n",
              "      <td>1.000000</td>\n",
              "      <td>0.560036</td>\n",
              "      <td>0.591529</td>\n",
              "      <td>0.571366</td>\n",
              "      <td>0.370325</td>\n",
              "      <td>0.631691</td>\n",
              "      <td>0.628982</td>\n",
              "      <td>-0.077353</td>\n",
              "      <td>-0.576643</td>\n",
              "      <td>-0.018500</td>\n",
              "      <td>0.004477</td>\n",
              "    </tr>\n",
              "    <tr>\n",
              "      <th>Num_of_Loan</th>\n",
              "      <td>-0.007748</td>\n",
              "      <td>-0.215283</td>\n",
              "      <td>-0.256766</td>\n",
              "      <td>-0.256375</td>\n",
              "      <td>0.472694</td>\n",
              "      <td>0.417508</td>\n",
              "      <td>0.560036</td>\n",
              "      <td>1.000000</td>\n",
              "      <td>0.503398</td>\n",
              "      <td>0.473959</td>\n",
              "      <td>0.374885</td>\n",
              "      <td>0.564533</td>\n",
              "      <td>0.639486</td>\n",
              "      <td>-0.101013</td>\n",
              "      <td>-0.606878</td>\n",
              "      <td>-0.012386</td>\n",
              "      <td>0.001958</td>\n",
              "    </tr>\n",
              "    <tr>\n",
              "      <th>Delay_from_due_date</th>\n",
              "      <td>-0.005714</td>\n",
              "      <td>-0.175110</td>\n",
              "      <td>-0.249761</td>\n",
              "      <td>-0.249382</td>\n",
              "      <td>0.560583</td>\n",
              "      <td>0.479751</td>\n",
              "      <td>0.591529</td>\n",
              "      <td>0.503398</td>\n",
              "      <td>1.000000</td>\n",
              "      <td>0.540332</td>\n",
              "      <td>0.296495</td>\n",
              "      <td>0.539325</td>\n",
              "      <td>0.572768</td>\n",
              "      <td>-0.064390</td>\n",
              "      <td>-0.489846</td>\n",
              "      <td>-0.009811</td>\n",
              "      <td>0.004988</td>\n",
              "    </tr>\n",
              "    <tr>\n",
              "      <th>Num_of_Delayed_Payment</th>\n",
              "      <td>0.003155</td>\n",
              "      <td>-0.186063</td>\n",
              "      <td>-0.287701</td>\n",
              "      <td>-0.285382</td>\n",
              "      <td>0.601553</td>\n",
              "      <td>0.424036</td>\n",
              "      <td>0.571366</td>\n",
              "      <td>0.473959</td>\n",
              "      <td>0.540332</td>\n",
              "      <td>1.000000</td>\n",
              "      <td>0.328173</td>\n",
              "      <td>0.499689</td>\n",
              "      <td>0.503561</td>\n",
              "      <td>-0.072964</td>\n",
              "      <td>-0.481637</td>\n",
              "      <td>-0.021178</td>\n",
              "      <td>0.007799</td>\n",
              "    </tr>\n",
              "    <tr>\n",
              "      <th>Changed_Credit_Limit</th>\n",
              "      <td>0.008625</td>\n",
              "      <td>-0.158929</td>\n",
              "      <td>-0.177471</td>\n",
              "      <td>-0.175202</td>\n",
              "      <td>0.333300</td>\n",
              "      <td>0.253572</td>\n",
              "      <td>0.370325</td>\n",
              "      <td>0.374885</td>\n",
              "      <td>0.296495</td>\n",
              "      <td>0.328173</td>\n",
              "      <td>1.000000</td>\n",
              "      <td>0.383047</td>\n",
              "      <td>0.463555</td>\n",
              "      <td>-0.046592</td>\n",
              "      <td>-0.430469</td>\n",
              "      <td>-0.008353</td>\n",
              "      <td>-0.000489</td>\n",
              "    </tr>\n",
              "    <tr>\n",
              "      <th>Num_Credit_Inquiries</th>\n",
              "      <td>-0.002343</td>\n",
              "      <td>-0.251603</td>\n",
              "      <td>-0.280632</td>\n",
              "      <td>-0.279105</td>\n",
              "      <td>0.515379</td>\n",
              "      <td>0.458086</td>\n",
              "      <td>0.631691</td>\n",
              "      <td>0.564533</td>\n",
              "      <td>0.539325</td>\n",
              "      <td>0.499689</td>\n",
              "      <td>0.383047</td>\n",
              "      <td>1.000000</td>\n",
              "      <td>0.597357</td>\n",
              "      <td>-0.079951</td>\n",
              "      <td>-0.608461</td>\n",
              "      <td>-0.017745</td>\n",
              "      <td>-0.002554</td>\n",
              "    </tr>\n",
              "    <tr>\n",
              "      <th>Outstanding_Debt</th>\n",
              "      <td>0.002999</td>\n",
              "      <td>-0.202975</td>\n",
              "      <td>-0.269997</td>\n",
              "      <td>-0.269707</td>\n",
              "      <td>0.506999</td>\n",
              "      <td>0.491157</td>\n",
              "      <td>0.628982</td>\n",
              "      <td>0.639486</td>\n",
              "      <td>0.572768</td>\n",
              "      <td>0.503561</td>\n",
              "      <td>0.463555</td>\n",
              "      <td>0.597357</td>\n",
              "      <td>1.000000</td>\n",
              "      <td>-0.072577</td>\n",
              "      <td>-0.629102</td>\n",
              "      <td>-0.013246</td>\n",
              "      <td>0.001235</td>\n",
              "    </tr>\n",
              "    <tr>\n",
              "      <th>Credit_Utilization_Ratio</th>\n",
              "      <td>-0.006853</td>\n",
              "      <td>0.023721</td>\n",
              "      <td>0.177065</td>\n",
              "      <td>0.178518</td>\n",
              "      <td>-0.070942</td>\n",
              "      <td>-0.055238</td>\n",
              "      <td>-0.077353</td>\n",
              "      <td>-0.101013</td>\n",
              "      <td>-0.064390</td>\n",
              "      <td>-0.072964</td>\n",
              "      <td>-0.046592</td>\n",
              "      <td>-0.079951</td>\n",
              "      <td>-0.072577</td>\n",
              "      <td>1.000000</td>\n",
              "      <td>0.073614</td>\n",
              "      <td>0.001987</td>\n",
              "      <td>-0.004748</td>\n",
              "    </tr>\n",
              "    <tr>\n",
              "      <th>Credit_History_Age</th>\n",
              "      <td>-0.006203</td>\n",
              "      <td>0.235896</td>\n",
              "      <td>0.272721</td>\n",
              "      <td>0.271030</td>\n",
              "      <td>-0.485478</td>\n",
              "      <td>-0.416870</td>\n",
              "      <td>-0.576643</td>\n",
              "      <td>-0.606878</td>\n",
              "      <td>-0.489846</td>\n",
              "      <td>-0.481637</td>\n",
              "      <td>-0.430469</td>\n",
              "      <td>-0.608461</td>\n",
              "      <td>-0.629102</td>\n",
              "      <td>0.073614</td>\n",
              "      <td>1.000000</td>\n",
              "      <td>0.016873</td>\n",
              "      <td>-0.003798</td>\n",
              "    </tr>\n",
              "    <tr>\n",
              "      <th>Amount_invested_monthly</th>\n",
              "      <td>0.004839</td>\n",
              "      <td>0.006597</td>\n",
              "      <td>0.055108</td>\n",
              "      <td>0.053704</td>\n",
              "      <td>-0.015364</td>\n",
              "      <td>-0.010274</td>\n",
              "      <td>-0.018500</td>\n",
              "      <td>-0.012386</td>\n",
              "      <td>-0.009811</td>\n",
              "      <td>-0.021178</td>\n",
              "      <td>-0.008353</td>\n",
              "      <td>-0.017745</td>\n",
              "      <td>-0.013246</td>\n",
              "      <td>0.001987</td>\n",
              "      <td>0.016873</td>\n",
              "      <td>1.000000</td>\n",
              "      <td>0.002295</td>\n",
              "    </tr>\n",
              "    <tr>\n",
              "      <th>Monthly_Balance</th>\n",
              "      <td>0.000779</td>\n",
              "      <td>-0.002635</td>\n",
              "      <td>-0.004711</td>\n",
              "      <td>-0.004176</td>\n",
              "      <td>0.005845</td>\n",
              "      <td>0.004964</td>\n",
              "      <td>0.004477</td>\n",
              "      <td>0.001958</td>\n",
              "      <td>0.004988</td>\n",
              "      <td>0.007799</td>\n",
              "      <td>-0.000489</td>\n",
              "      <td>-0.002554</td>\n",
              "      <td>0.001235</td>\n",
              "      <td>-0.004748</td>\n",
              "      <td>-0.003798</td>\n",
              "      <td>0.002295</td>\n",
              "      <td>1.000000</td>\n",
              "    </tr>\n",
              "  </tbody>\n",
              "</table>\n",
              "</div>"
            ],
            "text/plain": [
              "                                id       Age  Annual_Income  \\\n",
              "id                        1.000000  0.004053      -0.005780   \n",
              "Age                       0.004053  1.000000       0.094214   \n",
              "Annual_Income            -0.005780  0.094214       1.000000   \n",
              "Monthly_Inhand_Salary    -0.003586  0.092432       0.998155   \n",
              "Num_Bank_Accounts         0.003776 -0.192405      -0.285732   \n",
              "Num_Credit_Card          -0.003119 -0.147670      -0.218083   \n",
              "Interest_Rate             0.003751 -0.218744      -0.302391   \n",
              "Num_of_Loan              -0.007748 -0.215283      -0.256766   \n",
              "Delay_from_due_date      -0.005714 -0.175110      -0.249761   \n",
              "Num_of_Delayed_Payment    0.003155 -0.186063      -0.287701   \n",
              "Changed_Credit_Limit      0.008625 -0.158929      -0.177471   \n",
              "Num_Credit_Inquiries     -0.002343 -0.251603      -0.280632   \n",
              "Outstanding_Debt          0.002999 -0.202975      -0.269997   \n",
              "Credit_Utilization_Ratio -0.006853  0.023721       0.177065   \n",
              "Credit_History_Age       -0.006203  0.235896       0.272721   \n",
              "Amount_invested_monthly   0.004839  0.006597       0.055108   \n",
              "Monthly_Balance           0.000779 -0.002635      -0.004711   \n",
              "\n",
              "                          Monthly_Inhand_Salary  Num_Bank_Accounts  \\\n",
              "id                                    -0.003586           0.003776   \n",
              "Age                                    0.092432          -0.192405   \n",
              "Annual_Income                          0.998155          -0.285732   \n",
              "Monthly_Inhand_Salary                  1.000000          -0.283303   \n",
              "Num_Bank_Accounts                     -0.283303           1.000000   \n",
              "Num_Credit_Card                       -0.216476           0.442678   \n",
              "Interest_Rate                         -0.301315           0.583227   \n",
              "Num_of_Loan                           -0.256375           0.472694   \n",
              "Delay_from_due_date                   -0.249382           0.560583   \n",
              "Num_of_Delayed_Payment                -0.285382           0.601553   \n",
              "Changed_Credit_Limit                  -0.175202           0.333300   \n",
              "Num_Credit_Inquiries                  -0.279105           0.515379   \n",
              "Outstanding_Debt                      -0.269707           0.506999   \n",
              "Credit_Utilization_Ratio               0.178518          -0.070942   \n",
              "Credit_History_Age                     0.271030          -0.485478   \n",
              "Amount_invested_monthly                0.053704          -0.015364   \n",
              "Monthly_Balance                       -0.004176           0.005845   \n",
              "\n",
              "                          Num_Credit_Card  Interest_Rate  Num_of_Loan  \\\n",
              "id                              -0.003119       0.003751    -0.007748   \n",
              "Age                             -0.147670      -0.218744    -0.215283   \n",
              "Annual_Income                   -0.218083      -0.302391    -0.256766   \n",
              "Monthly_Inhand_Salary           -0.216476      -0.301315    -0.256375   \n",
              "Num_Bank_Accounts                0.442678       0.583227     0.472694   \n",
              "Num_Credit_Card                  1.000000       0.499178     0.417508   \n",
              "Interest_Rate                    0.499178       1.000000     0.560036   \n",
              "Num_of_Loan                      0.417508       0.560036     1.000000   \n",
              "Delay_from_due_date              0.479751       0.591529     0.503398   \n",
              "Num_of_Delayed_Payment           0.424036       0.571366     0.473959   \n",
              "Changed_Credit_Limit             0.253572       0.370325     0.374885   \n",
              "Num_Credit_Inquiries             0.458086       0.631691     0.564533   \n",
              "Outstanding_Debt                 0.491157       0.628982     0.639486   \n",
              "Credit_Utilization_Ratio        -0.055238      -0.077353    -0.101013   \n",
              "Credit_History_Age              -0.416870      -0.576643    -0.606878   \n",
              "Amount_invested_monthly         -0.010274      -0.018500    -0.012386   \n",
              "Monthly_Balance                  0.004964       0.004477     0.001958   \n",
              "\n",
              "                          Delay_from_due_date  Num_of_Delayed_Payment  \\\n",
              "id                                  -0.005714                0.003155   \n",
              "Age                                 -0.175110               -0.186063   \n",
              "Annual_Income                       -0.249761               -0.287701   \n",
              "Monthly_Inhand_Salary               -0.249382               -0.285382   \n",
              "Num_Bank_Accounts                    0.560583                0.601553   \n",
              "Num_Credit_Card                      0.479751                0.424036   \n",
              "Interest_Rate                        0.591529                0.571366   \n",
              "Num_of_Loan                          0.503398                0.473959   \n",
              "Delay_from_due_date                  1.000000                0.540332   \n",
              "Num_of_Delayed_Payment               0.540332                1.000000   \n",
              "Changed_Credit_Limit                 0.296495                0.328173   \n",
              "Num_Credit_Inquiries                 0.539325                0.499689   \n",
              "Outstanding_Debt                     0.572768                0.503561   \n",
              "Credit_Utilization_Ratio            -0.064390               -0.072964   \n",
              "Credit_History_Age                  -0.489846               -0.481637   \n",
              "Amount_invested_monthly             -0.009811               -0.021178   \n",
              "Monthly_Balance                      0.004988                0.007799   \n",
              "\n",
              "                          Changed_Credit_Limit  Num_Credit_Inquiries  \\\n",
              "id                                    0.008625             -0.002343   \n",
              "Age                                  -0.158929             -0.251603   \n",
              "Annual_Income                        -0.177471             -0.280632   \n",
              "Monthly_Inhand_Salary                -0.175202             -0.279105   \n",
              "Num_Bank_Accounts                     0.333300              0.515379   \n",
              "Num_Credit_Card                       0.253572              0.458086   \n",
              "Interest_Rate                         0.370325              0.631691   \n",
              "Num_of_Loan                           0.374885              0.564533   \n",
              "Delay_from_due_date                   0.296495              0.539325   \n",
              "Num_of_Delayed_Payment                0.328173              0.499689   \n",
              "Changed_Credit_Limit                  1.000000              0.383047   \n",
              "Num_Credit_Inquiries                  0.383047              1.000000   \n",
              "Outstanding_Debt                      0.463555              0.597357   \n",
              "Credit_Utilization_Ratio             -0.046592             -0.079951   \n",
              "Credit_History_Age                   -0.430469             -0.608461   \n",
              "Amount_invested_monthly              -0.008353             -0.017745   \n",
              "Monthly_Balance                      -0.000489             -0.002554   \n",
              "\n",
              "                          Outstanding_Debt  Credit_Utilization_Ratio  \\\n",
              "id                                0.002999                 -0.006853   \n",
              "Age                              -0.202975                  0.023721   \n",
              "Annual_Income                    -0.269997                  0.177065   \n",
              "Monthly_Inhand_Salary            -0.269707                  0.178518   \n",
              "Num_Bank_Accounts                 0.506999                 -0.070942   \n",
              "Num_Credit_Card                   0.491157                 -0.055238   \n",
              "Interest_Rate                     0.628982                 -0.077353   \n",
              "Num_of_Loan                       0.639486                 -0.101013   \n",
              "Delay_from_due_date               0.572768                 -0.064390   \n",
              "Num_of_Delayed_Payment            0.503561                 -0.072964   \n",
              "Changed_Credit_Limit              0.463555                 -0.046592   \n",
              "Num_Credit_Inquiries              0.597357                 -0.079951   \n",
              "Outstanding_Debt                  1.000000                 -0.072577   \n",
              "Credit_Utilization_Ratio         -0.072577                  1.000000   \n",
              "Credit_History_Age               -0.629102                  0.073614   \n",
              "Amount_invested_monthly          -0.013246                  0.001987   \n",
              "Monthly_Balance                   0.001235                 -0.004748   \n",
              "\n",
              "                          Credit_History_Age  Amount_invested_monthly  \\\n",
              "id                                 -0.006203                 0.004839   \n",
              "Age                                 0.235896                 0.006597   \n",
              "Annual_Income                       0.272721                 0.055108   \n",
              "Monthly_Inhand_Salary               0.271030                 0.053704   \n",
              "Num_Bank_Accounts                  -0.485478                -0.015364   \n",
              "Num_Credit_Card                    -0.416870                -0.010274   \n",
              "Interest_Rate                      -0.576643                -0.018500   \n",
              "Num_of_Loan                        -0.606878                -0.012386   \n",
              "Delay_from_due_date                -0.489846                -0.009811   \n",
              "Num_of_Delayed_Payment             -0.481637                -0.021178   \n",
              "Changed_Credit_Limit               -0.430469                -0.008353   \n",
              "Num_Credit_Inquiries               -0.608461                -0.017745   \n",
              "Outstanding_Debt                   -0.629102                -0.013246   \n",
              "Credit_Utilization_Ratio            0.073614                 0.001987   \n",
              "Credit_History_Age                  1.000000                 0.016873   \n",
              "Amount_invested_monthly             0.016873                 1.000000   \n",
              "Monthly_Balance                    -0.003798                 0.002295   \n",
              "\n",
              "                          Monthly_Balance  \n",
              "id                               0.000779  \n",
              "Age                             -0.002635  \n",
              "Annual_Income                   -0.004711  \n",
              "Monthly_Inhand_Salary           -0.004176  \n",
              "Num_Bank_Accounts                0.005845  \n",
              "Num_Credit_Card                  0.004964  \n",
              "Interest_Rate                    0.004477  \n",
              "Num_of_Loan                      0.001958  \n",
              "Delay_from_due_date              0.004988  \n",
              "Num_of_Delayed_Payment           0.007799  \n",
              "Changed_Credit_Limit            -0.000489  \n",
              "Num_Credit_Inquiries            -0.002554  \n",
              "Outstanding_Debt                 0.001235  \n",
              "Credit_Utilization_Ratio        -0.004748  \n",
              "Credit_History_Age              -0.003798  \n",
              "Amount_invested_monthly          0.002295  \n",
              "Monthly_Balance                  1.000000  "
            ]
          },
          "execution_count": 5,
          "metadata": {},
          "output_type": "execute_result"
        }
      ],
      "source": [
        "ds.corr() #to see correlations, but all categorical ones will be ignored, so change them"
      ]
    },
    {
      "cell_type": "code",
      "execution_count": 6,
      "metadata": {},
      "outputs": [
        {
          "data": {
            "text/html": [
              "<div>\n",
              "<style scoped>\n",
              "    .dataframe tbody tr th:only-of-type {\n",
              "        vertical-align: middle;\n",
              "    }\n",
              "\n",
              "    .dataframe tbody tr th {\n",
              "        vertical-align: top;\n",
              "    }\n",
              "\n",
              "    .dataframe thead th {\n",
              "        text-align: right;\n",
              "    }\n",
              "</style>\n",
              "<table border=\"1\" class=\"dataframe\">\n",
              "  <thead>\n",
              "    <tr style=\"text-align: right;\">\n",
              "      <th></th>\n",
              "      <th>id</th>\n",
              "      <th>Age</th>\n",
              "      <th>Annual_Income</th>\n",
              "      <th>Monthly_Inhand_Salary</th>\n",
              "      <th>Num_Bank_Accounts</th>\n",
              "      <th>Num_Credit_Card</th>\n",
              "      <th>Interest_Rate</th>\n",
              "      <th>Num_of_Loan</th>\n",
              "      <th>Delay_from_due_date</th>\n",
              "      <th>Num_of_Delayed_Payment</th>\n",
              "      <th>Changed_Credit_Limit</th>\n",
              "      <th>Num_Credit_Inquiries</th>\n",
              "      <th>Credit_Mix</th>\n",
              "      <th>Outstanding_Debt</th>\n",
              "      <th>Credit_Utilization_Ratio</th>\n",
              "      <th>Credit_History_Age</th>\n",
              "      <th>Amount_invested_monthly</th>\n",
              "      <th>Payment_Behaviour</th>\n",
              "      <th>Monthly_Balance</th>\n",
              "    </tr>\n",
              "  </thead>\n",
              "  <tbody>\n",
              "    <tr>\n",
              "      <th>id</th>\n",
              "      <td>1.000000</td>\n",
              "      <td>0.004053</td>\n",
              "      <td>-0.005780</td>\n",
              "      <td>-0.003586</td>\n",
              "      <td>0.003776</td>\n",
              "      <td>-0.003119</td>\n",
              "      <td>0.003751</td>\n",
              "      <td>-0.007748</td>\n",
              "      <td>-0.005714</td>\n",
              "      <td>0.003155</td>\n",
              "      <td>0.008625</td>\n",
              "      <td>-0.002343</td>\n",
              "      <td>0.010011</td>\n",
              "      <td>0.002999</td>\n",
              "      <td>-0.006853</td>\n",
              "      <td>-0.006203</td>\n",
              "      <td>0.004839</td>\n",
              "      <td>-0.005163</td>\n",
              "      <td>0.000779</td>\n",
              "    </tr>\n",
              "    <tr>\n",
              "      <th>Age</th>\n",
              "      <td>0.004053</td>\n",
              "      <td>1.000000</td>\n",
              "      <td>0.094214</td>\n",
              "      <td>0.092432</td>\n",
              "      <td>-0.192405</td>\n",
              "      <td>-0.147670</td>\n",
              "      <td>-0.218744</td>\n",
              "      <td>-0.215283</td>\n",
              "      <td>-0.175110</td>\n",
              "      <td>-0.186063</td>\n",
              "      <td>-0.158929</td>\n",
              "      <td>-0.251603</td>\n",
              "      <td>0.060897</td>\n",
              "      <td>-0.202975</td>\n",
              "      <td>0.023721</td>\n",
              "      <td>0.235896</td>\n",
              "      <td>0.006597</td>\n",
              "      <td>-0.030798</td>\n",
              "      <td>-0.002635</td>\n",
              "    </tr>\n",
              "    <tr>\n",
              "      <th>Annual_Income</th>\n",
              "      <td>-0.005780</td>\n",
              "      <td>0.094214</td>\n",
              "      <td>1.000000</td>\n",
              "      <td>0.998155</td>\n",
              "      <td>-0.285732</td>\n",
              "      <td>-0.218083</td>\n",
              "      <td>-0.302391</td>\n",
              "      <td>-0.256766</td>\n",
              "      <td>-0.249761</td>\n",
              "      <td>-0.287701</td>\n",
              "      <td>-0.177471</td>\n",
              "      <td>-0.280632</td>\n",
              "      <td>0.078006</td>\n",
              "      <td>-0.269997</td>\n",
              "      <td>0.177065</td>\n",
              "      <td>0.272721</td>\n",
              "      <td>0.055108</td>\n",
              "      <td>-0.265724</td>\n",
              "      <td>-0.004711</td>\n",
              "    </tr>\n",
              "    <tr>\n",
              "      <th>Monthly_Inhand_Salary</th>\n",
              "      <td>-0.003586</td>\n",
              "      <td>0.092432</td>\n",
              "      <td>0.998155</td>\n",
              "      <td>1.000000</td>\n",
              "      <td>-0.283303</td>\n",
              "      <td>-0.216476</td>\n",
              "      <td>-0.301315</td>\n",
              "      <td>-0.256375</td>\n",
              "      <td>-0.249382</td>\n",
              "      <td>-0.285382</td>\n",
              "      <td>-0.175202</td>\n",
              "      <td>-0.279105</td>\n",
              "      <td>0.077388</td>\n",
              "      <td>-0.269707</td>\n",
              "      <td>0.178518</td>\n",
              "      <td>0.271030</td>\n",
              "      <td>0.053704</td>\n",
              "      <td>-0.266155</td>\n",
              "      <td>-0.004176</td>\n",
              "    </tr>\n",
              "    <tr>\n",
              "      <th>Num_Bank_Accounts</th>\n",
              "      <td>0.003776</td>\n",
              "      <td>-0.192405</td>\n",
              "      <td>-0.285732</td>\n",
              "      <td>-0.283303</td>\n",
              "      <td>1.000000</td>\n",
              "      <td>0.442678</td>\n",
              "      <td>0.583227</td>\n",
              "      <td>0.472694</td>\n",
              "      <td>0.560583</td>\n",
              "      <td>0.601553</td>\n",
              "      <td>0.333300</td>\n",
              "      <td>0.515379</td>\n",
              "      <td>-0.184559</td>\n",
              "      <td>0.506999</td>\n",
              "      <td>-0.070942</td>\n",
              "      <td>-0.485478</td>\n",
              "      <td>-0.015364</td>\n",
              "      <td>0.080292</td>\n",
              "      <td>0.005845</td>\n",
              "    </tr>\n",
              "    <tr>\n",
              "      <th>Num_Credit_Card</th>\n",
              "      <td>-0.003119</td>\n",
              "      <td>-0.147670</td>\n",
              "      <td>-0.218083</td>\n",
              "      <td>-0.216476</td>\n",
              "      <td>0.442678</td>\n",
              "      <td>1.000000</td>\n",
              "      <td>0.499178</td>\n",
              "      <td>0.417508</td>\n",
              "      <td>0.479751</td>\n",
              "      <td>0.424036</td>\n",
              "      <td>0.253572</td>\n",
              "      <td>0.458086</td>\n",
              "      <td>-0.263867</td>\n",
              "      <td>0.491157</td>\n",
              "      <td>-0.055238</td>\n",
              "      <td>-0.416870</td>\n",
              "      <td>-0.010274</td>\n",
              "      <td>0.063975</td>\n",
              "      <td>0.004964</td>\n",
              "    </tr>\n",
              "    <tr>\n",
              "      <th>Interest_Rate</th>\n",
              "      <td>0.003751</td>\n",
              "      <td>-0.218744</td>\n",
              "      <td>-0.302391</td>\n",
              "      <td>-0.301315</td>\n",
              "      <td>0.583227</td>\n",
              "      <td>0.499178</td>\n",
              "      <td>1.000000</td>\n",
              "      <td>0.560036</td>\n",
              "      <td>0.591529</td>\n",
              "      <td>0.571366</td>\n",
              "      <td>0.370325</td>\n",
              "      <td>0.631691</td>\n",
              "      <td>-0.259463</td>\n",
              "      <td>0.628982</td>\n",
              "      <td>-0.077353</td>\n",
              "      <td>-0.576643</td>\n",
              "      <td>-0.018500</td>\n",
              "      <td>0.090950</td>\n",
              "      <td>0.004477</td>\n",
              "    </tr>\n",
              "    <tr>\n",
              "      <th>Num_of_Loan</th>\n",
              "      <td>-0.007748</td>\n",
              "      <td>-0.215283</td>\n",
              "      <td>-0.256766</td>\n",
              "      <td>-0.256375</td>\n",
              "      <td>0.472694</td>\n",
              "      <td>0.417508</td>\n",
              "      <td>0.560036</td>\n",
              "      <td>1.000000</td>\n",
              "      <td>0.503398</td>\n",
              "      <td>0.473959</td>\n",
              "      <td>0.374885</td>\n",
              "      <td>0.564533</td>\n",
              "      <td>-0.351639</td>\n",
              "      <td>0.639486</td>\n",
              "      <td>-0.101013</td>\n",
              "      <td>-0.606878</td>\n",
              "      <td>-0.012386</td>\n",
              "      <td>0.077168</td>\n",
              "      <td>0.001958</td>\n",
              "    </tr>\n",
              "    <tr>\n",
              "      <th>Delay_from_due_date</th>\n",
              "      <td>-0.005714</td>\n",
              "      <td>-0.175110</td>\n",
              "      <td>-0.249761</td>\n",
              "      <td>-0.249382</td>\n",
              "      <td>0.560583</td>\n",
              "      <td>0.479751</td>\n",
              "      <td>0.591529</td>\n",
              "      <td>0.503398</td>\n",
              "      <td>1.000000</td>\n",
              "      <td>0.540332</td>\n",
              "      <td>0.296495</td>\n",
              "      <td>0.539325</td>\n",
              "      <td>-0.326715</td>\n",
              "      <td>0.572768</td>\n",
              "      <td>-0.064390</td>\n",
              "      <td>-0.489846</td>\n",
              "      <td>-0.009811</td>\n",
              "      <td>0.077015</td>\n",
              "      <td>0.004988</td>\n",
              "    </tr>\n",
              "    <tr>\n",
              "      <th>Num_of_Delayed_Payment</th>\n",
              "      <td>0.003155</td>\n",
              "      <td>-0.186063</td>\n",
              "      <td>-0.287701</td>\n",
              "      <td>-0.285382</td>\n",
              "      <td>0.601553</td>\n",
              "      <td>0.424036</td>\n",
              "      <td>0.571366</td>\n",
              "      <td>0.473959</td>\n",
              "      <td>0.540332</td>\n",
              "      <td>1.000000</td>\n",
              "      <td>0.328173</td>\n",
              "      <td>0.499689</td>\n",
              "      <td>-0.195698</td>\n",
              "      <td>0.503561</td>\n",
              "      <td>-0.072964</td>\n",
              "      <td>-0.481637</td>\n",
              "      <td>-0.021178</td>\n",
              "      <td>0.084444</td>\n",
              "      <td>0.007799</td>\n",
              "    </tr>\n",
              "    <tr>\n",
              "      <th>Changed_Credit_Limit</th>\n",
              "      <td>0.008625</td>\n",
              "      <td>-0.158929</td>\n",
              "      <td>-0.177471</td>\n",
              "      <td>-0.175202</td>\n",
              "      <td>0.333300</td>\n",
              "      <td>0.253572</td>\n",
              "      <td>0.370325</td>\n",
              "      <td>0.374885</td>\n",
              "      <td>0.296495</td>\n",
              "      <td>0.328173</td>\n",
              "      <td>1.000000</td>\n",
              "      <td>0.383047</td>\n",
              "      <td>-0.065587</td>\n",
              "      <td>0.463555</td>\n",
              "      <td>-0.046592</td>\n",
              "      <td>-0.430469</td>\n",
              "      <td>-0.008353</td>\n",
              "      <td>0.048902</td>\n",
              "      <td>-0.000489</td>\n",
              "    </tr>\n",
              "    <tr>\n",
              "      <th>Num_Credit_Inquiries</th>\n",
              "      <td>-0.002343</td>\n",
              "      <td>-0.251603</td>\n",
              "      <td>-0.280632</td>\n",
              "      <td>-0.279105</td>\n",
              "      <td>0.515379</td>\n",
              "      <td>0.458086</td>\n",
              "      <td>0.631691</td>\n",
              "      <td>0.564533</td>\n",
              "      <td>0.539325</td>\n",
              "      <td>0.499689</td>\n",
              "      <td>0.383047</td>\n",
              "      <td>1.000000</td>\n",
              "      <td>-0.267859</td>\n",
              "      <td>0.597357</td>\n",
              "      <td>-0.079951</td>\n",
              "      <td>-0.608461</td>\n",
              "      <td>-0.017745</td>\n",
              "      <td>0.086762</td>\n",
              "      <td>-0.002554</td>\n",
              "    </tr>\n",
              "    <tr>\n",
              "      <th>Credit_Mix</th>\n",
              "      <td>0.010011</td>\n",
              "      <td>0.060897</td>\n",
              "      <td>0.078006</td>\n",
              "      <td>0.077388</td>\n",
              "      <td>-0.184559</td>\n",
              "      <td>-0.263867</td>\n",
              "      <td>-0.259463</td>\n",
              "      <td>-0.351639</td>\n",
              "      <td>-0.326715</td>\n",
              "      <td>-0.195698</td>\n",
              "      <td>-0.065587</td>\n",
              "      <td>-0.267859</td>\n",
              "      <td>1.000000</td>\n",
              "      <td>-0.458926</td>\n",
              "      <td>0.025971</td>\n",
              "      <td>0.272715</td>\n",
              "      <td>0.001187</td>\n",
              "      <td>-0.029618</td>\n",
              "      <td>-0.004519</td>\n",
              "    </tr>\n",
              "    <tr>\n",
              "      <th>Outstanding_Debt</th>\n",
              "      <td>0.002999</td>\n",
              "      <td>-0.202975</td>\n",
              "      <td>-0.269997</td>\n",
              "      <td>-0.269707</td>\n",
              "      <td>0.506999</td>\n",
              "      <td>0.491157</td>\n",
              "      <td>0.628982</td>\n",
              "      <td>0.639486</td>\n",
              "      <td>0.572768</td>\n",
              "      <td>0.503561</td>\n",
              "      <td>0.463555</td>\n",
              "      <td>0.597357</td>\n",
              "      <td>-0.458926</td>\n",
              "      <td>1.000000</td>\n",
              "      <td>-0.072577</td>\n",
              "      <td>-0.629102</td>\n",
              "      <td>-0.013246</td>\n",
              "      <td>0.083036</td>\n",
              "      <td>0.001235</td>\n",
              "    </tr>\n",
              "    <tr>\n",
              "      <th>Credit_Utilization_Ratio</th>\n",
              "      <td>-0.006853</td>\n",
              "      <td>0.023721</td>\n",
              "      <td>0.177065</td>\n",
              "      <td>0.178518</td>\n",
              "      <td>-0.070942</td>\n",
              "      <td>-0.055238</td>\n",
              "      <td>-0.077353</td>\n",
              "      <td>-0.101013</td>\n",
              "      <td>-0.064390</td>\n",
              "      <td>-0.072964</td>\n",
              "      <td>-0.046592</td>\n",
              "      <td>-0.079951</td>\n",
              "      <td>0.025971</td>\n",
              "      <td>-0.072577</td>\n",
              "      <td>1.000000</td>\n",
              "      <td>0.073614</td>\n",
              "      <td>0.001987</td>\n",
              "      <td>-0.106230</td>\n",
              "      <td>-0.004748</td>\n",
              "    </tr>\n",
              "    <tr>\n",
              "      <th>Credit_History_Age</th>\n",
              "      <td>-0.006203</td>\n",
              "      <td>0.235896</td>\n",
              "      <td>0.272721</td>\n",
              "      <td>0.271030</td>\n",
              "      <td>-0.485478</td>\n",
              "      <td>-0.416870</td>\n",
              "      <td>-0.576643</td>\n",
              "      <td>-0.606878</td>\n",
              "      <td>-0.489846</td>\n",
              "      <td>-0.481637</td>\n",
              "      <td>-0.430469</td>\n",
              "      <td>-0.608461</td>\n",
              "      <td>0.272715</td>\n",
              "      <td>-0.629102</td>\n",
              "      <td>0.073614</td>\n",
              "      <td>1.000000</td>\n",
              "      <td>0.016873</td>\n",
              "      <td>-0.082285</td>\n",
              "      <td>-0.003798</td>\n",
              "    </tr>\n",
              "    <tr>\n",
              "      <th>Amount_invested_monthly</th>\n",
              "      <td>0.004839</td>\n",
              "      <td>0.006597</td>\n",
              "      <td>0.055108</td>\n",
              "      <td>0.053704</td>\n",
              "      <td>-0.015364</td>\n",
              "      <td>-0.010274</td>\n",
              "      <td>-0.018500</td>\n",
              "      <td>-0.012386</td>\n",
              "      <td>-0.009811</td>\n",
              "      <td>-0.021178</td>\n",
              "      <td>-0.008353</td>\n",
              "      <td>-0.017745</td>\n",
              "      <td>0.001187</td>\n",
              "      <td>-0.013246</td>\n",
              "      <td>0.001987</td>\n",
              "      <td>0.016873</td>\n",
              "      <td>1.000000</td>\n",
              "      <td>0.018440</td>\n",
              "      <td>0.002295</td>\n",
              "    </tr>\n",
              "    <tr>\n",
              "      <th>Payment_Behaviour</th>\n",
              "      <td>-0.005163</td>\n",
              "      <td>-0.030798</td>\n",
              "      <td>-0.265724</td>\n",
              "      <td>-0.266155</td>\n",
              "      <td>0.080292</td>\n",
              "      <td>0.063975</td>\n",
              "      <td>0.090950</td>\n",
              "      <td>0.077168</td>\n",
              "      <td>0.077015</td>\n",
              "      <td>0.084444</td>\n",
              "      <td>0.048902</td>\n",
              "      <td>0.086762</td>\n",
              "      <td>-0.029618</td>\n",
              "      <td>0.083036</td>\n",
              "      <td>-0.106230</td>\n",
              "      <td>-0.082285</td>\n",
              "      <td>0.018440</td>\n",
              "      <td>1.000000</td>\n",
              "      <td>-0.003225</td>\n",
              "    </tr>\n",
              "    <tr>\n",
              "      <th>Monthly_Balance</th>\n",
              "      <td>0.000779</td>\n",
              "      <td>-0.002635</td>\n",
              "      <td>-0.004711</td>\n",
              "      <td>-0.004176</td>\n",
              "      <td>0.005845</td>\n",
              "      <td>0.004964</td>\n",
              "      <td>0.004477</td>\n",
              "      <td>0.001958</td>\n",
              "      <td>0.004988</td>\n",
              "      <td>0.007799</td>\n",
              "      <td>-0.000489</td>\n",
              "      <td>-0.002554</td>\n",
              "      <td>-0.004519</td>\n",
              "      <td>0.001235</td>\n",
              "      <td>-0.004748</td>\n",
              "      <td>-0.003798</td>\n",
              "      <td>0.002295</td>\n",
              "      <td>-0.003225</td>\n",
              "      <td>1.000000</td>\n",
              "    </tr>\n",
              "  </tbody>\n",
              "</table>\n",
              "</div>"
            ],
            "text/plain": [
              "                                id       Age  Annual_Income  \\\n",
              "id                        1.000000  0.004053      -0.005780   \n",
              "Age                       0.004053  1.000000       0.094214   \n",
              "Annual_Income            -0.005780  0.094214       1.000000   \n",
              "Monthly_Inhand_Salary    -0.003586  0.092432       0.998155   \n",
              "Num_Bank_Accounts         0.003776 -0.192405      -0.285732   \n",
              "Num_Credit_Card          -0.003119 -0.147670      -0.218083   \n",
              "Interest_Rate             0.003751 -0.218744      -0.302391   \n",
              "Num_of_Loan              -0.007748 -0.215283      -0.256766   \n",
              "Delay_from_due_date      -0.005714 -0.175110      -0.249761   \n",
              "Num_of_Delayed_Payment    0.003155 -0.186063      -0.287701   \n",
              "Changed_Credit_Limit      0.008625 -0.158929      -0.177471   \n",
              "Num_Credit_Inquiries     -0.002343 -0.251603      -0.280632   \n",
              "Credit_Mix                0.010011  0.060897       0.078006   \n",
              "Outstanding_Debt          0.002999 -0.202975      -0.269997   \n",
              "Credit_Utilization_Ratio -0.006853  0.023721       0.177065   \n",
              "Credit_History_Age       -0.006203  0.235896       0.272721   \n",
              "Amount_invested_monthly   0.004839  0.006597       0.055108   \n",
              "Payment_Behaviour        -0.005163 -0.030798      -0.265724   \n",
              "Monthly_Balance           0.000779 -0.002635      -0.004711   \n",
              "\n",
              "                          Monthly_Inhand_Salary  Num_Bank_Accounts  \\\n",
              "id                                    -0.003586           0.003776   \n",
              "Age                                    0.092432          -0.192405   \n",
              "Annual_Income                          0.998155          -0.285732   \n",
              "Monthly_Inhand_Salary                  1.000000          -0.283303   \n",
              "Num_Bank_Accounts                     -0.283303           1.000000   \n",
              "Num_Credit_Card                       -0.216476           0.442678   \n",
              "Interest_Rate                         -0.301315           0.583227   \n",
              "Num_of_Loan                           -0.256375           0.472694   \n",
              "Delay_from_due_date                   -0.249382           0.560583   \n",
              "Num_of_Delayed_Payment                -0.285382           0.601553   \n",
              "Changed_Credit_Limit                  -0.175202           0.333300   \n",
              "Num_Credit_Inquiries                  -0.279105           0.515379   \n",
              "Credit_Mix                             0.077388          -0.184559   \n",
              "Outstanding_Debt                      -0.269707           0.506999   \n",
              "Credit_Utilization_Ratio               0.178518          -0.070942   \n",
              "Credit_History_Age                     0.271030          -0.485478   \n",
              "Amount_invested_monthly                0.053704          -0.015364   \n",
              "Payment_Behaviour                     -0.266155           0.080292   \n",
              "Monthly_Balance                       -0.004176           0.005845   \n",
              "\n",
              "                          Num_Credit_Card  Interest_Rate  Num_of_Loan  \\\n",
              "id                              -0.003119       0.003751    -0.007748   \n",
              "Age                             -0.147670      -0.218744    -0.215283   \n",
              "Annual_Income                   -0.218083      -0.302391    -0.256766   \n",
              "Monthly_Inhand_Salary           -0.216476      -0.301315    -0.256375   \n",
              "Num_Bank_Accounts                0.442678       0.583227     0.472694   \n",
              "Num_Credit_Card                  1.000000       0.499178     0.417508   \n",
              "Interest_Rate                    0.499178       1.000000     0.560036   \n",
              "Num_of_Loan                      0.417508       0.560036     1.000000   \n",
              "Delay_from_due_date              0.479751       0.591529     0.503398   \n",
              "Num_of_Delayed_Payment           0.424036       0.571366     0.473959   \n",
              "Changed_Credit_Limit             0.253572       0.370325     0.374885   \n",
              "Num_Credit_Inquiries             0.458086       0.631691     0.564533   \n",
              "Credit_Mix                      -0.263867      -0.259463    -0.351639   \n",
              "Outstanding_Debt                 0.491157       0.628982     0.639486   \n",
              "Credit_Utilization_Ratio        -0.055238      -0.077353    -0.101013   \n",
              "Credit_History_Age              -0.416870      -0.576643    -0.606878   \n",
              "Amount_invested_monthly         -0.010274      -0.018500    -0.012386   \n",
              "Payment_Behaviour                0.063975       0.090950     0.077168   \n",
              "Monthly_Balance                  0.004964       0.004477     0.001958   \n",
              "\n",
              "                          Delay_from_due_date  Num_of_Delayed_Payment  \\\n",
              "id                                  -0.005714                0.003155   \n",
              "Age                                 -0.175110               -0.186063   \n",
              "Annual_Income                       -0.249761               -0.287701   \n",
              "Monthly_Inhand_Salary               -0.249382               -0.285382   \n",
              "Num_Bank_Accounts                    0.560583                0.601553   \n",
              "Num_Credit_Card                      0.479751                0.424036   \n",
              "Interest_Rate                        0.591529                0.571366   \n",
              "Num_of_Loan                          0.503398                0.473959   \n",
              "Delay_from_due_date                  1.000000                0.540332   \n",
              "Num_of_Delayed_Payment               0.540332                1.000000   \n",
              "Changed_Credit_Limit                 0.296495                0.328173   \n",
              "Num_Credit_Inquiries                 0.539325                0.499689   \n",
              "Credit_Mix                          -0.326715               -0.195698   \n",
              "Outstanding_Debt                     0.572768                0.503561   \n",
              "Credit_Utilization_Ratio            -0.064390               -0.072964   \n",
              "Credit_History_Age                  -0.489846               -0.481637   \n",
              "Amount_invested_monthly             -0.009811               -0.021178   \n",
              "Payment_Behaviour                    0.077015                0.084444   \n",
              "Monthly_Balance                      0.004988                0.007799   \n",
              "\n",
              "                          Changed_Credit_Limit  Num_Credit_Inquiries  \\\n",
              "id                                    0.008625             -0.002343   \n",
              "Age                                  -0.158929             -0.251603   \n",
              "Annual_Income                        -0.177471             -0.280632   \n",
              "Monthly_Inhand_Salary                -0.175202             -0.279105   \n",
              "Num_Bank_Accounts                     0.333300              0.515379   \n",
              "Num_Credit_Card                       0.253572              0.458086   \n",
              "Interest_Rate                         0.370325              0.631691   \n",
              "Num_of_Loan                           0.374885              0.564533   \n",
              "Delay_from_due_date                   0.296495              0.539325   \n",
              "Num_of_Delayed_Payment                0.328173              0.499689   \n",
              "Changed_Credit_Limit                  1.000000              0.383047   \n",
              "Num_Credit_Inquiries                  0.383047              1.000000   \n",
              "Credit_Mix                           -0.065587             -0.267859   \n",
              "Outstanding_Debt                      0.463555              0.597357   \n",
              "Credit_Utilization_Ratio             -0.046592             -0.079951   \n",
              "Credit_History_Age                   -0.430469             -0.608461   \n",
              "Amount_invested_monthly              -0.008353             -0.017745   \n",
              "Payment_Behaviour                     0.048902              0.086762   \n",
              "Monthly_Balance                      -0.000489             -0.002554   \n",
              "\n",
              "                          Credit_Mix  Outstanding_Debt  \\\n",
              "id                          0.010011          0.002999   \n",
              "Age                         0.060897         -0.202975   \n",
              "Annual_Income               0.078006         -0.269997   \n",
              "Monthly_Inhand_Salary       0.077388         -0.269707   \n",
              "Num_Bank_Accounts          -0.184559          0.506999   \n",
              "Num_Credit_Card            -0.263867          0.491157   \n",
              "Interest_Rate              -0.259463          0.628982   \n",
              "Num_of_Loan                -0.351639          0.639486   \n",
              "Delay_from_due_date        -0.326715          0.572768   \n",
              "Num_of_Delayed_Payment     -0.195698          0.503561   \n",
              "Changed_Credit_Limit       -0.065587          0.463555   \n",
              "Num_Credit_Inquiries       -0.267859          0.597357   \n",
              "Credit_Mix                  1.000000         -0.458926   \n",
              "Outstanding_Debt           -0.458926          1.000000   \n",
              "Credit_Utilization_Ratio    0.025971         -0.072577   \n",
              "Credit_History_Age          0.272715         -0.629102   \n",
              "Amount_invested_monthly     0.001187         -0.013246   \n",
              "Payment_Behaviour          -0.029618          0.083036   \n",
              "Monthly_Balance            -0.004519          0.001235   \n",
              "\n",
              "                          Credit_Utilization_Ratio  Credit_History_Age  \\\n",
              "id                                       -0.006853           -0.006203   \n",
              "Age                                       0.023721            0.235896   \n",
              "Annual_Income                             0.177065            0.272721   \n",
              "Monthly_Inhand_Salary                     0.178518            0.271030   \n",
              "Num_Bank_Accounts                        -0.070942           -0.485478   \n",
              "Num_Credit_Card                          -0.055238           -0.416870   \n",
              "Interest_Rate                            -0.077353           -0.576643   \n",
              "Num_of_Loan                              -0.101013           -0.606878   \n",
              "Delay_from_due_date                      -0.064390           -0.489846   \n",
              "Num_of_Delayed_Payment                   -0.072964           -0.481637   \n",
              "Changed_Credit_Limit                     -0.046592           -0.430469   \n",
              "Num_Credit_Inquiries                     -0.079951           -0.608461   \n",
              "Credit_Mix                                0.025971            0.272715   \n",
              "Outstanding_Debt                         -0.072577           -0.629102   \n",
              "Credit_Utilization_Ratio                  1.000000            0.073614   \n",
              "Credit_History_Age                        0.073614            1.000000   \n",
              "Amount_invested_monthly                   0.001987            0.016873   \n",
              "Payment_Behaviour                        -0.106230           -0.082285   \n",
              "Monthly_Balance                          -0.004748           -0.003798   \n",
              "\n",
              "                          Amount_invested_monthly  Payment_Behaviour  \\\n",
              "id                                       0.004839          -0.005163   \n",
              "Age                                      0.006597          -0.030798   \n",
              "Annual_Income                            0.055108          -0.265724   \n",
              "Monthly_Inhand_Salary                    0.053704          -0.266155   \n",
              "Num_Bank_Accounts                       -0.015364           0.080292   \n",
              "Num_Credit_Card                         -0.010274           0.063975   \n",
              "Interest_Rate                           -0.018500           0.090950   \n",
              "Num_of_Loan                             -0.012386           0.077168   \n",
              "Delay_from_due_date                     -0.009811           0.077015   \n",
              "Num_of_Delayed_Payment                  -0.021178           0.084444   \n",
              "Changed_Credit_Limit                    -0.008353           0.048902   \n",
              "Num_Credit_Inquiries                    -0.017745           0.086762   \n",
              "Credit_Mix                               0.001187          -0.029618   \n",
              "Outstanding_Debt                        -0.013246           0.083036   \n",
              "Credit_Utilization_Ratio                 0.001987          -0.106230   \n",
              "Credit_History_Age                       0.016873          -0.082285   \n",
              "Amount_invested_monthly                  1.000000           0.018440   \n",
              "Payment_Behaviour                        0.018440           1.000000   \n",
              "Monthly_Balance                          0.002295          -0.003225   \n",
              "\n",
              "                          Monthly_Balance  \n",
              "id                               0.000779  \n",
              "Age                             -0.002635  \n",
              "Annual_Income                   -0.004711  \n",
              "Monthly_Inhand_Salary           -0.004176  \n",
              "Num_Bank_Accounts                0.005845  \n",
              "Num_Credit_Card                  0.004964  \n",
              "Interest_Rate                    0.004477  \n",
              "Num_of_Loan                      0.001958  \n",
              "Delay_from_due_date              0.004988  \n",
              "Num_of_Delayed_Payment           0.007799  \n",
              "Changed_Credit_Limit            -0.000489  \n",
              "Num_Credit_Inquiries            -0.002554  \n",
              "Credit_Mix                      -0.004519  \n",
              "Outstanding_Debt                 0.001235  \n",
              "Credit_Utilization_Ratio        -0.004748  \n",
              "Credit_History_Age              -0.003798  \n",
              "Amount_invested_monthly          0.002295  \n",
              "Payment_Behaviour               -0.003225  \n",
              "Monthly_Balance                  1.000000  "
            ]
          },
          "execution_count": 6,
          "metadata": {},
          "output_type": "execute_result"
        }
      ],
      "source": [
        "from sklearn.preprocessing import LabelEncoder\n",
        "ds['Credit_Mix'] = LabelEncoder().fit_transform(ds['Credit_Mix'])\n",
        "ds['Payment_Behaviour'] = LabelEncoder().fit_transform(ds['Payment_Behaviour'])\n",
        "\n",
        "ds.head()\n",
        "#again\n",
        "ds.corr()"
      ]
    },
    {
      "cell_type": "code",
      "execution_count": 7,
      "metadata": {},
      "outputs": [
        {
          "name": "stdout",
          "output_type": "stream",
          "text": [
            "<class 'pandas.core.frame.DataFrame'>\n",
            "RangeIndex: 100000 entries, 0 to 99999\n",
            "Data columns (total 23 columns):\n",
            " #   Column                    Non-Null Count   Dtype  \n",
            "---  ------                    --------------   -----  \n",
            " 0   id                        100000 non-null  int64  \n",
            " 1   Age                       90113 non-null   float64\n",
            " 2   Occupation                89954 non-null   object \n",
            " 3   Annual_Income             89811 non-null   float64\n",
            " 4   Monthly_Inhand_Salary     89881 non-null   float64\n",
            " 5   Num_Bank_Accounts         89935 non-null   float64\n",
            " 6   Num_Credit_Card           90131 non-null   float64\n",
            " 7   Interest_Rate             89999 non-null   float64\n",
            " 8   Num_of_Loan               90030 non-null   float64\n",
            " 9   Type_of_Loan              89921 non-null   object \n",
            " 10  Delay_from_due_date       90053 non-null   float64\n",
            " 11  Num_of_Delayed_Payment    89927 non-null   float64\n",
            " 12  Changed_Credit_Limit      90077 non-null   float64\n",
            " 13  Num_Credit_Inquiries      89971 non-null   float64\n",
            " 14  Credit_Mix                100000 non-null  int32  \n",
            " 15  Outstanding_Debt          90154 non-null   float64\n",
            " 16  Credit_Utilization_Ratio  89988 non-null   float64\n",
            " 17  Credit_History_Age        90016 non-null   float64\n",
            " 18  Payment_of_Min_Amount     90042 non-null   object \n",
            " 19  Amount_invested_monthly   89955 non-null   float64\n",
            " 20  Payment_Behaviour         100000 non-null  int32  \n",
            " 21  Monthly_Balance           90101 non-null   float64\n",
            " 22  Credit_Score              100000 non-null  object \n",
            "dtypes: float64(16), int32(2), int64(1), object(4)\n",
            "memory usage: 16.8+ MB\n",
            "Standard    53174\n",
            "Poor        28998\n",
            "Good        17828\n",
            "Name: Credit_Score, dtype: int64\n"
          ]
        },
        {
          "data": {
            "image/png": "[encoded data removed]",
            "text/plain": [
              "<Figure size 640x480 with 1 Axes>"
            ]
          },
          "metadata": {},
          "output_type": "display_data"
        }
      ],
      "source": [
        "description = ds.describe() #statistical summary\n",
        "ds.info() \n",
        "\n",
        "print(pd.value_counts(ds['Credit_Score']))\n",
        "_ = plt.hist(ds['Credit_Score']) # Assign the result of plt.hist to variable _. This is a common trick to discard unwanted output.\n",
        "plt.show()"
      ]
    },
    {
      "cell_type": "code",
      "execution_count": 8,
      "metadata": {},
      "outputs": [],
      "source": [
        "#sns.pairplot(ds, hue='Credit_Score', corner=True, kind='reg')"
      ]
    },
    {
      "cell_type": "code",
      "execution_count": 9,
      "metadata": {},
      "outputs": [
        {
          "name": "stdout",
          "output_type": "stream",
          "text": [
            "<class 'pandas.core.frame.DataFrame'>\n",
            "RangeIndex: 100000 entries, 0 to 99999\n",
            "Data columns (total 18 columns):\n",
            " #   Column                    Non-Null Count   Dtype  \n",
            "---  ------                    --------------   -----  \n",
            " 0   id                        100000 non-null  int64  \n",
            " 1   Age                       100000 non-null  float64\n",
            " 2   Annual_Income             100000 non-null  float64\n",
            " 3   Monthly_Inhand_Salary     100000 non-null  float64\n",
            " 4   Num_Bank_Accounts         100000 non-null  float64\n",
            " 5   Num_Credit_Card           100000 non-null  float64\n",
            " 6   Interest_Rate             100000 non-null  float64\n",
            " 7   Num_of_Loan               100000 non-null  float64\n",
            " 8   Delay_from_due_date       100000 non-null  float64\n",
            " 9   Num_of_Delayed_Payment    100000 non-null  float64\n",
            " 10  Num_Credit_Inquiries      100000 non-null  float64\n",
            " 11  Credit_Mix                100000 non-null  int32  \n",
            " 12  Outstanding_Debt          100000 non-null  float64\n",
            " 13  Credit_Utilization_Ratio  100000 non-null  float64\n",
            " 14  Amount_invested_monthly   100000 non-null  float64\n",
            " 15  Payment_Behaviour         100000 non-null  int32  \n",
            " 16  Monthly_Balance           100000 non-null  float64\n",
            " 17  Credit_Score              100000 non-null  object \n",
            "dtypes: float64(14), int32(2), int64(1), object(1)\n",
            "memory usage: 13.0+ MB\n"
          ]
        }
      ],
      "source": [
        "#pre-process\n",
        "#we can eliminate a priori some columns, as we can consider them as not relevant \n",
        "ds = ds.drop(columns=['Occupation', 'Type_of_Loan', 'Credit_History_Age', 'Changed_Credit_Limit', 'Payment_of_Min_Amount'])\n",
        "#impute missing values\n",
        "ds = ds.replace(np.nan,00)\n",
        "ds.info()"
      ]
    },
    {
      "cell_type": "markdown",
      "metadata": {},
      "source": [
        "In order to see the popularity of age"
      ]
    },
    {
      "cell_type": "code",
      "execution_count": 10,
      "metadata": {},
      "outputs": [
        {
          "name": "stderr",
          "output_type": "stream",
          "text": [
            "c:\\Users\\alber\\anaconda3\\lib\\site-packages\\seaborn\\_decorators.py:36: FutureWarning: Pass the following variable as a keyword arg: x. From version 0.12, the only valid positional argument will be `data`, and passing other arguments without an explicit keyword will result in an error or misinterpretation.\n",
            "  warnings.warn(\n"
          ]
        },
        {
          "data": {
            "image/png": "[encoded data removed]",
            "text/plain": [
              "<Figure size 1000x600 with 1 Axes>"
            ]
          },
          "metadata": {},
          "output_type": "display_data"
        }
      ],
      "source": [
        "plt.figure(figsize=(10,6))\n",
        "sns.countplot(ds['Age'], palette='inferno')\n",
        "plt.xticks(rotation=90);"
      ]
    },
    {
      "cell_type": "markdown",
      "metadata": {},
      "source": [
        "Remove outliers"
      ]
    },
    {
      "cell_type": "markdown",
      "metadata": {},
      "source": [
        "Outliers are points that are noticebly different from the others, this is why it is better to remove them.\n",
        "We have decided to visualize them thanks to the boxplot, realized thanks to seaborn."
      ]
    },
    {
      "cell_type": "code",
      "execution_count": 11,
      "metadata": {},
      "outputs": [
        {
          "name": "stderr",
          "output_type": "stream",
          "text": [
            "c:\\Users\\alber\\anaconda3\\lib\\site-packages\\seaborn\\_decorators.py:36: FutureWarning: Pass the following variable as a keyword arg: x. From version 0.12, the only valid positional argument will be `data`, and passing other arguments without an explicit keyword will result in an error or misinterpretation.\n",
            "  warnings.warn(\n"
          ]
        },
        {
          "data": {
            "text/plain": [
              "<AxesSubplot:xlabel='Age'>"
            ]
          },
          "execution_count": 11,
          "metadata": {},
          "output_type": "execute_result"
        },
        {
          "data": {
            "image/png": "[encoded data removed]",
            "text/plain": [
              "<Figure size 640x480 with 1 Axes>"
            ]
          },
          "metadata": {},
          "output_type": "display_data"
        }
      ],
      "source": [
        "sns.boxplot(ds['Age'])"
      ]
    },
    {
      "cell_type": "code",
      "execution_count": 12,
      "metadata": {},
      "outputs": [
        {
          "name": "stdout",
          "output_type": "stream",
          "text": [
            "Percentiles: 25th=16489.740, 75th=67531.720, IQR=51041.980\n",
            "Identified outliers: 2356\n"
          ]
        },
        {
          "name": "stderr",
          "output_type": "stream",
          "text": [
            "c:\\Users\\alber\\anaconda3\\lib\\site-packages\\seaborn\\_decorators.py:36: FutureWarning: Pass the following variable as a keyword arg: x. From version 0.12, the only valid positional argument will be `data`, and passing other arguments without an explicit keyword will result in an error or misinterpretation.\n",
            "  warnings.warn(\n"
          ]
        },
        {
          "data": {
            "image/png": "[encoded data removed]",
            "text/plain": [
              "<Figure size 640x480 with 1 Axes>"
            ]
          },
          "metadata": {},
          "output_type": "display_data"
        }
      ],
      "source": [
        "sns.boxplot(ds['Annual_Income'], flierprops = dict(markerfacecolor = '0.50', markersize = 5)) #in order to better visualize them\n",
        "\n",
        "from numpy import percentile\n",
        "q25, q75 = percentile(ds['Annual_Income'], 25), percentile(ds['Annual_Income'], 75)\n",
        "iqr = q75 - q25\n",
        "print('Percentiles: 25th=%.3f, 75th=%.3f, IQR=%.3f' % (q25, q75, iqr))\n",
        "\n",
        "\n",
        "cut_off = iqr * 1.5\n",
        "lower, upper = q25 - cut_off, q75 + cut_off\n",
        "\n",
        "outliers = [x for x in ds['Annual_Income'] if x < lower or x > upper]\n",
        "print('Identified outliers: %d' % len(outliers))\n",
        "\n",
        "annual_income_mean = ds['Annual_Income'].mean()\n",
        "\n",
        "for i in outliers:\n",
        "    ds['Annual_Income'] = ds['Annual_Income'].replace(i,annual_income_mean)"
      ]
    },
    {
      "cell_type": "code",
      "execution_count": 13,
      "metadata": {},
      "outputs": [
        {
          "name": "stderr",
          "output_type": "stream",
          "text": [
            "c:\\Users\\alber\\anaconda3\\lib\\site-packages\\seaborn\\_decorators.py:36: FutureWarning: Pass the following variable as a keyword arg: x. From version 0.12, the only valid positional argument will be `data`, and passing other arguments without an explicit keyword will result in an error or misinterpretation.\n",
            "  warnings.warn(\n"
          ]
        },
        {
          "data": {
            "text/plain": [
              "<AxesSubplot:xlabel='Annual_Income'>"
            ]
          },
          "execution_count": 13,
          "metadata": {},
          "output_type": "execute_result"
        },
        {
          "data": {
            "image/png": "[encoded data removed]",
            "text/plain": [
              "<Figure size 640x480 with 1 Axes>"
            ]
          },
          "metadata": {},
          "output_type": "display_data"
        }
      ],
      "source": [
        "sns.boxplot(ds['Annual_Income'], flierprops = dict(markerfacecolor = '0.50', markersize = 5)) #in order to better visualize them\n"
      ]
    },
    {
      "cell_type": "code",
      "execution_count": 14,
      "metadata": {},
      "outputs": [
        {
          "name": "stderr",
          "output_type": "stream",
          "text": [
            "c:\\Users\\alber\\anaconda3\\lib\\site-packages\\seaborn\\_decorators.py:36: FutureWarning: Pass the following variable as a keyword arg: x. From version 0.12, the only valid positional argument will be `data`, and passing other arguments without an explicit keyword will result in an error or misinterpretation.\n",
            "  warnings.warn(\n"
          ]
        },
        {
          "data": {
            "text/plain": [
              "<AxesSubplot:xlabel='Annual_Income'>"
            ]
          },
          "execution_count": 14,
          "metadata": {},
          "output_type": "execute_result"
        },
        {
          "data": {
            "image/png": "[encoded data removed]",
            "text/plain": [
              "<Figure size 640x480 with 1 Axes>"
            ]
          },
          "metadata": {},
          "output_type": "display_data"
        }
      ],
      "source": [
        "sns.boxplot(ds['Annual_Income'], showfliers = False) #remove outliers"
      ]
    },
    {
      "cell_type": "code",
      "execution_count": 15,
      "metadata": {},
      "outputs": [
        {
          "name": "stdout",
          "output_type": "stream",
          "text": [
            "Percentiles: 25th=1365.072, 75th=5582.571, IQR=4217.499\n",
            "Identified outliers: 2570\n",
            "Non-outlier observations: 97430\n"
          ]
        },
        {
          "name": "stderr",
          "output_type": "stream",
          "text": [
            "c:\\Users\\alber\\anaconda3\\lib\\site-packages\\seaborn\\_decorators.py:36: FutureWarning: Pass the following variable as a keyword arg: x. From version 0.12, the only valid positional argument will be `data`, and passing other arguments without an explicit keyword will result in an error or misinterpretation.\n",
            "  warnings.warn(\n"
          ]
        },
        {
          "data": {
            "text/plain": [
              "<AxesSubplot:xlabel='Monthly_Inhand_Salary'>"
            ]
          },
          "execution_count": 15,
          "metadata": {},
          "output_type": "execute_result"
        },
        {
          "data": {
            "image/png": "[encoded data removed]",
            "text/plain": [
              "<Figure size 640x480 with 1 Axes>"
            ]
          },
          "metadata": {},
          "output_type": "display_data"
        }
      ],
      "source": [
        "q25, q75 = percentile(ds['Monthly_Inhand_Salary'], 25), percentile(ds['Monthly_Inhand_Salary'], 75)\n",
        "iqr = q75 - q25\n",
        "print('Percentiles: 25th=%.3f, 75th=%.3f, IQR=%.3f' % (q25, q75, iqr))\n",
        "\n",
        "\n",
        "cut_off = iqr * 1.5\n",
        "lower, upper = q25 - cut_off, q75 + cut_off\n",
        "\n",
        "outliers = [x for x in ds['Monthly_Inhand_Salary'] if x < lower or x > upper]\n",
        "print('Identified outliers: %d' % len(outliers))\n",
        "\n",
        "outliers_removed = [x for x in ds['Monthly_Inhand_Salary'] if x > lower and x < upper]\n",
        "print('Non-outlier observations: %d' % len(outliers_removed))\n",
        "\n",
        "sns.boxplot(ds['Monthly_Inhand_Salary'], flierprops = dict(markerfacecolor = '0.50', markersize = 5))"
      ]
    },
    {
      "cell_type": "code",
      "execution_count": 16,
      "metadata": {},
      "outputs": [
        {
          "name": "stderr",
          "output_type": "stream",
          "text": [
            "c:\\Users\\alber\\anaconda3\\lib\\site-packages\\seaborn\\_decorators.py:36: FutureWarning: Pass the following variable as a keyword arg: x. From version 0.12, the only valid positional argument will be `data`, and passing other arguments without an explicit keyword will result in an error or misinterpretation.\n",
            "  warnings.warn(\n"
          ]
        },
        {
          "data": {
            "text/plain": [
              "<AxesSubplot:xlabel='Monthly_Inhand_Salary'>"
            ]
          },
          "execution_count": 16,
          "metadata": {},
          "output_type": "execute_result"
        },
        {
          "data": {
            "image/png": "[encoded data removed]",
            "text/plain": [
              "<Figure size 640x480 with 1 Axes>"
            ]
          },
          "metadata": {},
          "output_type": "display_data"
        }
      ],
      "source": [
        "sns.boxplot(ds['Monthly_Inhand_Salary'],showfliers = False)"
      ]
    },
    {
      "cell_type": "code",
      "execution_count": 17,
      "metadata": {},
      "outputs": [
        {
          "name": "stderr",
          "output_type": "stream",
          "text": [
            "c:\\Users\\alber\\anaconda3\\lib\\site-packages\\seaborn\\_decorators.py:36: FutureWarning: Pass the following variable as a keyword arg: x. From version 0.12, the only valid positional argument will be `data`, and passing other arguments without an explicit keyword will result in an error or misinterpretation.\n",
            "  warnings.warn(\n"
          ]
        },
        {
          "data": {
            "text/plain": [
              "<AxesSubplot:xlabel='Num_Bank_Accounts'>"
            ]
          },
          "execution_count": 17,
          "metadata": {},
          "output_type": "execute_result"
        },
        {
          "data": {
            "image/png": "[encoded data removed]",
            "text/plain": [
              "<Figure size 640x480 with 1 Axes>"
            ]
          },
          "metadata": {},
          "output_type": "display_data"
        }
      ],
      "source": [
        "sns.boxplot(ds['Num_Bank_Accounts'], flierprops = dict(markerfacecolor = '0.50', markersize = 5))\n"
      ]
    },
    {
      "cell_type": "code",
      "execution_count": 18,
      "metadata": {},
      "outputs": [
        {
          "name": "stderr",
          "output_type": "stream",
          "text": [
            "c:\\Users\\alber\\anaconda3\\lib\\site-packages\\seaborn\\_decorators.py:36: FutureWarning: Pass the following variable as a keyword arg: x. From version 0.12, the only valid positional argument will be `data`, and passing other arguments without an explicit keyword will result in an error or misinterpretation.\n",
            "  warnings.warn(\n"
          ]
        },
        {
          "data": {
            "text/plain": [
              "<AxesSubplot:xlabel='Num_Bank_Accounts'>"
            ]
          },
          "execution_count": 18,
          "metadata": {},
          "output_type": "execute_result"
        },
        {
          "data": {
            "image/png": "[encoded data removed]",
            "text/plain": [
              "<Figure size 640x480 with 1 Axes>"
            ]
          },
          "metadata": {},
          "output_type": "display_data"
        }
      ],
      "source": [
        "sns.boxplot(ds['Num_Bank_Accounts'], showfliers = False)"
      ]
    },
    {
      "cell_type": "code",
      "execution_count": 19,
      "metadata": {},
      "outputs": [
        {
          "name": "stderr",
          "output_type": "stream",
          "text": [
            "c:\\Users\\alber\\anaconda3\\lib\\site-packages\\seaborn\\_decorators.py:36: FutureWarning: Pass the following variable as a keyword arg: x. From version 0.12, the only valid positional argument will be `data`, and passing other arguments without an explicit keyword will result in an error or misinterpretation.\n",
            "  warnings.warn(\n"
          ]
        },
        {
          "data": {
            "text/plain": [
              "<AxesSubplot:xlabel='Num_Credit_Card'>"
            ]
          },
          "execution_count": 19,
          "metadata": {},
          "output_type": "execute_result"
        },
        {
          "data": {
            "image/png": "[encoded data removed]",
            "text/plain": [
              "<Figure size 640x480 with 1 Axes>"
            ]
          },
          "metadata": {},
          "output_type": "display_data"
        }
      ],
      "source": [
        "sns.boxplot(ds['Num_Credit_Card'], flierprops = dict(markerfacecolor = '0.50', markersize = 5)) "
      ]
    },
    {
      "cell_type": "code",
      "execution_count": 20,
      "metadata": {},
      "outputs": [
        {
          "name": "stderr",
          "output_type": "stream",
          "text": [
            "c:\\Users\\alber\\anaconda3\\lib\\site-packages\\seaborn\\_decorators.py:36: FutureWarning: Pass the following variable as a keyword arg: x. From version 0.12, the only valid positional argument will be `data`, and passing other arguments without an explicit keyword will result in an error or misinterpretation.\n",
            "  warnings.warn(\n"
          ]
        },
        {
          "data": {
            "text/plain": [
              "<AxesSubplot:xlabel='Interest_Rate'>"
            ]
          },
          "execution_count": 20,
          "metadata": {},
          "output_type": "execute_result"
        },
        {
          "data": {
            "image/png": "[encoded data removed]",
            "text/plain": [
              "<Figure size 640x480 with 1 Axes>"
            ]
          },
          "metadata": {},
          "output_type": "display_data"
        }
      ],
      "source": [
        "sns.boxplot(ds['Interest_Rate'], flierprops = dict(markerfacecolor = '0.50', markersize = 5))"
      ]
    },
    {
      "cell_type": "code",
      "execution_count": 21,
      "metadata": {},
      "outputs": [
        {
          "name": "stderr",
          "output_type": "stream",
          "text": [
            "c:\\Users\\alber\\anaconda3\\lib\\site-packages\\seaborn\\_decorators.py:36: FutureWarning: Pass the following variable as a keyword arg: x. From version 0.12, the only valid positional argument will be `data`, and passing other arguments without an explicit keyword will result in an error or misinterpretation.\n",
            "  warnings.warn(\n"
          ]
        },
        {
          "data": {
            "text/plain": [
              "<AxesSubplot:xlabel='Num_of_Loan'>"
            ]
          },
          "execution_count": 21,
          "metadata": {},
          "output_type": "execute_result"
        },
        {
          "data": {
            "image/png": "[encoded data removed]",
            "text/plain": [
              "<Figure size 640x480 with 1 Axes>"
            ]
          },
          "metadata": {},
          "output_type": "display_data"
        }
      ],
      "source": [
        "sns.boxplot(ds['Num_of_Loan'], flierprops = dict(markerfacecolor = '0.50', markersize = 5))"
      ]
    },
    {
      "cell_type": "code",
      "execution_count": 22,
      "metadata": {},
      "outputs": [
        {
          "name": "stdout",
          "output_type": "stream",
          "text": [
            "Percentiles: 25th=7.000, 75th=27.000, IQR=20.000\n",
            "Identified outliers: 2602\n",
            "Non-outlier observations: 96905\n"
          ]
        },
        {
          "name": "stderr",
          "output_type": "stream",
          "text": [
            "c:\\Users\\alber\\anaconda3\\lib\\site-packages\\seaborn\\_decorators.py:36: FutureWarning: Pass the following variable as a keyword arg: x. From version 0.12, the only valid positional argument will be `data`, and passing other arguments without an explicit keyword will result in an error or misinterpretation.\n",
            "  warnings.warn(\n"
          ]
        },
        {
          "data": {
            "text/plain": [
              "<AxesSubplot:xlabel='Delay_from_due_date'>"
            ]
          },
          "execution_count": 22,
          "metadata": {},
          "output_type": "execute_result"
        },
        {
          "data": {
            "image/png": "[encoded data removed]",
            "text/plain": [
              "<Figure size 640x480 with 1 Axes>"
            ]
          },
          "metadata": {},
          "output_type": "display_data"
        }
      ],
      "source": [
        "q25, q75 = percentile(ds['Delay_from_due_date'], 25), percentile(ds['Delay_from_due_date'], 75)\n",
        "iqr = q75 - q25\n",
        "print('Percentiles: 25th=%.3f, 75th=%.3f, IQR=%.3f' % (q25, q75, iqr))\n",
        "\n",
        "\n",
        "cut_off = iqr * 1.5\n",
        "lower, upper = q25 - cut_off, q75 + cut_off\n",
        "\n",
        "outliers = [x for x in ds['Delay_from_due_date'] if x < lower or x > upper]\n",
        "print('Identified outliers: %d' % len(outliers))\n",
        "\n",
        "outliers_removed = [x for x in ds['Delay_from_due_date'] if x > lower and x < upper]\n",
        "print('Non-outlier observations: %d' % len(outliers_removed))\n",
        "\n",
        "\n",
        "sns.boxplot(ds['Delay_from_due_date'], flierprops = dict(markerfacecolor = '0.50', markersize = 5))"
      ]
    },
    {
      "cell_type": "code",
      "execution_count": 23,
      "metadata": {},
      "outputs": [
        {
          "name": "stderr",
          "output_type": "stream",
          "text": [
            "c:\\Users\\alber\\anaconda3\\lib\\site-packages\\seaborn\\_decorators.py:36: FutureWarning: Pass the following variable as a keyword arg: x. From version 0.12, the only valid positional argument will be `data`, and passing other arguments without an explicit keyword will result in an error or misinterpretation.\n",
            "  warnings.warn(\n"
          ]
        },
        {
          "data": {
            "text/plain": [
              "<AxesSubplot:xlabel='Num_of_Delayed_Payment'>"
            ]
          },
          "execution_count": 23,
          "metadata": {},
          "output_type": "execute_result"
        },
        {
          "data": {
            "image/png": "[encoded data removed]",
            "text/plain": [
              "<Figure size 640x480 with 1 Axes>"
            ]
          },
          "metadata": {},
          "output_type": "display_data"
        }
      ],
      "source": [
        "sns.boxplot(ds['Num_of_Delayed_Payment'], flierprops = dict(markerfacecolor = '0.50', markersize = 5))\n"
      ]
    },
    {
      "cell_type": "code",
      "execution_count": 24,
      "metadata": {},
      "outputs": [
        {
          "name": "stderr",
          "output_type": "stream",
          "text": [
            "c:\\Users\\alber\\anaconda3\\lib\\site-packages\\seaborn\\_decorators.py:36: FutureWarning: Pass the following variable as a keyword arg: x. From version 0.12, the only valid positional argument will be `data`, and passing other arguments without an explicit keyword will result in an error or misinterpretation.\n",
            "  warnings.warn(\n"
          ]
        },
        {
          "data": {
            "text/plain": [
              "<AxesSubplot:xlabel='Num_Credit_Inquiries'>"
            ]
          },
          "execution_count": 24,
          "metadata": {},
          "output_type": "execute_result"
        },
        {
          "data": {
            "image/png": "[encoded data removed]",
            "text/plain": [
              "<Figure size 640x480 with 1 Axes>"
            ]
          },
          "metadata": {},
          "output_type": "display_data"
        }
      ],
      "source": [
        "sns.boxplot(ds['Num_Credit_Inquiries'], flierprops = dict(markerfacecolor = '0.50', markersize = 5))\n",
        "\n"
      ]
    },
    {
      "cell_type": "code",
      "execution_count": 25,
      "metadata": {},
      "outputs": [
        {
          "name": "stderr",
          "output_type": "stream",
          "text": [
            "c:\\Users\\alber\\anaconda3\\lib\\site-packages\\seaborn\\_decorators.py:36: FutureWarning: Pass the following variable as a keyword arg: x. From version 0.12, the only valid positional argument will be `data`, and passing other arguments without an explicit keyword will result in an error or misinterpretation.\n",
            "  warnings.warn(\n"
          ]
        },
        {
          "data": {
            "text/plain": [
              "<AxesSubplot:xlabel='Credit_Mix'>"
            ]
          },
          "execution_count": 25,
          "metadata": {},
          "output_type": "execute_result"
        },
        {
          "data": {
            "image/png": "[encoded data removed]",
            "text/plain": [
              "<Figure size 640x480 with 1 Axes>"
            ]
          },
          "metadata": {},
          "output_type": "display_data"
        }
      ],
      "source": [
        "sns.boxplot(ds['Credit_Mix'], flierprops = dict(markerfacecolor = '0.50', markersize = 5))\n"
      ]
    },
    {
      "cell_type": "code",
      "execution_count": 26,
      "metadata": {},
      "outputs": [
        {
          "name": "stdout",
          "output_type": "stream",
          "text": [
            "Percentiles: 25th=391.310, 75th=1760.010, IQR=1368.700\n",
            "Identified outliers: 5716\n",
            "Non-outlier observations: 94284\n"
          ]
        },
        {
          "name": "stderr",
          "output_type": "stream",
          "text": [
            "c:\\Users\\alber\\anaconda3\\lib\\site-packages\\seaborn\\_decorators.py:36: FutureWarning: Pass the following variable as a keyword arg: x. From version 0.12, the only valid positional argument will be `data`, and passing other arguments without an explicit keyword will result in an error or misinterpretation.\n",
            "  warnings.warn(\n"
          ]
        },
        {
          "data": {
            "text/plain": [
              "<AxesSubplot:xlabel='Outstanding_Debt'>"
            ]
          },
          "execution_count": 26,
          "metadata": {},
          "output_type": "execute_result"
        },
        {
          "data": {
            "image/png": "[encoded data removed]",
            "text/plain": [
              "<Figure size 640x480 with 1 Axes>"
            ]
          },
          "metadata": {},
          "output_type": "display_data"
        }
      ],
      "source": [
        "q25, q75 = percentile(ds['Outstanding_Debt'], 25), percentile(ds['Outstanding_Debt'], 75)\n",
        "iqr = q75 - q25\n",
        "print('Percentiles: 25th=%.3f, 75th=%.3f, IQR=%.3f' % (q25, q75, iqr))\n",
        "\n",
        "\n",
        "cut_off = iqr * 1.5\n",
        "lower, upper = q25 - cut_off, q75 + cut_off\n",
        "\n",
        "outliers = [x for x in ds['Outstanding_Debt'] if x < lower or x > upper]\n",
        "print('Identified outliers: %d' % len(outliers))\n",
        "\n",
        "outliers_removed = [x for x in ds['Outstanding_Debt'] if x > lower and x < upper]\n",
        "print('Non-outlier observations: %d' % len(outliers_removed))\n",
        "\n",
        "sns.boxplot(ds['Outstanding_Debt'], flierprops = dict(markerfacecolor = '0.50', markersize = 5))\n"
      ]
    },
    {
      "cell_type": "code",
      "execution_count": 27,
      "metadata": {},
      "outputs": [
        {
          "name": "stderr",
          "output_type": "stream",
          "text": [
            "c:\\Users\\alber\\anaconda3\\lib\\site-packages\\seaborn\\_decorators.py:36: FutureWarning: Pass the following variable as a keyword arg: x. From version 0.12, the only valid positional argument will be `data`, and passing other arguments without an explicit keyword will result in an error or misinterpretation.\n",
            "  warnings.warn(\n"
          ]
        },
        {
          "data": {
            "text/plain": [
              "<AxesSubplot:xlabel='Outstanding_Debt'>"
            ]
          },
          "execution_count": 27,
          "metadata": {},
          "output_type": "execute_result"
        },
        {
          "data": {
            "image/png": "[encoded data removed]",
            "text/plain": [
              "<Figure size 640x480 with 1 Axes>"
            ]
          },
          "metadata": {},
          "output_type": "display_data"
        }
      ],
      "source": [
        "sns.boxplot(ds['Outstanding_Debt'],showfliers = False)"
      ]
    },
    {
      "cell_type": "code",
      "execution_count": 28,
      "metadata": {},
      "outputs": [
        {
          "name": "stdout",
          "output_type": "stream",
          "text": [
            "Percentiles: 25th=26.593, 75th=36.033, IQR=9.441\n",
            "Identified outliers: 10012\n",
            "Non-outlier observations: 89988\n"
          ]
        },
        {
          "name": "stderr",
          "output_type": "stream",
          "text": [
            "c:\\Users\\alber\\anaconda3\\lib\\site-packages\\seaborn\\_decorators.py:36: FutureWarning: Pass the following variable as a keyword arg: x. From version 0.12, the only valid positional argument will be `data`, and passing other arguments without an explicit keyword will result in an error or misinterpretation.\n",
            "  warnings.warn(\n"
          ]
        },
        {
          "data": {
            "text/plain": [
              "<AxesSubplot:xlabel='Credit_Utilization_Ratio'>"
            ]
          },
          "execution_count": 28,
          "metadata": {},
          "output_type": "execute_result"
        },
        {
          "data": {
            "image/png": "[encoded data removed]",
            "text/plain": [
              "<Figure size 640x480 with 1 Axes>"
            ]
          },
          "metadata": {},
          "output_type": "display_data"
        }
      ],
      "source": [
        "q25, q75 = percentile(ds['Credit_Utilization_Ratio'], 25), percentile(ds['Credit_Utilization_Ratio'], 75)\n",
        "iqr = q75 - q25\n",
        "print('Percentiles: 25th=%.3f, 75th=%.3f, IQR=%.3f' % (q25, q75, iqr))\n",
        "\n",
        "\n",
        "cut_off = iqr * 1.5\n",
        "lower, upper = q25 - cut_off, q75 + cut_off\n",
        "\n",
        "outliers = [x for x in ds['Credit_Utilization_Ratio'] if x < lower or x > upper]\n",
        "print('Identified outliers: %d' % len(outliers))\n",
        "\n",
        "outliers_removed = [x for x in ds['Credit_Utilization_Ratio'] if x > lower and x < upper]\n",
        "print('Non-outlier observations: %d' % len(outliers_removed))\n",
        "\n",
        "\n",
        "\n",
        "sns.boxplot(ds['Credit_Utilization_Ratio'], flierprops = dict(markerfacecolor = '0.50', markersize = 5))\n"
      ]
    },
    {
      "cell_type": "code",
      "execution_count": 29,
      "metadata": {},
      "outputs": [
        {
          "name": "stderr",
          "output_type": "stream",
          "text": [
            "c:\\Users\\alber\\anaconda3\\lib\\site-packages\\seaborn\\_decorators.py:36: FutureWarning: Pass the following variable as a keyword arg: x. From version 0.12, the only valid positional argument will be `data`, and passing other arguments without an explicit keyword will result in an error or misinterpretation.\n",
            "  warnings.warn(\n"
          ]
        },
        {
          "data": {
            "text/plain": [
              "<AxesSubplot:xlabel='Credit_Utilization_Ratio'>"
            ]
          },
          "execution_count": 29,
          "metadata": {},
          "output_type": "execute_result"
        },
        {
          "data": {
            "image/png": "[encoded data removed]",
            "text/plain": [
              "<Figure size 640x480 with 1 Axes>"
            ]
          },
          "metadata": {},
          "output_type": "display_data"
        }
      ],
      "source": [
        "sns.boxplot(ds['Credit_Utilization_Ratio'],showfliers = False)"
      ]
    },
    {
      "cell_type": "code",
      "execution_count": 30,
      "metadata": {},
      "outputs": [
        {
          "name": "stdout",
          "output_type": "stream",
          "text": [
            "Percentiles: 25th=54.206, 75th=234.757, IQR=180.551\n",
            "Identified outliers: 10485\n",
            "Non-outlier observations: 89515\n"
          ]
        },
        {
          "name": "stderr",
          "output_type": "stream",
          "text": [
            "c:\\Users\\alber\\anaconda3\\lib\\site-packages\\seaborn\\_decorators.py:36: FutureWarning: Pass the following variable as a keyword arg: x. From version 0.12, the only valid positional argument will be `data`, and passing other arguments without an explicit keyword will result in an error or misinterpretation.\n",
            "  warnings.warn(\n"
          ]
        },
        {
          "data": {
            "text/plain": [
              "<AxesSubplot:xlabel='Amount_invested_monthly'>"
            ]
          },
          "execution_count": 30,
          "metadata": {},
          "output_type": "execute_result"
        },
        {
          "data": {
            "image/png": "[encoded data removed]",
            "text/plain": [
              "<Figure size 640x480 with 1 Axes>"
            ]
          },
          "metadata": {},
          "output_type": "display_data"
        }
      ],
      "source": [
        "q25, q75 = percentile(ds['Amount_invested_monthly'], 25), percentile(ds['Amount_invested_monthly'], 75)\n",
        "iqr = q75 - q25\n",
        "print('Percentiles: 25th=%.3f, 75th=%.3f, IQR=%.3f' % (q25, q75, iqr))\n",
        "\n",
        "\n",
        "cut_off = iqr * 1.5\n",
        "lower, upper = q25 - cut_off, q75 + cut_off\n",
        "\n",
        "outliers = [x for x in ds['Amount_invested_monthly'] if x < lower or x > upper]\n",
        "print('Identified outliers: %d' % len(outliers))\n",
        "\n",
        "outliers_removed = [x for x in ds['Amount_invested_monthly'] if x > lower and x < upper]\n",
        "print('Non-outlier observations: %d' % len(outliers_removed))\n",
        "\n",
        "sns.boxplot(ds['Amount_invested_monthly'], flierprops = dict(markerfacecolor = '0.50', markersize = 5))\n"
      ]
    },
    {
      "cell_type": "code",
      "execution_count": 31,
      "metadata": {},
      "outputs": [
        {
          "name": "stderr",
          "output_type": "stream",
          "text": [
            "c:\\Users\\alber\\anaconda3\\lib\\site-packages\\seaborn\\_decorators.py:36: FutureWarning: Pass the following variable as a keyword arg: x. From version 0.12, the only valid positional argument will be `data`, and passing other arguments without an explicit keyword will result in an error or misinterpretation.\n",
            "  warnings.warn(\n"
          ]
        },
        {
          "data": {
            "text/plain": [
              "<AxesSubplot:xlabel='Amount_invested_monthly'>"
            ]
          },
          "execution_count": 31,
          "metadata": {},
          "output_type": "execute_result"
        },
        {
          "data": {
            "image/png": "[encoded data removed]",
            "text/plain": [
              "<Figure size 640x480 with 1 Axes>"
            ]
          },
          "metadata": {},
          "output_type": "display_data"
        }
      ],
      "source": [
        "sns.boxplot(ds['Amount_invested_monthly'], showfliers = False)"
      ]
    },
    {
      "cell_type": "code",
      "execution_count": 32,
      "metadata": {},
      "outputs": [
        {
          "name": "stderr",
          "output_type": "stream",
          "text": [
            "c:\\Users\\alber\\anaconda3\\lib\\site-packages\\seaborn\\_decorators.py:36: FutureWarning: Pass the following variable as a keyword arg: x. From version 0.12, the only valid positional argument will be `data`, and passing other arguments without an explicit keyword will result in an error or misinterpretation.\n",
            "  warnings.warn(\n"
          ]
        },
        {
          "data": {
            "text/plain": [
              "<AxesSubplot:xlabel='Payment_Behaviour'>"
            ]
          },
          "execution_count": 32,
          "metadata": {},
          "output_type": "execute_result"
        },
        {
          "data": {
            "image/png": "[encoded data removed]",
            "text/plain": [
              "<Figure size 640x480 with 1 Axes>"
            ]
          },
          "metadata": {},
          "output_type": "display_data"
        }
      ],
      "source": [
        "sns.boxplot(ds['Payment_Behaviour'], flierprops = dict(markerfacecolor = '0.50', markersize = 5))\n"
      ]
    },
    {
      "cell_type": "code",
      "execution_count": 33,
      "metadata": {},
      "outputs": [
        {
          "name": "stderr",
          "output_type": "stream",
          "text": [
            "c:\\Users\\alber\\anaconda3\\lib\\site-packages\\seaborn\\_decorators.py:36: FutureWarning: Pass the following variable as a keyword arg: x. From version 0.12, the only valid positional argument will be `data`, and passing other arguments without an explicit keyword will result in an error or misinterpretation.\n",
            "  warnings.warn(\n"
          ]
        },
        {
          "data": {
            "text/plain": [
              "<AxesSubplot:xlabel='Payment_Behaviour'>"
            ]
          },
          "execution_count": 33,
          "metadata": {},
          "output_type": "execute_result"
        },
        {
          "data": {
            "image/png": "[encoded data removed]",
            "text/plain": [
              "<Figure size 640x480 with 1 Axes>"
            ]
          },
          "metadata": {},
          "output_type": "display_data"
        }
      ],
      "source": [
        "sns.boxplot(ds['Payment_Behaviour'], showfliers = False)"
      ]
    },
    {
      "cell_type": "markdown",
      "metadata": {},
      "source": [
        "After having looked at our dataset and having cleaned it, we can now start collecting data into array of dependent (what we want to predict) and independent variables  "
      ]
    },
    {
      "cell_type": "code",
      "execution_count": 34,
      "metadata": {},
      "outputs": [],
      "source": [
        "#collect data into arrays\n",
        "X = ds.iloc[:, :-1].values      #independent variable\n",
        "y = ds.iloc[:, -1].values       #dependent variable"
      ]
    },
    {
      "cell_type": "code",
      "execution_count": 35,
      "metadata": {},
      "outputs": [],
      "source": [
        "from sklearn.model_selection import train_test_split\n",
        "X_train, X_test, y_train, y_test = train_test_split(X, y, test_size = 0.25, random_state = 0)"
      ]
    },
    {
      "cell_type": "code",
      "execution_count": 36,
      "metadata": {},
      "outputs": [],
      "source": [
        "#encode data. This step is really important, we have already transformed the categorical data into integers. REMEMBER, NEVER TRAIN ON THE TEST SET!!\n",
        "from sklearn.preprocessing import StandardScaler\n",
        "sc = StandardScaler()\n",
        "X_train = sc.fit_transform(X_train)\n",
        "X_test = sc.transform(X_test)"
      ]
    },
    {
      "cell_type": "markdown",
      "metadata": {},
      "source": [
        "We can now decide three models that can help us solving this problem. "
      ]
    },
    {
      "cell_type": "code",
      "execution_count": 37,
      "metadata": {},
      "outputs": [],
      "source": [
        "#validation from the training\n",
        "from sklearn.svm import SVC\n",
        "#from sklearn.tree import DecisionTreeClassifier\n",
        "from sklearn import neighbors\n",
        "from xgboost import XGBClassifier\n",
        "from sklearn.model_selection import GridSearchCV\n",
        "from sklearn.metrics import classification_report\n",
        "model = \"SVC\"\n",
        "\n",
        "if model == \"SVC\":\n",
        "    classifier = SVC(kernel = 'linear', random_state = 0, max_iter=10) #as it never stopped, we can insert a max_iter\n",
        "    param_grid = {'kernel':('linear', 'rbf', 'poly', 'sigmoid'), 'C':[0.1,1, 10, 100]}\n",
        "    classifier = SVC()\n",
        "    clf = GridSearchCV(classifier, param_grid)\n",
        "    clf.fit(X_train,y_train)\n",
        "elif model==\"C\":\n",
        "    classifier = XGBClassifier(use_label_encoder=False) #using XGboost as more efficient \n",
        "else :\n",
        "    k_range = list(range(5, 7))\n",
        "    param_grid = dict(n_neighbors=k_range)\n",
        "    knn = neighbors.KNeighborsClassifier()\n",
        "    # defining parameter range\n",
        "    grid = GridSearchCV(knn, param_grid, cv=10, scoring='accuracy', return_train_score=False,verbose=1)\n",
        "  \n",
        "    # fitting the model for grid search\n",
        "    grid_search=grid.fit(X_train, y_train)"
      ]
    },
    {
      "cell_type": "code",
      "execution_count": null,
      "metadata": {},
      "outputs": [],
      "source": [
        "y_pred = grid.predict(X_test)\n",
        "print(classification_report(y_test, y_pred))\n",
        "from sklearn.model_selection import cross_val_score\n",
        "scores = cross_val_score(classifier, X_train, y_train, cv=10)\n",
        "print(scores)\n",
        "\n",
        "\n",
        "\n",
        "\n",
        "param_grid = {'kernel':('linear', 'rbf', 'poly', 'sigmoid'), 'C':[0.1,1, 10, 100]}\n",
        "classifier = SVC()\n",
        "clf = GridSearchCV(classifier, param_grid)\n",
        "clf.fit(X_train,y_train)\n",
        "y_pred = clf.best_estimator_.predict(X_test) # this contains the best trained classifier\n",
        "print(classification_report(y_test, y_pred))"
      ]
    }
  ],
  "metadata": {
    "colab": {
      "provenance": []
    },
    "kernelspec": {
      "display_name": "Python 3.9.12 ('base')",
      "language": "python",
      "name": "python3"
    },
    "language_info": {
      "codemirror_mode": {
        "name": "ipython",
        "version": 3
      },
      "file_extension": ".py",
      "mimetype": "text/x-python",
      "name": "python",
      "nbconvert_exporter": "python",
      "pygments_lexer": "ipython3",
      "version": "3.9.12"
    },
    "vscode": {
      "interpreter": {
        "hash": "7c39e21a772e99c1a7e3fb7ef3402580462d255e64df51b314942f2f47217269"
      }
    }
  },
  "nbformat": 4,
  "nbformat_minor": 0
}
