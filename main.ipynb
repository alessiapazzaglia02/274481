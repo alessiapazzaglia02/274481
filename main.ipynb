{
  "cells": [
    {
      "cell_type": "markdown",
      "metadata": {
        "id": "DKRK-nvwnvMH"
      },
      "source": [
        "PRELIMINARY STEP: import libraries"
      ]
    },
    {
      "cell_type": "code",
      "execution_count": 1,
      "metadata": {
        "id": "3D81RKEunvML"
      },
      "outputs": [],
      "source": [
        "import pandas as pd\n",
        "import numpy as np\n",
        "import matplotlib.pyplot as plt\n",
        "import seaborn as sns\n",
        "%matplotlib inline"
      ]
    },
    {
      "cell_type": "code",
      "execution_count": 2,
      "metadata": {},
      "outputs": [],
      "source": [
        "import warnings\n",
        "warnings.filterwarnings(\"ignore\")"
      ]
    },
    {
      "cell_type": "markdown",
      "metadata": {
        "id": "eQ3bWmMznvMN"
      },
      "source": [
        "Reading the dataset thanks to the built-in function in pandas."
      ]
    },
    {
      "cell_type": "code",
      "execution_count": 3,
      "metadata": {
        "id": "yo_wd2phnvMO"
      },
      "outputs": [],
      "source": [
        "ds = pd.read_csv(\"./credit_prediction.csv\") #open and read the file using pandas"
      ]
    },
    {
      "cell_type": "code",
      "execution_count": null,
      "metadata": {
        "colab": {
          "base_uri": "https://localhost:8080/",
          "height": 1000
        },
        "id": "WWlX8YgCnvMO",
        "outputId": "3996d0e7-a6ac-409b-f7a7-4000334abc46"
      },
      "outputs": [],
      "source": [
        "ds.head(10) #show the first 10 elements"
      ]
    },
    {
      "cell_type": "code",
      "execution_count": null,
      "metadata": {
        "colab": {
          "base_uri": "https://localhost:8080/"
        },
        "id": "j2Mb0wHrnvMQ",
        "outputId": "6fff38bc-6fc7-4763-8423-547782f0a573"
      },
      "outputs": [],
      "source": [
        "ds.duplicated().sum() #let's see how many duplicates"
      ]
    },
    {
      "cell_type": "code",
      "execution_count": null,
      "metadata": {},
      "outputs": [],
      "source": [
        "sns.heatmap(ds.isna(), cbar = False) #to visualize null values for each column"
      ]
    },
    {
      "cell_type": "code",
      "execution_count": null,
      "metadata": {
        "colab": {
          "base_uri": "https://localhost:8080/"
        },
        "id": "SEo61k0dnvMS",
        "outputId": "38c2e6d4-7a3e-4155-c1d8-7ee70d391db9"
      },
      "outputs": [],
      "source": [
        "ds.value_counts() #how many variables\n",
        "ds.value_counts(normalize = True) #now in percentages"
      ]
    },
    {
      "cell_type": "code",
      "execution_count": null,
      "metadata": {},
      "outputs": [],
      "source": [
        "from sklearn.preprocessing import LabelEncoder\n",
        "ds['Credit_Mix'] = LabelEncoder().fit_transform(ds['Credit_Mix'])\n",
        "ds['Payment_Behaviour'] = LabelEncoder().fit_transform(ds['Payment_Behaviour'])\n"
      ]
    },
    {
      "cell_type": "code",
      "execution_count": 5,
      "metadata": {
        "colab": {
          "base_uri": "https://localhost:8080/",
          "height": 552
        },
        "id": "Ea5_d3sOnvMT",
        "outputId": "14e7a79a-d8e6-4414-b755-02f68d6126d3"
      },
      "outputs": [
        {
          "data": {
            "text/html": [
              "<div>\n",
              "<style scoped>\n",
              "    .dataframe tbody tr th:only-of-type {\n",
              "        vertical-align: middle;\n",
              "    }\n",
              "\n",
              "    .dataframe tbody tr th {\n",
              "        vertical-align: top;\n",
              "    }\n",
              "\n",
              "    .dataframe thead th {\n",
              "        text-align: right;\n",
              "    }\n",
              "</style>\n",
              "<table border=\"1\" class=\"dataframe\">\n",
              "  <thead>\n",
              "    <tr style=\"text-align: right;\">\n",
              "      <th></th>\n",
              "      <th>Age</th>\n",
              "      <th>Annual_Income</th>\n",
              "      <th>Monthly_Inhand_Salary</th>\n",
              "      <th>Num_Bank_Accounts</th>\n",
              "      <th>Num_Credit_Card</th>\n",
              "      <th>Interest_Rate</th>\n",
              "      <th>Num_of_Loan</th>\n",
              "      <th>Delay_from_due_date</th>\n",
              "      <th>Num_of_Delayed_Payment</th>\n",
              "      <th>Num_Credit_Inquiries</th>\n",
              "      <th>Outstanding_Debt</th>\n",
              "      <th>Credit_Utilization_Ratio</th>\n",
              "      <th>Amount_invested_monthly</th>\n",
              "      <th>Monthly_Balance</th>\n",
              "    </tr>\n",
              "  </thead>\n",
              "  <tbody>\n",
              "    <tr>\n",
              "      <th>Age</th>\n",
              "      <td>1.000000</td>\n",
              "      <td>0.094214</td>\n",
              "      <td>0.092432</td>\n",
              "      <td>-0.192405</td>\n",
              "      <td>-0.147670</td>\n",
              "      <td>-0.218744</td>\n",
              "      <td>-0.215283</td>\n",
              "      <td>-0.175110</td>\n",
              "      <td>-0.186063</td>\n",
              "      <td>-0.251603</td>\n",
              "      <td>-0.202975</td>\n",
              "      <td>0.023721</td>\n",
              "      <td>0.006597</td>\n",
              "      <td>-0.002635</td>\n",
              "    </tr>\n",
              "    <tr>\n",
              "      <th>Annual_Income</th>\n",
              "      <td>0.094214</td>\n",
              "      <td>1.000000</td>\n",
              "      <td>0.998155</td>\n",
              "      <td>-0.285732</td>\n",
              "      <td>-0.218083</td>\n",
              "      <td>-0.302391</td>\n",
              "      <td>-0.256766</td>\n",
              "      <td>-0.249761</td>\n",
              "      <td>-0.287701</td>\n",
              "      <td>-0.280632</td>\n",
              "      <td>-0.269997</td>\n",
              "      <td>0.177065</td>\n",
              "      <td>0.055108</td>\n",
              "      <td>-0.004711</td>\n",
              "    </tr>\n",
              "    <tr>\n",
              "      <th>Monthly_Inhand_Salary</th>\n",
              "      <td>0.092432</td>\n",
              "      <td>0.998155</td>\n",
              "      <td>1.000000</td>\n",
              "      <td>-0.283303</td>\n",
              "      <td>-0.216476</td>\n",
              "      <td>-0.301315</td>\n",
              "      <td>-0.256375</td>\n",
              "      <td>-0.249382</td>\n",
              "      <td>-0.285382</td>\n",
              "      <td>-0.279105</td>\n",
              "      <td>-0.269707</td>\n",
              "      <td>0.178518</td>\n",
              "      <td>0.053704</td>\n",
              "      <td>-0.004176</td>\n",
              "    </tr>\n",
              "    <tr>\n",
              "      <th>Num_Bank_Accounts</th>\n",
              "      <td>-0.192405</td>\n",
              "      <td>-0.285732</td>\n",
              "      <td>-0.283303</td>\n",
              "      <td>1.000000</td>\n",
              "      <td>0.442678</td>\n",
              "      <td>0.583227</td>\n",
              "      <td>0.472694</td>\n",
              "      <td>0.560583</td>\n",
              "      <td>0.601553</td>\n",
              "      <td>0.515379</td>\n",
              "      <td>0.506999</td>\n",
              "      <td>-0.070942</td>\n",
              "      <td>-0.015364</td>\n",
              "      <td>0.005845</td>\n",
              "    </tr>\n",
              "    <tr>\n",
              "      <th>Num_Credit_Card</th>\n",
              "      <td>-0.147670</td>\n",
              "      <td>-0.218083</td>\n",
              "      <td>-0.216476</td>\n",
              "      <td>0.442678</td>\n",
              "      <td>1.000000</td>\n",
              "      <td>0.499178</td>\n",
              "      <td>0.417508</td>\n",
              "      <td>0.479751</td>\n",
              "      <td>0.424036</td>\n",
              "      <td>0.458086</td>\n",
              "      <td>0.491157</td>\n",
              "      <td>-0.055238</td>\n",
              "      <td>-0.010274</td>\n",
              "      <td>0.004964</td>\n",
              "    </tr>\n",
              "    <tr>\n",
              "      <th>Interest_Rate</th>\n",
              "      <td>-0.218744</td>\n",
              "      <td>-0.302391</td>\n",
              "      <td>-0.301315</td>\n",
              "      <td>0.583227</td>\n",
              "      <td>0.499178</td>\n",
              "      <td>1.000000</td>\n",
              "      <td>0.560036</td>\n",
              "      <td>0.591529</td>\n",
              "      <td>0.571366</td>\n",
              "      <td>0.631691</td>\n",
              "      <td>0.628982</td>\n",
              "      <td>-0.077353</td>\n",
              "      <td>-0.018500</td>\n",
              "      <td>0.004477</td>\n",
              "    </tr>\n",
              "    <tr>\n",
              "      <th>Num_of_Loan</th>\n",
              "      <td>-0.215283</td>\n",
              "      <td>-0.256766</td>\n",
              "      <td>-0.256375</td>\n",
              "      <td>0.472694</td>\n",
              "      <td>0.417508</td>\n",
              "      <td>0.560036</td>\n",
              "      <td>1.000000</td>\n",
              "      <td>0.503398</td>\n",
              "      <td>0.473959</td>\n",
              "      <td>0.564533</td>\n",
              "      <td>0.639486</td>\n",
              "      <td>-0.101013</td>\n",
              "      <td>-0.012386</td>\n",
              "      <td>0.001958</td>\n",
              "    </tr>\n",
              "    <tr>\n",
              "      <th>Delay_from_due_date</th>\n",
              "      <td>-0.175110</td>\n",
              "      <td>-0.249761</td>\n",
              "      <td>-0.249382</td>\n",
              "      <td>0.560583</td>\n",
              "      <td>0.479751</td>\n",
              "      <td>0.591529</td>\n",
              "      <td>0.503398</td>\n",
              "      <td>1.000000</td>\n",
              "      <td>0.540332</td>\n",
              "      <td>0.539325</td>\n",
              "      <td>0.572768</td>\n",
              "      <td>-0.064390</td>\n",
              "      <td>-0.009811</td>\n",
              "      <td>0.004988</td>\n",
              "    </tr>\n",
              "    <tr>\n",
              "      <th>Num_of_Delayed_Payment</th>\n",
              "      <td>-0.186063</td>\n",
              "      <td>-0.287701</td>\n",
              "      <td>-0.285382</td>\n",
              "      <td>0.601553</td>\n",
              "      <td>0.424036</td>\n",
              "      <td>0.571366</td>\n",
              "      <td>0.473959</td>\n",
              "      <td>0.540332</td>\n",
              "      <td>1.000000</td>\n",
              "      <td>0.499689</td>\n",
              "      <td>0.503561</td>\n",
              "      <td>-0.072964</td>\n",
              "      <td>-0.021178</td>\n",
              "      <td>0.007799</td>\n",
              "    </tr>\n",
              "    <tr>\n",
              "      <th>Num_Credit_Inquiries</th>\n",
              "      <td>-0.251603</td>\n",
              "      <td>-0.280632</td>\n",
              "      <td>-0.279105</td>\n",
              "      <td>0.515379</td>\n",
              "      <td>0.458086</td>\n",
              "      <td>0.631691</td>\n",
              "      <td>0.564533</td>\n",
              "      <td>0.539325</td>\n",
              "      <td>0.499689</td>\n",
              "      <td>1.000000</td>\n",
              "      <td>0.597357</td>\n",
              "      <td>-0.079951</td>\n",
              "      <td>-0.017745</td>\n",
              "      <td>-0.002554</td>\n",
              "    </tr>\n",
              "    <tr>\n",
              "      <th>Outstanding_Debt</th>\n",
              "      <td>-0.202975</td>\n",
              "      <td>-0.269997</td>\n",
              "      <td>-0.269707</td>\n",
              "      <td>0.506999</td>\n",
              "      <td>0.491157</td>\n",
              "      <td>0.628982</td>\n",
              "      <td>0.639486</td>\n",
              "      <td>0.572768</td>\n",
              "      <td>0.503561</td>\n",
              "      <td>0.597357</td>\n",
              "      <td>1.000000</td>\n",
              "      <td>-0.072577</td>\n",
              "      <td>-0.013246</td>\n",
              "      <td>0.001235</td>\n",
              "    </tr>\n",
              "    <tr>\n",
              "      <th>Credit_Utilization_Ratio</th>\n",
              "      <td>0.023721</td>\n",
              "      <td>0.177065</td>\n",
              "      <td>0.178518</td>\n",
              "      <td>-0.070942</td>\n",
              "      <td>-0.055238</td>\n",
              "      <td>-0.077353</td>\n",
              "      <td>-0.101013</td>\n",
              "      <td>-0.064390</td>\n",
              "      <td>-0.072964</td>\n",
              "      <td>-0.079951</td>\n",
              "      <td>-0.072577</td>\n",
              "      <td>1.000000</td>\n",
              "      <td>0.001987</td>\n",
              "      <td>-0.004748</td>\n",
              "    </tr>\n",
              "    <tr>\n",
              "      <th>Amount_invested_monthly</th>\n",
              "      <td>0.006597</td>\n",
              "      <td>0.055108</td>\n",
              "      <td>0.053704</td>\n",
              "      <td>-0.015364</td>\n",
              "      <td>-0.010274</td>\n",
              "      <td>-0.018500</td>\n",
              "      <td>-0.012386</td>\n",
              "      <td>-0.009811</td>\n",
              "      <td>-0.021178</td>\n",
              "      <td>-0.017745</td>\n",
              "      <td>-0.013246</td>\n",
              "      <td>0.001987</td>\n",
              "      <td>1.000000</td>\n",
              "      <td>0.002295</td>\n",
              "    </tr>\n",
              "    <tr>\n",
              "      <th>Monthly_Balance</th>\n",
              "      <td>-0.002635</td>\n",
              "      <td>-0.004711</td>\n",
              "      <td>-0.004176</td>\n",
              "      <td>0.005845</td>\n",
              "      <td>0.004964</td>\n",
              "      <td>0.004477</td>\n",
              "      <td>0.001958</td>\n",
              "      <td>0.004988</td>\n",
              "      <td>0.007799</td>\n",
              "      <td>-0.002554</td>\n",
              "      <td>0.001235</td>\n",
              "      <td>-0.004748</td>\n",
              "      <td>0.002295</td>\n",
              "      <td>1.000000</td>\n",
              "    </tr>\n",
              "  </tbody>\n",
              "</table>\n",
              "</div>"
            ],
            "text/plain": [
              "                               Age  Annual_Income  Monthly_Inhand_Salary  \\\n",
              "Age                       1.000000       0.094214               0.092432   \n",
              "Annual_Income             0.094214       1.000000               0.998155   \n",
              "Monthly_Inhand_Salary     0.092432       0.998155               1.000000   \n",
              "Num_Bank_Accounts        -0.192405      -0.285732              -0.283303   \n",
              "Num_Credit_Card          -0.147670      -0.218083              -0.216476   \n",
              "Interest_Rate            -0.218744      -0.302391              -0.301315   \n",
              "Num_of_Loan              -0.215283      -0.256766              -0.256375   \n",
              "Delay_from_due_date      -0.175110      -0.249761              -0.249382   \n",
              "Num_of_Delayed_Payment   -0.186063      -0.287701              -0.285382   \n",
              "Num_Credit_Inquiries     -0.251603      -0.280632              -0.279105   \n",
              "Outstanding_Debt         -0.202975      -0.269997              -0.269707   \n",
              "Credit_Utilization_Ratio  0.023721       0.177065               0.178518   \n",
              "Amount_invested_monthly   0.006597       0.055108               0.053704   \n",
              "Monthly_Balance          -0.002635      -0.004711              -0.004176   \n",
              "\n",
              "                          Num_Bank_Accounts  Num_Credit_Card  Interest_Rate  \\\n",
              "Age                               -0.192405        -0.147670      -0.218744   \n",
              "Annual_Income                     -0.285732        -0.218083      -0.302391   \n",
              "Monthly_Inhand_Salary             -0.283303        -0.216476      -0.301315   \n",
              "Num_Bank_Accounts                  1.000000         0.442678       0.583227   \n",
              "Num_Credit_Card                    0.442678         1.000000       0.499178   \n",
              "Interest_Rate                      0.583227         0.499178       1.000000   \n",
              "Num_of_Loan                        0.472694         0.417508       0.560036   \n",
              "Delay_from_due_date                0.560583         0.479751       0.591529   \n",
              "Num_of_Delayed_Payment             0.601553         0.424036       0.571366   \n",
              "Num_Credit_Inquiries               0.515379         0.458086       0.631691   \n",
              "Outstanding_Debt                   0.506999         0.491157       0.628982   \n",
              "Credit_Utilization_Ratio          -0.070942        -0.055238      -0.077353   \n",
              "Amount_invested_monthly           -0.015364        -0.010274      -0.018500   \n",
              "Monthly_Balance                    0.005845         0.004964       0.004477   \n",
              "\n",
              "                          Num_of_Loan  Delay_from_due_date  \\\n",
              "Age                         -0.215283            -0.175110   \n",
              "Annual_Income               -0.256766            -0.249761   \n",
              "Monthly_Inhand_Salary       -0.256375            -0.249382   \n",
              "Num_Bank_Accounts            0.472694             0.560583   \n",
              "Num_Credit_Card              0.417508             0.479751   \n",
              "Interest_Rate                0.560036             0.591529   \n",
              "Num_of_Loan                  1.000000             0.503398   \n",
              "Delay_from_due_date          0.503398             1.000000   \n",
              "Num_of_Delayed_Payment       0.473959             0.540332   \n",
              "Num_Credit_Inquiries         0.564533             0.539325   \n",
              "Outstanding_Debt             0.639486             0.572768   \n",
              "Credit_Utilization_Ratio    -0.101013            -0.064390   \n",
              "Amount_invested_monthly     -0.012386            -0.009811   \n",
              "Monthly_Balance              0.001958             0.004988   \n",
              "\n",
              "                          Num_of_Delayed_Payment  Num_Credit_Inquiries  \\\n",
              "Age                                    -0.186063             -0.251603   \n",
              "Annual_Income                          -0.287701             -0.280632   \n",
              "Monthly_Inhand_Salary                  -0.285382             -0.279105   \n",
              "Num_Bank_Accounts                       0.601553              0.515379   \n",
              "Num_Credit_Card                         0.424036              0.458086   \n",
              "Interest_Rate                           0.571366              0.631691   \n",
              "Num_of_Loan                             0.473959              0.564533   \n",
              "Delay_from_due_date                     0.540332              0.539325   \n",
              "Num_of_Delayed_Payment                  1.000000              0.499689   \n",
              "Num_Credit_Inquiries                    0.499689              1.000000   \n",
              "Outstanding_Debt                        0.503561              0.597357   \n",
              "Credit_Utilization_Ratio               -0.072964             -0.079951   \n",
              "Amount_invested_monthly                -0.021178             -0.017745   \n",
              "Monthly_Balance                         0.007799             -0.002554   \n",
              "\n",
              "                          Outstanding_Debt  Credit_Utilization_Ratio  \\\n",
              "Age                              -0.202975                  0.023721   \n",
              "Annual_Income                    -0.269997                  0.177065   \n",
              "Monthly_Inhand_Salary            -0.269707                  0.178518   \n",
              "Num_Bank_Accounts                 0.506999                 -0.070942   \n",
              "Num_Credit_Card                   0.491157                 -0.055238   \n",
              "Interest_Rate                     0.628982                 -0.077353   \n",
              "Num_of_Loan                       0.639486                 -0.101013   \n",
              "Delay_from_due_date               0.572768                 -0.064390   \n",
              "Num_of_Delayed_Payment            0.503561                 -0.072964   \n",
              "Num_Credit_Inquiries              0.597357                 -0.079951   \n",
              "Outstanding_Debt                  1.000000                 -0.072577   \n",
              "Credit_Utilization_Ratio         -0.072577                  1.000000   \n",
              "Amount_invested_monthly          -0.013246                  0.001987   \n",
              "Monthly_Balance                   0.001235                 -0.004748   \n",
              "\n",
              "                          Amount_invested_monthly  Monthly_Balance  \n",
              "Age                                      0.006597        -0.002635  \n",
              "Annual_Income                            0.055108        -0.004711  \n",
              "Monthly_Inhand_Salary                    0.053704        -0.004176  \n",
              "Num_Bank_Accounts                       -0.015364         0.005845  \n",
              "Num_Credit_Card                         -0.010274         0.004964  \n",
              "Interest_Rate                           -0.018500         0.004477  \n",
              "Num_of_Loan                             -0.012386         0.001958  \n",
              "Delay_from_due_date                     -0.009811         0.004988  \n",
              "Num_of_Delayed_Payment                  -0.021178         0.007799  \n",
              "Num_Credit_Inquiries                    -0.017745        -0.002554  \n",
              "Outstanding_Debt                        -0.013246         0.001235  \n",
              "Credit_Utilization_Ratio                 0.001987        -0.004748  \n",
              "Amount_invested_monthly                  1.000000         0.002295  \n",
              "Monthly_Balance                          0.002295         1.000000  "
            ]
          },
          "execution_count": 5,
          "metadata": {},
          "output_type": "execute_result"
        }
      ],
      "source": [
        "#we can eliminate a priori some columns, as we can consider them as not relevant \n",
        "ds = ds.drop(columns=['id','Occupation', 'Type_of_Loan', 'Credit_History_Age', 'Changed_Credit_Limit', 'Payment_of_Min_Amount'])\n",
        "ds.corr() #to see correlations, but all categorical ones will be ignored, so change them"
      ]
    },
    {
      "cell_type": "code",
      "execution_count": 6,
      "metadata": {},
      "outputs": [],
      "source": []
    },
    {
      "cell_type": "code",
      "execution_count": 7,
      "metadata": {
        "colab": {
          "base_uri": "https://localhost:8080/",
          "height": 615
        },
        "id": "fWapo3PQnvMU",
        "outputId": "00f0724b-abdb-4ff4-8fd8-96e29b7497c0"
      },
      "outputs": [
        {
          "data": {
            "text/html": [
              "<div>\n",
              "<style scoped>\n",
              "    .dataframe tbody tr th:only-of-type {\n",
              "        vertical-align: middle;\n",
              "    }\n",
              "\n",
              "    .dataframe tbody tr th {\n",
              "        vertical-align: top;\n",
              "    }\n",
              "\n",
              "    .dataframe thead th {\n",
              "        text-align: right;\n",
              "    }\n",
              "</style>\n",
              "<table border=\"1\" class=\"dataframe\">\n",
              "  <thead>\n",
              "    <tr style=\"text-align: right;\">\n",
              "      <th></th>\n",
              "      <th>Age</th>\n",
              "      <th>Annual_Income</th>\n",
              "      <th>Monthly_Inhand_Salary</th>\n",
              "      <th>Num_Bank_Accounts</th>\n",
              "      <th>Num_Credit_Card</th>\n",
              "      <th>Interest_Rate</th>\n",
              "      <th>Num_of_Loan</th>\n",
              "      <th>Delay_from_due_date</th>\n",
              "      <th>Num_of_Delayed_Payment</th>\n",
              "      <th>Num_Credit_Inquiries</th>\n",
              "      <th>Credit_Mix</th>\n",
              "      <th>Outstanding_Debt</th>\n",
              "      <th>Credit_Utilization_Ratio</th>\n",
              "      <th>Amount_invested_monthly</th>\n",
              "      <th>Payment_Behaviour</th>\n",
              "      <th>Monthly_Balance</th>\n",
              "    </tr>\n",
              "  </thead>\n",
              "  <tbody>\n",
              "    <tr>\n",
              "      <th>Age</th>\n",
              "      <td>1.000000</td>\n",
              "      <td>0.094214</td>\n",
              "      <td>0.092432</td>\n",
              "      <td>-0.192405</td>\n",
              "      <td>-0.147670</td>\n",
              "      <td>-0.218744</td>\n",
              "      <td>-0.215283</td>\n",
              "      <td>-0.175110</td>\n",
              "      <td>-0.186063</td>\n",
              "      <td>-0.251603</td>\n",
              "      <td>0.060897</td>\n",
              "      <td>-0.202975</td>\n",
              "      <td>0.023721</td>\n",
              "      <td>0.006597</td>\n",
              "      <td>-0.030798</td>\n",
              "      <td>-0.002635</td>\n",
              "    </tr>\n",
              "    <tr>\n",
              "      <th>Annual_Income</th>\n",
              "      <td>0.094214</td>\n",
              "      <td>1.000000</td>\n",
              "      <td>0.998155</td>\n",
              "      <td>-0.285732</td>\n",
              "      <td>-0.218083</td>\n",
              "      <td>-0.302391</td>\n",
              "      <td>-0.256766</td>\n",
              "      <td>-0.249761</td>\n",
              "      <td>-0.287701</td>\n",
              "      <td>-0.280632</td>\n",
              "      <td>0.078006</td>\n",
              "      <td>-0.269997</td>\n",
              "      <td>0.177065</td>\n",
              "      <td>0.055108</td>\n",
              "      <td>-0.265724</td>\n",
              "      <td>-0.004711</td>\n",
              "    </tr>\n",
              "    <tr>\n",
              "      <th>Monthly_Inhand_Salary</th>\n",
              "      <td>0.092432</td>\n",
              "      <td>0.998155</td>\n",
              "      <td>1.000000</td>\n",
              "      <td>-0.283303</td>\n",
              "      <td>-0.216476</td>\n",
              "      <td>-0.301315</td>\n",
              "      <td>-0.256375</td>\n",
              "      <td>-0.249382</td>\n",
              "      <td>-0.285382</td>\n",
              "      <td>-0.279105</td>\n",
              "      <td>0.077388</td>\n",
              "      <td>-0.269707</td>\n",
              "      <td>0.178518</td>\n",
              "      <td>0.053704</td>\n",
              "      <td>-0.266155</td>\n",
              "      <td>-0.004176</td>\n",
              "    </tr>\n",
              "    <tr>\n",
              "      <th>Num_Bank_Accounts</th>\n",
              "      <td>-0.192405</td>\n",
              "      <td>-0.285732</td>\n",
              "      <td>-0.283303</td>\n",
              "      <td>1.000000</td>\n",
              "      <td>0.442678</td>\n",
              "      <td>0.583227</td>\n",
              "      <td>0.472694</td>\n",
              "      <td>0.560583</td>\n",
              "      <td>0.601553</td>\n",
              "      <td>0.515379</td>\n",
              "      <td>-0.184559</td>\n",
              "      <td>0.506999</td>\n",
              "      <td>-0.070942</td>\n",
              "      <td>-0.015364</td>\n",
              "      <td>0.080292</td>\n",
              "      <td>0.005845</td>\n",
              "    </tr>\n",
              "    <tr>\n",
              "      <th>Num_Credit_Card</th>\n",
              "      <td>-0.147670</td>\n",
              "      <td>-0.218083</td>\n",
              "      <td>-0.216476</td>\n",
              "      <td>0.442678</td>\n",
              "      <td>1.000000</td>\n",
              "      <td>0.499178</td>\n",
              "      <td>0.417508</td>\n",
              "      <td>0.479751</td>\n",
              "      <td>0.424036</td>\n",
              "      <td>0.458086</td>\n",
              "      <td>-0.263867</td>\n",
              "      <td>0.491157</td>\n",
              "      <td>-0.055238</td>\n",
              "      <td>-0.010274</td>\n",
              "      <td>0.063975</td>\n",
              "      <td>0.004964</td>\n",
              "    </tr>\n",
              "    <tr>\n",
              "      <th>Interest_Rate</th>\n",
              "      <td>-0.218744</td>\n",
              "      <td>-0.302391</td>\n",
              "      <td>-0.301315</td>\n",
              "      <td>0.583227</td>\n",
              "      <td>0.499178</td>\n",
              "      <td>1.000000</td>\n",
              "      <td>0.560036</td>\n",
              "      <td>0.591529</td>\n",
              "      <td>0.571366</td>\n",
              "      <td>0.631691</td>\n",
              "      <td>-0.259463</td>\n",
              "      <td>0.628982</td>\n",
              "      <td>-0.077353</td>\n",
              "      <td>-0.018500</td>\n",
              "      <td>0.090950</td>\n",
              "      <td>0.004477</td>\n",
              "    </tr>\n",
              "    <tr>\n",
              "      <th>Num_of_Loan</th>\n",
              "      <td>-0.215283</td>\n",
              "      <td>-0.256766</td>\n",
              "      <td>-0.256375</td>\n",
              "      <td>0.472694</td>\n",
              "      <td>0.417508</td>\n",
              "      <td>0.560036</td>\n",
              "      <td>1.000000</td>\n",
              "      <td>0.503398</td>\n",
              "      <td>0.473959</td>\n",
              "      <td>0.564533</td>\n",
              "      <td>-0.351639</td>\n",
              "      <td>0.639486</td>\n",
              "      <td>-0.101013</td>\n",
              "      <td>-0.012386</td>\n",
              "      <td>0.077168</td>\n",
              "      <td>0.001958</td>\n",
              "    </tr>\n",
              "    <tr>\n",
              "      <th>Delay_from_due_date</th>\n",
              "      <td>-0.175110</td>\n",
              "      <td>-0.249761</td>\n",
              "      <td>-0.249382</td>\n",
              "      <td>0.560583</td>\n",
              "      <td>0.479751</td>\n",
              "      <td>0.591529</td>\n",
              "      <td>0.503398</td>\n",
              "      <td>1.000000</td>\n",
              "      <td>0.540332</td>\n",
              "      <td>0.539325</td>\n",
              "      <td>-0.326715</td>\n",
              "      <td>0.572768</td>\n",
              "      <td>-0.064390</td>\n",
              "      <td>-0.009811</td>\n",
              "      <td>0.077015</td>\n",
              "      <td>0.004988</td>\n",
              "    </tr>\n",
              "    <tr>\n",
              "      <th>Num_of_Delayed_Payment</th>\n",
              "      <td>-0.186063</td>\n",
              "      <td>-0.287701</td>\n",
              "      <td>-0.285382</td>\n",
              "      <td>0.601553</td>\n",
              "      <td>0.424036</td>\n",
              "      <td>0.571366</td>\n",
              "      <td>0.473959</td>\n",
              "      <td>0.540332</td>\n",
              "      <td>1.000000</td>\n",
              "      <td>0.499689</td>\n",
              "      <td>-0.195698</td>\n",
              "      <td>0.503561</td>\n",
              "      <td>-0.072964</td>\n",
              "      <td>-0.021178</td>\n",
              "      <td>0.084444</td>\n",
              "      <td>0.007799</td>\n",
              "    </tr>\n",
              "    <tr>\n",
              "      <th>Num_Credit_Inquiries</th>\n",
              "      <td>-0.251603</td>\n",
              "      <td>-0.280632</td>\n",
              "      <td>-0.279105</td>\n",
              "      <td>0.515379</td>\n",
              "      <td>0.458086</td>\n",
              "      <td>0.631691</td>\n",
              "      <td>0.564533</td>\n",
              "      <td>0.539325</td>\n",
              "      <td>0.499689</td>\n",
              "      <td>1.000000</td>\n",
              "      <td>-0.267859</td>\n",
              "      <td>0.597357</td>\n",
              "      <td>-0.079951</td>\n",
              "      <td>-0.017745</td>\n",
              "      <td>0.086762</td>\n",
              "      <td>-0.002554</td>\n",
              "    </tr>\n",
              "    <tr>\n",
              "      <th>Credit_Mix</th>\n",
              "      <td>0.060897</td>\n",
              "      <td>0.078006</td>\n",
              "      <td>0.077388</td>\n",
              "      <td>-0.184559</td>\n",
              "      <td>-0.263867</td>\n",
              "      <td>-0.259463</td>\n",
              "      <td>-0.351639</td>\n",
              "      <td>-0.326715</td>\n",
              "      <td>-0.195698</td>\n",
              "      <td>-0.267859</td>\n",
              "      <td>1.000000</td>\n",
              "      <td>-0.458926</td>\n",
              "      <td>0.025971</td>\n",
              "      <td>0.001187</td>\n",
              "      <td>-0.029618</td>\n",
              "      <td>-0.004519</td>\n",
              "    </tr>\n",
              "    <tr>\n",
              "      <th>Outstanding_Debt</th>\n",
              "      <td>-0.202975</td>\n",
              "      <td>-0.269997</td>\n",
              "      <td>-0.269707</td>\n",
              "      <td>0.506999</td>\n",
              "      <td>0.491157</td>\n",
              "      <td>0.628982</td>\n",
              "      <td>0.639486</td>\n",
              "      <td>0.572768</td>\n",
              "      <td>0.503561</td>\n",
              "      <td>0.597357</td>\n",
              "      <td>-0.458926</td>\n",
              "      <td>1.000000</td>\n",
              "      <td>-0.072577</td>\n",
              "      <td>-0.013246</td>\n",
              "      <td>0.083036</td>\n",
              "      <td>0.001235</td>\n",
              "    </tr>\n",
              "    <tr>\n",
              "      <th>Credit_Utilization_Ratio</th>\n",
              "      <td>0.023721</td>\n",
              "      <td>0.177065</td>\n",
              "      <td>0.178518</td>\n",
              "      <td>-0.070942</td>\n",
              "      <td>-0.055238</td>\n",
              "      <td>-0.077353</td>\n",
              "      <td>-0.101013</td>\n",
              "      <td>-0.064390</td>\n",
              "      <td>-0.072964</td>\n",
              "      <td>-0.079951</td>\n",
              "      <td>0.025971</td>\n",
              "      <td>-0.072577</td>\n",
              "      <td>1.000000</td>\n",
              "      <td>0.001987</td>\n",
              "      <td>-0.106230</td>\n",
              "      <td>-0.004748</td>\n",
              "    </tr>\n",
              "    <tr>\n",
              "      <th>Amount_invested_monthly</th>\n",
              "      <td>0.006597</td>\n",
              "      <td>0.055108</td>\n",
              "      <td>0.053704</td>\n",
              "      <td>-0.015364</td>\n",
              "      <td>-0.010274</td>\n",
              "      <td>-0.018500</td>\n",
              "      <td>-0.012386</td>\n",
              "      <td>-0.009811</td>\n",
              "      <td>-0.021178</td>\n",
              "      <td>-0.017745</td>\n",
              "      <td>0.001187</td>\n",
              "      <td>-0.013246</td>\n",
              "      <td>0.001987</td>\n",
              "      <td>1.000000</td>\n",
              "      <td>0.018440</td>\n",
              "      <td>0.002295</td>\n",
              "    </tr>\n",
              "    <tr>\n",
              "      <th>Payment_Behaviour</th>\n",
              "      <td>-0.030798</td>\n",
              "      <td>-0.265724</td>\n",
              "      <td>-0.266155</td>\n",
              "      <td>0.080292</td>\n",
              "      <td>0.063975</td>\n",
              "      <td>0.090950</td>\n",
              "      <td>0.077168</td>\n",
              "      <td>0.077015</td>\n",
              "      <td>0.084444</td>\n",
              "      <td>0.086762</td>\n",
              "      <td>-0.029618</td>\n",
              "      <td>0.083036</td>\n",
              "      <td>-0.106230</td>\n",
              "      <td>0.018440</td>\n",
              "      <td>1.000000</td>\n",
              "      <td>-0.003225</td>\n",
              "    </tr>\n",
              "    <tr>\n",
              "      <th>Monthly_Balance</th>\n",
              "      <td>-0.002635</td>\n",
              "      <td>-0.004711</td>\n",
              "      <td>-0.004176</td>\n",
              "      <td>0.005845</td>\n",
              "      <td>0.004964</td>\n",
              "      <td>0.004477</td>\n",
              "      <td>0.001958</td>\n",
              "      <td>0.004988</td>\n",
              "      <td>0.007799</td>\n",
              "      <td>-0.002554</td>\n",
              "      <td>-0.004519</td>\n",
              "      <td>0.001235</td>\n",
              "      <td>-0.004748</td>\n",
              "      <td>0.002295</td>\n",
              "      <td>-0.003225</td>\n",
              "      <td>1.000000</td>\n",
              "    </tr>\n",
              "  </tbody>\n",
              "</table>\n",
              "</div>"
            ],
            "text/plain": [
              "                               Age  Annual_Income  Monthly_Inhand_Salary  \\\n",
              "Age                       1.000000       0.094214               0.092432   \n",
              "Annual_Income             0.094214       1.000000               0.998155   \n",
              "Monthly_Inhand_Salary     0.092432       0.998155               1.000000   \n",
              "Num_Bank_Accounts        -0.192405      -0.285732              -0.283303   \n",
              "Num_Credit_Card          -0.147670      -0.218083              -0.216476   \n",
              "Interest_Rate            -0.218744      -0.302391              -0.301315   \n",
              "Num_of_Loan              -0.215283      -0.256766              -0.256375   \n",
              "Delay_from_due_date      -0.175110      -0.249761              -0.249382   \n",
              "Num_of_Delayed_Payment   -0.186063      -0.287701              -0.285382   \n",
              "Num_Credit_Inquiries     -0.251603      -0.280632              -0.279105   \n",
              "Credit_Mix                0.060897       0.078006               0.077388   \n",
              "Outstanding_Debt         -0.202975      -0.269997              -0.269707   \n",
              "Credit_Utilization_Ratio  0.023721       0.177065               0.178518   \n",
              "Amount_invested_monthly   0.006597       0.055108               0.053704   \n",
              "Payment_Behaviour        -0.030798      -0.265724              -0.266155   \n",
              "Monthly_Balance          -0.002635      -0.004711              -0.004176   \n",
              "\n",
              "                          Num_Bank_Accounts  Num_Credit_Card  Interest_Rate  \\\n",
              "Age                               -0.192405        -0.147670      -0.218744   \n",
              "Annual_Income                     -0.285732        -0.218083      -0.302391   \n",
              "Monthly_Inhand_Salary             -0.283303        -0.216476      -0.301315   \n",
              "Num_Bank_Accounts                  1.000000         0.442678       0.583227   \n",
              "Num_Credit_Card                    0.442678         1.000000       0.499178   \n",
              "Interest_Rate                      0.583227         0.499178       1.000000   \n",
              "Num_of_Loan                        0.472694         0.417508       0.560036   \n",
              "Delay_from_due_date                0.560583         0.479751       0.591529   \n",
              "Num_of_Delayed_Payment             0.601553         0.424036       0.571366   \n",
              "Num_Credit_Inquiries               0.515379         0.458086       0.631691   \n",
              "Credit_Mix                        -0.184559        -0.263867      -0.259463   \n",
              "Outstanding_Debt                   0.506999         0.491157       0.628982   \n",
              "Credit_Utilization_Ratio          -0.070942        -0.055238      -0.077353   \n",
              "Amount_invested_monthly           -0.015364        -0.010274      -0.018500   \n",
              "Payment_Behaviour                  0.080292         0.063975       0.090950   \n",
              "Monthly_Balance                    0.005845         0.004964       0.004477   \n",
              "\n",
              "                          Num_of_Loan  Delay_from_due_date  \\\n",
              "Age                         -0.215283            -0.175110   \n",
              "Annual_Income               -0.256766            -0.249761   \n",
              "Monthly_Inhand_Salary       -0.256375            -0.249382   \n",
              "Num_Bank_Accounts            0.472694             0.560583   \n",
              "Num_Credit_Card              0.417508             0.479751   \n",
              "Interest_Rate                0.560036             0.591529   \n",
              "Num_of_Loan                  1.000000             0.503398   \n",
              "Delay_from_due_date          0.503398             1.000000   \n",
              "Num_of_Delayed_Payment       0.473959             0.540332   \n",
              "Num_Credit_Inquiries         0.564533             0.539325   \n",
              "Credit_Mix                  -0.351639            -0.326715   \n",
              "Outstanding_Debt             0.639486             0.572768   \n",
              "Credit_Utilization_Ratio    -0.101013            -0.064390   \n",
              "Amount_invested_monthly     -0.012386            -0.009811   \n",
              "Payment_Behaviour            0.077168             0.077015   \n",
              "Monthly_Balance              0.001958             0.004988   \n",
              "\n",
              "                          Num_of_Delayed_Payment  Num_Credit_Inquiries  \\\n",
              "Age                                    -0.186063             -0.251603   \n",
              "Annual_Income                          -0.287701             -0.280632   \n",
              "Monthly_Inhand_Salary                  -0.285382             -0.279105   \n",
              "Num_Bank_Accounts                       0.601553              0.515379   \n",
              "Num_Credit_Card                         0.424036              0.458086   \n",
              "Interest_Rate                           0.571366              0.631691   \n",
              "Num_of_Loan                             0.473959              0.564533   \n",
              "Delay_from_due_date                     0.540332              0.539325   \n",
              "Num_of_Delayed_Payment                  1.000000              0.499689   \n",
              "Num_Credit_Inquiries                    0.499689              1.000000   \n",
              "Credit_Mix                             -0.195698             -0.267859   \n",
              "Outstanding_Debt                        0.503561              0.597357   \n",
              "Credit_Utilization_Ratio               -0.072964             -0.079951   \n",
              "Amount_invested_monthly                -0.021178             -0.017745   \n",
              "Payment_Behaviour                       0.084444              0.086762   \n",
              "Monthly_Balance                         0.007799             -0.002554   \n",
              "\n",
              "                          Credit_Mix  Outstanding_Debt  \\\n",
              "Age                         0.060897         -0.202975   \n",
              "Annual_Income               0.078006         -0.269997   \n",
              "Monthly_Inhand_Salary       0.077388         -0.269707   \n",
              "Num_Bank_Accounts          -0.184559          0.506999   \n",
              "Num_Credit_Card            -0.263867          0.491157   \n",
              "Interest_Rate              -0.259463          0.628982   \n",
              "Num_of_Loan                -0.351639          0.639486   \n",
              "Delay_from_due_date        -0.326715          0.572768   \n",
              "Num_of_Delayed_Payment     -0.195698          0.503561   \n",
              "Num_Credit_Inquiries       -0.267859          0.597357   \n",
              "Credit_Mix                  1.000000         -0.458926   \n",
              "Outstanding_Debt           -0.458926          1.000000   \n",
              "Credit_Utilization_Ratio    0.025971         -0.072577   \n",
              "Amount_invested_monthly     0.001187         -0.013246   \n",
              "Payment_Behaviour          -0.029618          0.083036   \n",
              "Monthly_Balance            -0.004519          0.001235   \n",
              "\n",
              "                          Credit_Utilization_Ratio  Amount_invested_monthly  \\\n",
              "Age                                       0.023721                 0.006597   \n",
              "Annual_Income                             0.177065                 0.055108   \n",
              "Monthly_Inhand_Salary                     0.178518                 0.053704   \n",
              "Num_Bank_Accounts                        -0.070942                -0.015364   \n",
              "Num_Credit_Card                          -0.055238                -0.010274   \n",
              "Interest_Rate                            -0.077353                -0.018500   \n",
              "Num_of_Loan                              -0.101013                -0.012386   \n",
              "Delay_from_due_date                      -0.064390                -0.009811   \n",
              "Num_of_Delayed_Payment                   -0.072964                -0.021178   \n",
              "Num_Credit_Inquiries                     -0.079951                -0.017745   \n",
              "Credit_Mix                                0.025971                 0.001187   \n",
              "Outstanding_Debt                         -0.072577                -0.013246   \n",
              "Credit_Utilization_Ratio                  1.000000                 0.001987   \n",
              "Amount_invested_monthly                   0.001987                 1.000000   \n",
              "Payment_Behaviour                        -0.106230                 0.018440   \n",
              "Monthly_Balance                          -0.004748                 0.002295   \n",
              "\n",
              "                          Payment_Behaviour  Monthly_Balance  \n",
              "Age                               -0.030798        -0.002635  \n",
              "Annual_Income                     -0.265724        -0.004711  \n",
              "Monthly_Inhand_Salary             -0.266155        -0.004176  \n",
              "Num_Bank_Accounts                  0.080292         0.005845  \n",
              "Num_Credit_Card                    0.063975         0.004964  \n",
              "Interest_Rate                      0.090950         0.004477  \n",
              "Num_of_Loan                        0.077168         0.001958  \n",
              "Delay_from_due_date                0.077015         0.004988  \n",
              "Num_of_Delayed_Payment             0.084444         0.007799  \n",
              "Num_Credit_Inquiries               0.086762        -0.002554  \n",
              "Credit_Mix                        -0.029618        -0.004519  \n",
              "Outstanding_Debt                   0.083036         0.001235  \n",
              "Credit_Utilization_Ratio          -0.106230        -0.004748  \n",
              "Amount_invested_monthly            0.018440         0.002295  \n",
              "Payment_Behaviour                  1.000000        -0.003225  \n",
              "Monthly_Balance                   -0.003225         1.000000  "
            ]
          },
          "execution_count": 7,
          "metadata": {},
          "output_type": "execute_result"
        }
      ],
      "source": [
        "#from sklearn.preprocessing import LabelEncoder\n",
        "#ds['Credit_Mix'] = LabelEncoder().fit_transform(ds['Credit_Mix'])\n",
        "#ds['Payment_Behaviour'] = LabelEncoder().fit_transform(ds['Payment_Behaviour'])\n",
        "\n",
        "from sklearn.compose import ColumnTransformer\n",
        "from sklearn.preprocessing import StandardScaler, OneHotEncoder\n",
        "\n",
        "pipeline=ColumnTransformer([('num',StandardScaler(),[0,1,2,3,4,5,6,7,8,9,11,12,13,15]),('cat',OneHotEncoder(),[10,14])])\n",
        "\n",
        "\n",
        "\n",
        "ds.head()\n",
        "#again\n",
        "ds.corr()"
      ]
    },
    {
      "cell_type": "code",
      "execution_count": null,
      "metadata": {},
      "outputs": [],
      "source": [
        "ds.info()"
      ]
    },
    {
      "cell_type": "code",
      "execution_count": 8,
      "metadata": {},
      "outputs": [
        {
          "name": "stdout",
          "output_type": "stream",
          "text": [
            "<class 'pandas.core.frame.DataFrame'>\n",
            "RangeIndex: 100000 entries, 0 to 99999\n",
            "Data columns (total 17 columns):\n",
            " #   Column                    Non-Null Count   Dtype  \n",
            "---  ------                    --------------   -----  \n",
            " 0   Age                       100000 non-null  float64\n",
            " 1   Annual_Income             100000 non-null  float64\n",
            " 2   Monthly_Inhand_Salary     100000 non-null  float64\n",
            " 3   Num_Bank_Accounts         100000 non-null  float64\n",
            " 4   Num_Credit_Card           100000 non-null  float64\n",
            " 5   Interest_Rate             100000 non-null  float64\n",
            " 6   Num_of_Loan               100000 non-null  float64\n",
            " 7   Delay_from_due_date       100000 non-null  float64\n",
            " 8   Num_of_Delayed_Payment    100000 non-null  float64\n",
            " 9   Num_Credit_Inquiries      100000 non-null  float64\n",
            " 10  Credit_Mix                100000 non-null  int32  \n",
            " 11  Outstanding_Debt          100000 non-null  float64\n",
            " 12  Credit_Utilization_Ratio  100000 non-null  float64\n",
            " 13  Amount_invested_monthly   100000 non-null  float64\n",
            " 14  Payment_Behaviour         100000 non-null  int32  \n",
            " 15  Monthly_Balance           100000 non-null  float64\n",
            " 16  Credit_Score              100000 non-null  object \n",
            "dtypes: float64(14), int32(2), object(1)\n",
            "memory usage: 12.2+ MB\n"
          ]
        }
      ],
      "source": [
        "#pre-process\n",
        "\n",
        "#replace missing values with the mode\n",
        "\n",
        "for i in ds.columns[:-1]:\n",
        "    \n",
        "    if i == 'Credit_Mix' or i == 'Payment_Behaviour':\n",
        "        ds[i].fillna(ds[i].mode(), inplace = True)\n",
        "    else:\n",
        "        ds[i].fillna(ds[i].mean(), inplace = True)\n",
        "        \n",
        "ds.isnull().sum() #check how many null values in ds now\n",
        "ds.info() #contains the number of columns, column labels, column data types, memory usage, range index, and the number of cells in each column (non-null values)."
      ]
    },
    {
      "cell_type": "code",
      "execution_count": null,
      "metadata": {
        "colab": {
          "base_uri": "https://localhost:8080/"
        },
        "id": "dAqwf53vnvMV",
        "outputId": "3e24ae69-0428-4643-aadd-536699ea8412"
      },
      "outputs": [],
      "source": [
        "description = ds.describe() #statistical summary\n",
        "ds.info() "
      ]
    },
    {
      "cell_type": "code",
      "execution_count": null,
      "metadata": {
        "colab": {
          "base_uri": "https://localhost:8080/",
          "height": 334
        },
        "id": "10H7sxWSlfvR",
        "outputId": "a5ea7974-303a-4918-fe9a-a5694a810802"
      },
      "outputs": [],
      "source": [
        "print(pd.value_counts(ds['Credit_Score']))\n",
        "_= plt.hist(ds['Credit_Score']) # Assign the result of plt.hist to variable _. This is a common trick to discard unwanted output.\n",
        "plt.show()"
      ]
    },
    {
      "cell_type": "markdown",
      "metadata": {
        "id": "E1AjVst2nvMY"
      },
      "source": [
        "In order to see the popularity of age"
      ]
    },
    {
      "cell_type": "code",
      "execution_count": null,
      "metadata": {
        "colab": {
          "base_uri": "https://localhost:8080/",
          "height": 391
        },
        "id": "Vi1nUXe9nvMY",
        "outputId": "aefa679a-4a27-4d94-88da-e4956e84138d"
      },
      "outputs": [],
      "source": [
        "plt.figure(figsize=(10,6))\n",
        "sns.histplot(ds['Age'], bins=[0,15,30,45,60,75], shrink=.8)\n",
        "plt.xticks(rotation=90);"
      ]
    },
    {
      "cell_type": "markdown",
      "metadata": {
        "id": "PZsG0MCenvMZ"
      },
      "source": [
        "Remove outliers"
      ]
    },
    {
      "cell_type": "markdown",
      "metadata": {
        "id": "5fisEtKcnvMa"
      },
      "source": [
        "Outliers are points that are noticebly different from the others, this is why it is better to remove them.\n",
        "We have decided to visualize them thanks to the boxplot, realized thanks to seaborn."
      ]
    },
    {
      "cell_type": "code",
      "execution_count": 9,
      "metadata": {
        "id": "g_x0Vbp3-Ued"
      },
      "outputs": [],
      "source": [
        "from numpy import percentile"
      ]
    },
    {
      "cell_type": "code",
      "execution_count": 29,
      "metadata": {},
      "outputs": [
        {
          "name": "stdout",
          "output_type": "stream",
          "text": [
            "Percentiles: 25th=25.000, 75th=41.000, IQR=16.000\n",
            "\n",
            "The number of identified outliers for the variable Age is:\n",
            "0\n",
            "Percentiles: 25th=20347.965, 75th=58609.640, IQR=38261.675\n",
            "\n",
            "The number of identified outliers for the variable Annual_Income is:\n",
            "1768\n",
            "Percentiles: 25th=1724.938, 75th=4195.570, IQR=2470.632\n",
            "\n",
            "The number of identified outliers for the variable Monthly_Inhand_Salary is:\n",
            "0\n",
            "Percentiles: 25th=4.000, 75th=7.000, IQR=3.000\n",
            "\n",
            "The number of identified outliers for the variable Num_Bank_Accounts is:\n",
            "0\n",
            "Percentiles: 25th=4.000, 75th=7.000, IQR=3.000\n",
            "\n",
            "The number of identified outliers for the variable Num_Credit_Card is:\n",
            "0\n",
            "Percentiles: 25th=8.000, 75th=19.000, IQR=11.000\n",
            "\n",
            "The number of identified outliers for the variable Interest_Rate is:\n",
            "0\n",
            "Percentiles: 25th=2.000, 75th=5.000, IQR=3.000\n",
            "\n",
            "The number of identified outliers for the variable Num_of_Loan is:\n",
            "0\n",
            "Percentiles: 25th=11.000, 75th=22.000, IQR=11.000\n",
            "\n",
            "The number of identified outliers for the variable Delay_from_due_date is:\n",
            "2505\n",
            "Percentiles: 25th=9.000, 75th=18.000, IQR=9.000\n",
            "\n",
            "The number of identified outliers for the variable Num_of_Delayed_Payment is:\n",
            "0\n",
            "Percentiles: 25th=3.000, 75th=8.000, IQR=5.000\n",
            "\n",
            "The number of identified outliers for the variable Num_Credit_Inquiries is:\n",
            "0\n",
            "Percentiles: 25th=1.000, 75th=2.000, IQR=1.000\n",
            "\n",
            "The number of identified outliers for the variable Credit_Mix is:\n",
            "0\n",
            "Percentiles: 25th=632.460, 75th=1425.181, IQR=792.721\n",
            "\n",
            "The number of identified outliers for the variable Outstanding_Debt is:\n",
            "0\n",
            "Percentiles: 25th=28.537, 75th=36.030, IQR=7.494\n",
            "\n",
            "The number of identified outliers for the variable Credit_Utilization_Ratio is:\n",
            "0\n",
            "Percentiles: 25th=76.154, 75th=324.463, IQR=248.309\n",
            "\n",
            "The number of identified outliers for the variable Amount_invested_monthly is:\n",
            "334\n",
            "Percentiles: 25th=1.000, 75th=5.000, IQR=4.000\n",
            "\n",
            "The number of identified outliers for the variable Payment_Behaviour is:\n",
            "0\n"
          ]
        },
        {
          "data": {
            "image/png": "[encoded data removed]",
            "text/plain": [
              "<Figure size 640x480 with 16 Axes>"
            ]
          },
          "metadata": {},
          "output_type": "display_data"
        }
      ],
      "source": [
        "fig, axs = plt.subplots(4,4)\n",
        "a = 0\n",
        "b = 0 \n",
        "for x in ds.columns:\n",
        "    #a = sns.boxplot(ds[x])\n",
        "    q25, q75 = percentile(ds[x], 25), percentile(ds[x], 75)\n",
        "    iqr = q75 - q25\n",
        "    print('Percentiles: 25th=%.3f, 75th=%.3f, IQR=%.3f' % (q25, q75, iqr))\n",
        "\n",
        "\n",
        "    cut_off = iqr * 1.5\n",
        "    lower, upper = q25 - cut_off, q75 + cut_off\n",
        "\n",
        "    outliers = [j for j in ds[x] if j < lower or j > upper]\n",
        "    print('\\nThe number of identified outliers for the variable', x ,'is:\\n' '%d' % len(outliers))\n",
        "\n",
        "    if len(outliers) != 0:\n",
        "        for i in outliers:\n",
        "            ds[x] = ds[x].replace(i,ds[x].mean())\n",
        "# using the variable axs for multiple Axes\n",
        "    axs[b, a].boxplot(ds[x])\n",
        "    if a == 3:\n",
        "        a = 0\n",
        "        b = b+1\n",
        "    else:\n",
        "        a = a+1\n",
        "    if b == 4:\n",
        "        break\n",
        "\n",
        "        \n",
        "\n"
      ]
    },
    {
      "cell_type": "code",
      "execution_count": null,
      "metadata": {
        "colab": {
          "base_uri": "https://localhost:8080/",
          "height": 351
        },
        "id": "4y2MUHrVnvMa",
        "outputId": "579a8598-380e-4ed2-9723-5c63ada0a93e"
      },
      "outputs": [],
      "source": [
        "sns.boxplot(ds['Age'])"
      ]
    },
    {
      "cell_type": "code",
      "execution_count": 30,
      "metadata": {
        "colab": {
          "base_uri": "https://localhost:8080/",
          "height": 421
        },
        "id": "YVHHck18kitt",
        "outputId": "3c37e8ba-d7c0-4af8-ffe8-d84c069cd2e0"
      },
      "outputs": [
        {
          "name": "stdout",
          "output_type": "stream",
          "text": [
            "Percentiles: 25th=20347.965, 75th=56227.470, IQR=35879.505\n",
            "Identified outliers: 1171\n"
          ]
        },
        {
          "data": {
            "text/plain": [
              "<AxesSubplot:>"
            ]
          },
          "execution_count": 30,
          "metadata": {},
          "output_type": "execute_result"
        },
        {
          "data": {
            "image/png": "[encoded data removed]",
            "text/plain": [
              "<Figure size 640x480 with 1 Axes>"
            ]
          },
          "metadata": {},
          "output_type": "display_data"
        }
      ],
      "source": [
        "\n",
        "\n",
        "q25, q75 = percentile(ds['Annual_Income'], 25), percentile(ds['Annual_Income'], 75)\n",
        "iqr = q75 - q25\n",
        "print('Percentiles: 25th=%.3f, 75th=%.3f, IQR=%.3f' % (q25, q75, iqr))\n",
        "\n",
        "\n",
        "cut_off = iqr * 1.5\n",
        "lower, upper = q25 - cut_off, q75 + cut_off\n",
        "\n",
        "outliers = [x for x in ds['Annual_Income'] if x < lower or x > upper]\n",
        "print('Identified outliers: %d' % len(outliers))\n",
        "\n",
        "\n",
        "sns.boxplot(ds['Annual_Income'])"
      ]
    },
    {
      "cell_type": "code",
      "execution_count": null,
      "metadata": {
        "colab": {
          "base_uri": "https://localhost:8080/",
          "height": 352
        },
        "id": "dWJHUTUeoZwX",
        "outputId": "cdd49e10-d395-4625-bba4-30c33debc531"
      },
      "outputs": [],
      "source": [
        "sns.boxplot(ds['Monthly_Inhand_Salary'], flierprops = dict(markerfacecolor = '0.50', markersize = 5))"
      ]
    },
    {
      "cell_type": "code",
      "execution_count": 24,
      "metadata": {},
      "outputs": [
        {
          "data": {
            "text/plain": [
              "count    100000.000000\n",
              "mean       3381.778097\n",
              "std        1812.631385\n",
              "min         303.645417\n",
              "25%        1724.938333\n",
              "50%        3432.213333\n",
              "75%        4195.570378\n",
              "max        8171.360000\n",
              "Name: Monthly_Inhand_Salary, dtype: float64"
            ]
          },
          "execution_count": 24,
          "metadata": {},
          "output_type": "execute_result"
        }
      ],
      "source": [
        "\n",
        "ds['Monthly_Inhand_Salary'].describe()\n"
      ]
    },
    {
      "cell_type": "code",
      "execution_count": 28,
      "metadata": {
        "colab": {
          "base_uri": "https://localhost:8080/",
          "height": 387
        },
        "id": "QlGzwkjSnvMd",
        "outputId": "23be5345-1036-4517-b4cf-3ff3d82f076a"
      },
      "outputs": [
        {
          "name": "stdout",
          "output_type": "stream",
          "text": [
            "Percentiles: 25th=1724.938, 75th=4195.570, IQR=2470.632\n",
            "Identified outliers: 0\n"
          ]
        },
        {
          "data": {
            "text/plain": [
              "<AxesSubplot:>"
            ]
          },
          "execution_count": 28,
          "metadata": {},
          "output_type": "execute_result"
        },
        {
          "data": {
            "image/png": "[encoded data removed]",
            "text/plain": [
              "<Figure size 640x480 with 1 Axes>"
            ]
          },
          "metadata": {},
          "output_type": "display_data"
        }
      ],
      "source": [
        "q25, q75 = percentile(ds['Monthly_Inhand_Salary'], 25), percentile(ds['Monthly_Inhand_Salary'], 75)\n",
        "iqr = q75 - q25\n",
        "print('Percentiles: 25th=%.3f, 75th=%.3f, IQR=%.3f' % (q25, q75, iqr))\n",
        "\n",
        "\n",
        "cut_off = iqr * 1.5\n",
        "lower, upper = q25 - cut_off, q75 + cut_off\n",
        "\n",
        "outliers = [x for x in ds['Monthly_Inhand_Salary'] if x < lower or x > upper]\n",
        "print('Identified outliers: %d' % len(outliers))\n",
        "\n",
        "for i in outliers:\n",
        "    ds['Monthly_Inhand_Salary'] = ds['Monthly_Inhand_Salary'].replace(i,ds['Monthly_Inhand_Salary'].mean())\n",
        "\n",
        "sns.boxplot(ds['Monthly_Inhand_Salary'])"
      ]
    },
    {
      "cell_type": "code",
      "execution_count": null,
      "metadata": {
        "colab": {
          "base_uri": "https://localhost:8080/",
          "height": 352
        },
        "id": "bsjTpoEinvMe",
        "outputId": "79087c6e-d8a8-4905-9815-5b8b01b76d56"
      },
      "outputs": [],
      "source": [
        "sns.boxplot(ds['Num_Bank_Accounts'], flierprops = dict(markerfacecolor = '0.50', markersize = 5))"
      ]
    },
    {
      "cell_type": "code",
      "execution_count": null,
      "metadata": {
        "colab": {
          "base_uri": "https://localhost:8080/",
          "height": 387
        },
        "id": "Udv2cq_w6lnH",
        "outputId": "25fe6a59-056f-4345-9182-f59957a8bad0"
      },
      "outputs": [],
      "source": [
        "q25, q75 = percentile(ds['Num_Bank_Accounts'], 25), percentile(ds['Num_Bank_Accounts'], 75)\n",
        "iqr = q75 - q25\n",
        "print('Percentiles: 25th=%.3f, 75th=%.3f, IQR=%.3f' % (q25, q75, iqr))\n",
        "\n",
        "\n",
        "cut_off = iqr * 1.5\n",
        "lower, upper = q25 - cut_off, q75 + cut_off\n",
        "\n",
        "outliers = [x for x in ds['Num_Bank_Accounts'] if x < lower or x > upper]\n",
        "print('Identified outliers: %d' % len(outliers))\n",
        "\n",
        "for i in outliers:\n",
        "    ds['Num_Bank_Accounts'] = ds['Num_Bank_Accounts'].replace(i,ds['Num_Bank_Accounts'].mean())\n",
        "\n",
        "\n",
        "sns.boxplot(ds['Num_Bank_Accounts'])"
      ]
    },
    {
      "cell_type": "code",
      "execution_count": null,
      "metadata": {
        "colab": {
          "base_uri": "https://localhost:8080/",
          "height": 352
        },
        "id": "XABIRHwS-oqd",
        "outputId": "4ce2cd17-70a7-4c65-e721-836057888ce0"
      },
      "outputs": [],
      "source": [
        "sns.boxplot(ds['Num_Credit_Card'], flierprops = dict(markerfacecolor = '0.50', markersize = 5)) "
      ]
    },
    {
      "cell_type": "code",
      "execution_count": null,
      "metadata": {
        "colab": {
          "base_uri": "https://localhost:8080/",
          "height": 387
        },
        "id": "arbuf4-envMf",
        "outputId": "ac0205d4-40c4-460b-a853-cc847612ac48"
      },
      "outputs": [],
      "source": [
        "q25, q75 = percentile(ds['Num_Credit_Card'], 25), percentile(ds['Num_Credit_Card'], 75)\n",
        "iqr = q75 - q25\n",
        "print('Percentiles: 25th=%.3f, 75th=%.3f, IQR=%.3f' % (q25, q75, iqr))\n",
        "\n",
        "\n",
        "cut_off = iqr * 1.5\n",
        "lower, upper = q25 - cut_off, q75 + cut_off\n",
        "\n",
        "outliers = [x for x in ds['Num_Credit_Card'] if x < lower or x > upper]\n",
        "print('Identified outliers: %d' % len(outliers))\n",
        "\n",
        "sns.boxplot(ds['Num_Credit_Card'], flierprops = dict(markerfacecolor = '0.50', markersize = 5))"
      ]
    },
    {
      "cell_type": "code",
      "execution_count": null,
      "metadata": {
        "colab": {
          "base_uri": "https://localhost:8080/",
          "height": 352
        },
        "id": "Gg44DcUa-uFe",
        "outputId": "e8504214-7f0a-4dff-bcd3-63a6a4a39c07"
      },
      "outputs": [],
      "source": [
        "sns.boxplot(ds['Interest_Rate'], flierprops = dict(markerfacecolor = '0.50', markersize = 5))"
      ]
    },
    {
      "cell_type": "code",
      "execution_count": null,
      "metadata": {
        "colab": {
          "base_uri": "https://localhost:8080/",
          "height": 387
        },
        "id": "cQl8cxi1nvMf",
        "outputId": "7c280cdd-621a-4c22-cb38-2a9892fccd8a"
      },
      "outputs": [],
      "source": [
        "\n",
        "q25, q75 = percentile(ds['Interest_Rate'], 25), percentile(ds['Interest_Rate'], 75)\n",
        "iqr = q75 - q25\n",
        "print('Percentiles: 25th=%.3f, 75th=%.3f, IQR=%.3f' % (q25, q75, iqr))\n",
        "\n",
        "\n",
        "cut_off = iqr * 1.5\n",
        "lower, upper = q25 - cut_off, q75 + cut_off\n",
        "\n",
        "outliers = [x for x in ds['Interest_Rate'] if x < lower or x > upper]\n",
        "print('Identified outliers: %d' % len(outliers))\n",
        "\n",
        "sns.boxplot(ds['Interest_Rate'], flierprops = dict(markerfacecolor = '0.50', markersize = 5))"
      ]
    },
    {
      "cell_type": "code",
      "execution_count": null,
      "metadata": {
        "colab": {
          "base_uri": "https://localhost:8080/",
          "height": 352
        },
        "id": "Tk0KtSuI-xob",
        "outputId": "dd1e790d-8a14-4d34-eca0-909ff64983c6"
      },
      "outputs": [],
      "source": [
        "sns.boxplot(ds['Num_of_Loan'], flierprops = dict(markerfacecolor = '0.50', markersize = 5))"
      ]
    },
    {
      "cell_type": "code",
      "execution_count": null,
      "metadata": {
        "colab": {
          "base_uri": "https://localhost:8080/",
          "height": 387
        },
        "id": "ZIli0aqanvMf",
        "outputId": "a6e40898-d4ab-457c-9080-410672465c70"
      },
      "outputs": [],
      "source": [
        "\n",
        "q25, q75 = percentile(ds['Num_of_Loan'], 25), percentile(ds['Num_of_Loan'], 75)\n",
        "iqr = q75 - q25\n",
        "print('Percentiles: 25th=%.3f, 75th=%.3f, IQR=%.3f' % (q25, q75, iqr))\n",
        "\n",
        "\n",
        "cut_off = iqr * 1.5\n",
        "lower, upper = q25 - cut_off, q75 + cut_off\n",
        "\n",
        "outliers = [x for x in ds['Num_of_Loan'] if x < lower or x > upper]\n",
        "print('Identified outliers: %d' % len(outliers))\n",
        "\n",
        "sns.boxplot(ds['Num_of_Loan'], flierprops = dict(markerfacecolor = '0.50', markersize = 5))"
      ]
    },
    {
      "cell_type": "code",
      "execution_count": null,
      "metadata": {
        "colab": {
          "base_uri": "https://localhost:8080/",
          "height": 352
        },
        "id": "xC5eY4Jf-zHG",
        "outputId": "eed68319-44ca-4827-986f-2f27fc5e369f"
      },
      "outputs": [],
      "source": [
        "sns.boxplot(ds['Delay_from_due_date'], flierprops = dict(markerfacecolor = '0.50', markersize = 5))"
      ]
    },
    {
      "cell_type": "code",
      "execution_count": null,
      "metadata": {
        "colab": {
          "base_uri": "https://localhost:8080/",
          "height": 387
        },
        "id": "PlMBUtKanvMg",
        "outputId": "e4460225-90da-44c6-8420-8dccdccbd6d3"
      },
      "outputs": [],
      "source": [
        "q25, q75 = percentile(ds['Delay_from_due_date'], 25), percentile(ds['Delay_from_due_date'], 75)\n",
        "iqr = q75 - q25\n",
        "print('Percentiles: 25th=%.3f, 75th=%.3f, IQR=%.3f' % (q25, q75, iqr))\n",
        "\n",
        "\n",
        "cut_off = iqr * 1.5\n",
        "lower, upper = q25 - cut_off, q75 + cut_off\n",
        "\n",
        "outliers = [x for x in ds['Delay_from_due_date'] if x < lower or x > upper]\n",
        "print('Identified outliers: %d' % len(outliers))\n",
        "\n",
        "for i in outliers:\n",
        "    ds['Delay_from_due_date'] = ds['Delay_from_due_date'].replace(i,ds['Delay_from_due_date'].mean())\n",
        "\n",
        "\n",
        "sns.boxplot(ds['Delay_from_due_date'], flierprops = dict(markerfacecolor = '0.50', markersize = 5))"
      ]
    },
    {
      "cell_type": "code",
      "execution_count": null,
      "metadata": {
        "colab": {
          "base_uri": "https://localhost:8080/",
          "height": 352
        },
        "id": "ditjyaiV_zrm",
        "outputId": "a663dfa3-af1e-4034-c91b-cef93fefca7c"
      },
      "outputs": [],
      "source": [
        "sns.boxplot(ds['Num_of_Delayed_Payment'], flierprops = dict(markerfacecolor = '0.50', markersize = 5))"
      ]
    },
    {
      "cell_type": "code",
      "execution_count": null,
      "metadata": {
        "colab": {
          "base_uri": "https://localhost:8080/",
          "height": 387
        },
        "id": "9A4lyKM1nvMg",
        "outputId": "3819980b-1409-4606-94bd-18839ac09256"
      },
      "outputs": [],
      "source": [
        "\n",
        "q25, q75 = percentile(ds['Num_of_Delayed_Payment'], 25), percentile(ds['Num_of_Delayed_Payment'], 75)\n",
        "iqr = q75 - q25\n",
        "print('Percentiles: 25th=%.3f, 75th=%.3f, IQR=%.3f' % (q25, q75, iqr))\n",
        "\n",
        "\n",
        "cut_off = iqr * 1.5\n",
        "lower, upper = q25 - cut_off, q75 + cut_off\n",
        "\n",
        "outliers = [x for x in ds['Num_of_Delayed_Payment'] if x < lower or x > upper]\n",
        "print('Identified outliers: %d' % len(outliers))\n",
        "\n",
        "sns.boxplot(ds['Num_of_Delayed_Payment'], flierprops = dict(markerfacecolor = '0.50', markersize = 5))\n"
      ]
    },
    {
      "cell_type": "code",
      "execution_count": null,
      "metadata": {
        "colab": {
          "base_uri": "https://localhost:8080/",
          "height": 352
        },
        "id": "TAVyXJ2K-14-",
        "outputId": "a5bbf224-9f11-46b4-ed51-91e202685d51"
      },
      "outputs": [],
      "source": [
        "sns.boxplot(ds['Num_Credit_Inquiries'], flierprops = dict(markerfacecolor = '0.50', markersize = 5))"
      ]
    },
    {
      "cell_type": "code",
      "execution_count": null,
      "metadata": {
        "colab": {
          "base_uri": "https://localhost:8080/",
          "height": 387
        },
        "id": "hLOvQ3qVnvMh",
        "outputId": "d62a8173-061e-476d-bb6e-2e2d57b110f6"
      },
      "outputs": [],
      "source": [
        "\n",
        "q25, q75 = percentile(ds['Num_Credit_Inquiries'], 25), percentile(ds['Num_Credit_Inquiries'], 75)\n",
        "iqr = q75 - q25\n",
        "print('Percentiles: 25th=%.3f, 75th=%.3f, IQR=%.3f' % (q25, q75, iqr))\n",
        "\n",
        "\n",
        "cut_off = iqr * 1.5\n",
        "lower, upper = q25 - cut_off, q75 + cut_off\n",
        "\n",
        "outliers = [x for x in ds['Num_Credit_Inquiries'] if x < lower or x > upper]\n",
        "print('Identified outliers: %d' % len(outliers))\n",
        "\n",
        "\n",
        "for i in outliers:\n",
        "    ds['Num_Credit_Inquiries'] = ds['Num_Credit_Inquiries'].replace(i,ds['Num_Credit_Inquiries'].mean())\n",
        "\n",
        "sns.boxplot(ds['Num_Credit_Inquiries'], flierprops = dict(markerfacecolor = '0.50', markersize = 5))"
      ]
    },
    {
      "cell_type": "code",
      "execution_count": null,
      "metadata": {
        "colab": {
          "base_uri": "https://localhost:8080/",
          "height": 352
        },
        "id": "Lt3vWWUXAAkl",
        "outputId": "356c3d8d-f7e5-4b81-81ea-a59f3bdc0a03"
      },
      "outputs": [],
      "source": [
        "sns.boxplot(ds['Credit_Mix'], flierprops = dict(markerfacecolor = '0.50', markersize = 5))"
      ]
    },
    {
      "cell_type": "code",
      "execution_count": null,
      "metadata": {
        "colab": {
          "base_uri": "https://localhost:8080/",
          "height": 387
        },
        "id": "nNMAUl2gnvMh",
        "outputId": "f39a32e9-a667-4b0c-e76f-63acc877d91f"
      },
      "outputs": [],
      "source": [
        "\n",
        "q25, q75 = percentile(ds['Num_Credit_Card'], 25), percentile(ds['Num_Credit_Card'], 75)\n",
        "iqr = q75 - q25\n",
        "print('Percentiles: 25th=%.3f, 75th=%.3f, IQR=%.3f' % (q25, q75, iqr))\n",
        "\n",
        "\n",
        "cut_off = iqr * 1.5\n",
        "lower, upper = q25 - cut_off, q75 + cut_off\n",
        "\n",
        "outliers = [x for x in ds['Num_Credit_Card'] if x < lower or x > upper]\n",
        "print('Identified outliers: %d' % len(outliers))\n",
        "\n",
        "sns.boxplot(ds['Credit_Mix'], flierprops = dict(markerfacecolor = '0.50', markersize = 5))"
      ]
    },
    {
      "cell_type": "code",
      "execution_count": null,
      "metadata": {
        "colab": {
          "base_uri": "https://localhost:8080/",
          "height": 352
        },
        "id": "NygRMpy-_EWO",
        "outputId": "7703c9d0-9a22-4e40-831a-1c94e8248e35"
      },
      "outputs": [],
      "source": [
        "sns.boxplot(ds['Outstanding_Debt'], flierprops = dict(markerfacecolor = '0.50', markersize = 5))"
      ]
    },
    {
      "cell_type": "code",
      "execution_count": null,
      "metadata": {
        "colab": {
          "base_uri": "https://localhost:8080/",
          "height": 387
        },
        "id": "MLRcbml2nvMi",
        "outputId": "436ab681-daa9-4d56-bff3-d2b1a781010c"
      },
      "outputs": [],
      "source": [
        "q25, q75 = percentile(ds['Outstanding_Debt'], 25), percentile(ds['Outstanding_Debt'], 75)\n",
        "iqr = q75 - q25\n",
        "print('Percentiles: 25th=%.3f, 75th=%.3f, IQR=%.3f' % (q25, q75, iqr))\n",
        "\n",
        "\n",
        "cut_off = iqr * 1.5\n",
        "lower, upper = q25 - cut_off, q75 + cut_off\n",
        "\n",
        "outliers = [x for x in ds['Outstanding_Debt'] if x < lower or x > upper]\n",
        "print('Identified outliers: %d' % len(outliers))\n",
        "\n",
        "for i in outliers:\n",
        "    ds['Outstanding_Debt'] = ds['Outstanding_Debt'].replace(i,ds['Outstanding_Debt'].mean())\n",
        "\n",
        "sns.boxplot(ds['Outstanding_Debt'])"
      ]
    },
    {
      "cell_type": "code",
      "execution_count": null,
      "metadata": {
        "colab": {
          "base_uri": "https://localhost:8080/",
          "height": 352
        },
        "id": "RLeMRdsP_HET",
        "outputId": "0253fecd-edbf-4765-a87b-852c8ea2204d"
      },
      "outputs": [],
      "source": [
        "sns.boxplot(ds['Credit_Utilization_Ratio'], flierprops = dict(markerfacecolor = '0.50', markersize = 5))"
      ]
    },
    {
      "cell_type": "code",
      "execution_count": null,
      "metadata": {
        "colab": {
          "base_uri": "https://localhost:8080/",
          "height": 387
        },
        "id": "pW8u9TRUnvMj",
        "outputId": "67b7a5c1-c258-4ed7-96a1-e7bdf73d8d88"
      },
      "outputs": [],
      "source": [
        "\n",
        "\n",
        "q25, q75 = percentile(ds['Credit_Utilization_Ratio'], 25), percentile(ds['Credit_Utilization_Ratio'], 75)\n",
        "iqr = q75 - q25\n",
        "print('Percentiles: 25th=%.3f, 75th=%.3f, IQR=%.3f' % (q25, q75, iqr))\n",
        "\n",
        "\n",
        "cut_off = iqr * 1.5\n",
        "lower, upper = q25 - cut_off, q75 + cut_off\n",
        "\n",
        "outliers = [x for x in ds['Credit_Utilization_Ratio'] if x < lower or x > upper]\n",
        "print('Identified outliers: %d' % len(outliers))\n",
        "\n",
        "sns.boxplot(ds['Credit_Utilization_Ratio'])\n"
      ]
    },
    {
      "cell_type": "code",
      "execution_count": null,
      "metadata": {
        "colab": {
          "base_uri": "https://localhost:8080/",
          "height": 352
        },
        "id": "Md_8gVwM_KW7",
        "outputId": "4a0a2b76-758f-44c8-e732-16aa2ec871bd"
      },
      "outputs": [],
      "source": [
        "sns.boxplot(ds['Amount_invested_monthly'], flierprops = dict(markerfacecolor = '0.50', markersize = 5))"
      ]
    },
    {
      "cell_type": "code",
      "execution_count": null,
      "metadata": {
        "colab": {
          "base_uri": "https://localhost:8080/",
          "height": 387
        },
        "id": "aFhdvBZdnvMk",
        "outputId": "e20e280d-24d8-4847-c935-210bb749f0c4"
      },
      "outputs": [],
      "source": [
        "\n",
        "q25, q75 = percentile(ds['Amount_invested_monthly'], 25), percentile(ds['Amount_invested_monthly'], 75)\n",
        "iqr = q75 - q25\n",
        "print('Percentiles: 25th=%.3f, 75th=%.3f, IQR=%.3f' % (q25, q75, iqr))\n",
        "\n",
        "\n",
        "cut_off = iqr * 1.5\n",
        "lower, upper = q25 - cut_off, q75 + cut_off\n",
        "\n",
        "outliers = [x for x in ds['Amount_invested_monthly'] if x < lower or x > upper]\n",
        "print('Identified outliers: %d' % len(outliers))\n",
        "\n",
        "\n",
        "for i in outliers:\n",
        "    ds['Amount_invested_monthly'] = ds['Amount_invested_monthly'].replace(i,ds['Amount_invested_monthly'].mean())\n",
        "\n",
        "sns.boxplot(ds['Amount_invested_monthly'], flierprops = dict(markerfacecolor = '0.50', markersize = 5))\n"
      ]
    },
    {
      "cell_type": "code",
      "execution_count": null,
      "metadata": {
        "colab": {
          "base_uri": "https://localhost:8080/",
          "height": 352
        },
        "id": "jI4ggzfi_NcF",
        "outputId": "63a0127f-4a5a-46a5-fe43-0c5e81e2f413"
      },
      "outputs": [],
      "source": [
        "sns.boxplot(ds['Payment_Behaviour'], flierprops = dict(markerfacecolor = '0.50', markersize = 5))\n"
      ]
    },
    {
      "cell_type": "code",
      "execution_count": null,
      "metadata": {
        "colab": {
          "base_uri": "https://localhost:8080/",
          "height": 387
        },
        "id": "66Xz4oBUnvMk",
        "outputId": "fb6d6caa-f123-4840-d45f-f765a637954f"
      },
      "outputs": [],
      "source": [
        "\n",
        "q25, q75 = percentile(ds['Payment_Behaviour'], 25), percentile(ds['Payment_Behaviour'], 75)\n",
        "iqr = q75 - q25\n",
        "print('Percentiles: 25th=%.3f, 75th=%.3f, IQR=%.3f' % (q25, q75, iqr))\n",
        "\n",
        "\n",
        "cut_off = iqr * 1.5\n",
        "lower, upper = q25 - cut_off, q75 + cut_off\n",
        "\n",
        "outliers = [x for x in ds['Payment_Behaviour'] if x < lower or x > upper]\n",
        "print('Identified outliers: %d' % len(outliers))\n",
        "\n",
        "sns.boxplot(ds['Payment_Behaviour'], flierprops = dict(markerfacecolor = '0.50', markersize = 5))\n"
      ]
    },
    {
      "cell_type": "markdown",
      "metadata": {
        "id": "PY710DxqnvMl"
      },
      "source": [
        "After having looked at our dataset and having cleaned it, we can now start collecting data into array of dependent (what we want to predict) and independent variables  "
      ]
    },
    {
      "cell_type": "code",
      "execution_count": null,
      "metadata": {
        "id": "1fclQYy1nvMm"
      },
      "outputs": [],
      "source": [
        "#collect data into arrays\n",
        "X = ds.iloc[:, :-1].values      #independent variable\n",
        "y = ds.iloc[:, -1].values       #dependent variable"
      ]
    },
    {
      "cell_type": "code",
      "execution_count": null,
      "metadata": {
        "id": "JnoPoMiBnvMm"
      },
      "outputs": [],
      "source": [
        "from sklearn.model_selection import train_test_split\n",
        "X_train, X_test, y_train, y_test = train_test_split(X, y, test_size = 0.25, random_state = 0)"
      ]
    },
    {
      "cell_type": "code",
      "execution_count": null,
      "metadata": {
        "id": "DeBDo_alnvMm"
      },
      "outputs": [],
      "source": [
        "#encode data. This step is really important, we have already transformed the categorical data into integers. REMEMBER, NEVER TRAIN ON THE TEST SET!!\n",
        "\n",
        "X_train = pipeline.fit_transform(X_train)\n",
        "X_test = pipeline.transform(X_test)"
      ]
    },
    {
      "cell_type": "markdown",
      "metadata": {
        "id": "gG7hZCbTnvMn"
      },
      "source": [
        "We can now decide three models that can help us solving this problem. "
      ]
    },
    {
      "cell_type": "code",
      "execution_count": null,
      "metadata": {
        "id": "AgLdWpvAnvMn"
      },
      "outputs": [],
      "source": [
        "from sklearn.svm import SVC \n",
        "from sklearn import neighbors\n",
        "from xgboost import XGBClassifier\n",
        "from sklearn.model_selection import GridSearchCV\n",
        "from sklearn.metrics import classification_report\n",
        "from sklearn.neural_network import MLPClassifier\n",
        "from sklearn.metrics import ConfusionMatrixDisplay, accuracy_score, recall_score"
      ]
    },
    {
      "cell_type": "code",
      "execution_count": null,
      "metadata": {},
      "outputs": [],
      "source": [
        "param_grid = {'kernel':('linear', 'rbf', 'poly', 'sigmoid'), 'C':[0.1,1, 10], 'max_iter':[1000]}\n",
        "classifier = SVC()\n",
        "\n",
        "clf_svc = GridSearchCV(classifier, param_grid)\n",
        "\n",
        "clf_svc.fit(X_train,y_train)\n",
        "print(clf_svc.best_params_)\n",
        "y_pred_svc = clf_svc.predict(X_test)\n",
        "print(classification_report(y_test, y_pred_svc))\n",
        "\n",
        "\n",
        "_ = ConfusionMatrixDisplay.from_predictions(y_test, y_pred_svc)"
      ]
    },
    {
      "cell_type": "code",
      "execution_count": null,
      "metadata": {},
      "outputs": [],
      "source": [
        "#size = 10\n",
        "param_grid = {'max_depth':[7, 11, 13],\n",
        "              #'lambda': np.random.uniform(1e-3,10,size).tolist(),\n",
        "              #'alpha': np.random.uniform(1e-3,10,size).tolist(),\n",
        "              #'colsample_bytree': np.random.uniform(0.3,1,size).tolist(),\n",
        "              'learning_rate':[0.1, 0.001], #loguniform distribution\n",
        "              #'min_child_weight':np.random.randint(1,300,size).tolist()\n",
        "              }\n",
        "cls = XGBClassifier()\n",
        "clf = GridSearchCV(cls, param_grid)\n",
        "#print(clf.best_params_)\n",
        "\n",
        "clf_xgb = clf.fit(X_train,y_train)\n",
        "\n",
        "print(clf_xgb.best_params_)\n",
        "y_pred_xgb = clf_xgb.predict(X_test)\n",
        "print(classification_report(y_test, y_pred_xgb))\n",
        "\n",
        "\n",
        "_ = ConfusionMatrixDisplay.from_predictions(y_test, y_pred_xgb)"
      ]
    },
    {
      "cell_type": "code",
      "execution_count": null,
      "metadata": {},
      "outputs": [],
      "source": [
        "#k_range = list(range(5, 10))\n",
        "\n",
        "param_grid = {'n_neighbors':[8, 10, 14], 'metric' : ['manhattan', 'l2', 'l1', 'euclidean', 'cosine']}\n",
        "knn = neighbors.KNeighborsClassifier()\n",
        "# defining parameter range\n",
        "grid = GridSearchCV(knn, param_grid, cv=10, scoring='accuracy', return_train_score=False, verbose=1)\n",
        "\n",
        "# fitting the model for grid search\n",
        "\n",
        "grid_search=grid.fit(X_train, y_train)\n",
        "print(grid_search.best_params_)\n",
        "y_pred_knn = grid_search.best_estimator_.predict(X_test)\n",
        "print(classification_report(y_test, y_pred_knn))\n",
        "\n",
        "_ = ConfusionMatrixDisplay.from_predictions(y_test, y_pred_knn)"
      ]
    },
    {
      "cell_type": "code",
      "execution_count": null,
      "metadata": {},
      "outputs": [],
      "source": [
        "cls_mlp = MLPClassifier( \n",
        "    hidden_layer_sizes=(5,5,3)    \n",
        "    )\n",
        "\n",
        "param_grid_mlp = {'activation':['identity', 'logistic', 'tanh', 'relu'], 'learning_rate_init':(0.001, 0.005, 0.01)}\n",
        "\n",
        "classifier = GridSearchCV(cls_mlp, param_grid_mlp)\n",
        "clf_mlp = classifier.fit(X_train,y_train)\n",
        "print(clf_mlp.best_params_)\n",
        "y_pred_mlp = clf_mlp.best_estimator_.predict(X_test)\n",
        "print(classification_report(y_test, y_pred_mlp))\n",
        "_ = ConfusionMatrixDisplay.from_predictions(y_test, y_pred_mlp)"
      ]
    }
  ],
  "metadata": {
    "colab": {
      "provenance": []
    },
    "kernelspec": {
      "display_name": "Python 3.9.12 ('base')",
      "language": "python",
      "name": "python3"
    },
    "language_info": {
      "codemirror_mode": {
        "name": "ipython",
        "version": 3
      },
      "file_extension": ".py",
      "mimetype": "text/x-python",
      "name": "python",
      "nbconvert_exporter": "python",
      "pygments_lexer": "ipython3",
      "version": "3.9.12"
    },
    "vscode": {
      "interpreter": {
        "hash": "7c39e21a772e99c1a7e3fb7ef3402580462d255e64df51b314942f2f47217269"
      }
    }
  },
  "nbformat": 4,
  "nbformat_minor": 0
}
