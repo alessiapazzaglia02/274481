{
  "cells": [
    {
      "cell_type": "code",
      "execution_count": 1,
      "metadata": {
        "id": "LYLUYyD-0Mdw"
      },
      "outputs": [],
      "source": [
        "import pandas as pd\n",
        "import numpy as np\n",
        "import seaborn as sns\n",
        "import matplotlib.pyplot as plt"
      ]
    },
    {
      "cell_type": "code",
      "execution_count": 2,
      "metadata": {},
      "outputs": [],
      "source": [
        "ds = pd.read_csv(\"./credit_prediction.csv\") #open and read the file using pandas"
      ]
    },
    {
      "cell_type": "code",
      "execution_count": 10,
      "metadata": {},
      "outputs": [
        {
          "name": "stdout",
          "output_type": "stream",
          "text": [
            "<class 'pandas.core.frame.DataFrame'>\n",
            "RangeIndex: 100000 entries, 0 to 99999\n",
            "Data columns (total 18 columns):\n",
            " #   Column                    Non-Null Count   Dtype  \n",
            "---  ------                    --------------   -----  \n",
            " 0   id                        100000 non-null  int64  \n",
            " 1   Age                       100000 non-null  float64\n",
            " 2   Annual_Income             100000 non-null  float64\n",
            " 3   Monthly_Inhand_Salary     100000 non-null  float64\n",
            " 4   Num_Bank_Accounts         100000 non-null  float64\n",
            " 5   Num_Credit_Card           100000 non-null  float64\n",
            " 6   Interest_Rate             100000 non-null  float64\n",
            " 7   Num_of_Loan               100000 non-null  float64\n",
            " 8   Delay_from_due_date       100000 non-null  float64\n",
            " 9   Num_of_Delayed_Payment    100000 non-null  float64\n",
            " 10  Num_Credit_Inquiries      100000 non-null  float64\n",
            " 11  Credit_Mix                100000 non-null  int64  \n",
            " 12  Outstanding_Debt          100000 non-null  float64\n",
            " 13  Credit_Utilization_Ratio  100000 non-null  float64\n",
            " 14  Amount_invested_monthly   100000 non-null  float64\n",
            " 15  Payment_Behaviour         100000 non-null  int64  \n",
            " 16  Monthly_Balance           100000 non-null  float64\n",
            " 17  Credit_Score              100000 non-null  object \n",
            "dtypes: float64(14), int64(3), object(1)\n",
            "memory usage: 13.7+ MB\n",
            "Standard    53174\n",
            "Poor        28998\n",
            "Good        17828\n",
            "Name: Credit_Score, dtype: int64\n"
          ]
        },
        {
          "data": {
            "image/png": "[encoded data removed]",
            "text/plain": [
              "<Figure size 640x480 with 1 Axes>"
            ]
          },
          "metadata": {},
          "output_type": "display_data"
        }
      ],
      "source": [
        "ds.head(10) #show the first 10 elements\n",
        "correlation = ds.corr() #to see correlations, but all categorical ones will be ignored, so change them\n",
        "\n",
        "from sklearn.preprocessing import LabelEncoder\n",
        "ds['Credit_Mix'] = LabelEncoder().fit_transform(ds['Credit_Mix'])\n",
        "ds['Payment_Behaviour'] = LabelEncoder().fit_transform(ds['Payment_Behaviour'])\n",
        "\n",
        "ds.head(10)\n",
        "#again\n",
        "ds.corr()\n",
        "description = ds.describe() #statistical summary\n",
        "ds.info() \n",
        "\n",
        "print(pd.value_counts(ds['Credit_Score']))\n",
        "_ = plt.hist(ds['Credit_Score']) # Assign the result of plt.hist to variable _. This is a common trick to discard unwanted output.\n",
        "plt.show()"
      ]
    },
    {
      "cell_type": "code",
      "execution_count": 6,
      "metadata": {},
      "outputs": [],
      "source": [
        "#pre-process\n",
        "#we can eliminate a priori some columns, as we can consider them as not relevant \n",
        "ds = ds.drop(columns=['Occupation', 'Type_of_Loan', 'Credit_History_Age', 'Changed_Credit_Limit', 'Payment_of_Min_Amount'])\n",
        "#impute missing values\n",
        "ds = ds.replace(np.nan,00)\n",
        "ds.info()"
      ]
    },
    {
      "cell_type": "code",
      "execution_count": 19,
      "metadata": {},
      "outputs": [
        {
          "name": "stdout",
          "output_type": "stream",
          "text": [
            "[ 1.00000000e+00  2.30000000e+01  0.00000000e+00  1.82484333e+03\n",
            "  3.00000000e+00  4.00000000e+00  3.00000000e+00  4.00000000e+00\n",
            " -1.00000000e+00  4.00000000e+00  4.00000000e+00  1.00000000e+00\n",
            "  8.09980000e+02  0.00000000e+00  1.18280222e+02  3.00000000e+00\n",
            "  2.84629162e+02]\n"
          ]
        }
      ],
      "source": [
        "#collect data into arrays\n",
        "X = ds.iloc[:, :-1].values      \n",
        "y = ds.iloc[:, -1].values"
      ]
    },
    {
      "cell_type": "markdown",
      "metadata": {},
      "source": [
        "Remove outliers"
      ]
    },
    {
      "cell_type": "code",
      "execution_count": 27,
      "metadata": {},
      "outputs": [
        {
          "ename": "TypeError",
          "evalue": "object of type 'numpy.float64' has no len()",
          "output_type": "error",
          "traceback": [
            "\u001b[1;31m---------------------------------------------------------------------------\u001b[0m",
            "\u001b[1;31mTypeError\u001b[0m                                 Traceback (most recent call last)",
            "\u001b[1;32mc:\\Users\\alber\\Documents\\GitHub\\274481\\main.ipynb Cella 7\u001b[0m in \u001b[0;36m<cell line: 1>\u001b[1;34m()\u001b[0m\n\u001b[0;32m      <a href='vscode-notebook-cell:/c%3A/Users/alber/Documents/GitHub/274481/main.ipynb#W6sZmlsZQ%3D%3D?line=0'>1</a>\u001b[0m \u001b[39mfor\u001b[39;00m i \u001b[39min\u001b[39;00m \u001b[39mrange\u001b[39m(\u001b[39mlen\u001b[39m(X)):\n\u001b[1;32m----> <a href='vscode-notebook-cell:/c%3A/Users/alber/Documents/GitHub/274481/main.ipynb#W6sZmlsZQ%3D%3D?line=1'>2</a>\u001b[0m     box \u001b[39m=\u001b[39m plt\u001b[39m.\u001b[39;49mboxplot(X[i][\u001b[39m0\u001b[39;49m])\n",
            "File \u001b[1;32mc:\\Users\\alber\\anaconda3\\lib\\site-packages\\matplotlib\\pyplot.py:2440\u001b[0m, in \u001b[0;36mboxplot\u001b[1;34m(x, notch, sym, vert, whis, positions, widths, patch_artist, bootstrap, usermedians, conf_intervals, meanline, showmeans, showcaps, showbox, showfliers, boxprops, labels, flierprops, medianprops, meanprops, capprops, whiskerprops, manage_ticks, autorange, zorder, data)\u001b[0m\n\u001b[0;32m   2430\u001b[0m \u001b[39m@_copy_docstring_and_deprecators\u001b[39m(Axes\u001b[39m.\u001b[39mboxplot)\n\u001b[0;32m   2431\u001b[0m \u001b[39mdef\u001b[39;00m \u001b[39mboxplot\u001b[39m(\n\u001b[0;32m   2432\u001b[0m         x, notch\u001b[39m=\u001b[39m\u001b[39mNone\u001b[39;00m, sym\u001b[39m=\u001b[39m\u001b[39mNone\u001b[39;00m, vert\u001b[39m=\u001b[39m\u001b[39mNone\u001b[39;00m, whis\u001b[39m=\u001b[39m\u001b[39mNone\u001b[39;00m,\n\u001b[1;32m   (...)\u001b[0m\n\u001b[0;32m   2438\u001b[0m         whiskerprops\u001b[39m=\u001b[39m\u001b[39mNone\u001b[39;00m, manage_ticks\u001b[39m=\u001b[39m\u001b[39mTrue\u001b[39;00m, autorange\u001b[39m=\u001b[39m\u001b[39mFalse\u001b[39;00m,\n\u001b[0;32m   2439\u001b[0m         zorder\u001b[39m=\u001b[39m\u001b[39mNone\u001b[39;00m, \u001b[39m*\u001b[39m, data\u001b[39m=\u001b[39m\u001b[39mNone\u001b[39;00m):\n\u001b[1;32m-> 2440\u001b[0m     \u001b[39mreturn\u001b[39;00m gca()\u001b[39m.\u001b[39mboxplot(\n\u001b[0;32m   2441\u001b[0m         x, notch\u001b[39m=\u001b[39mnotch, sym\u001b[39m=\u001b[39msym, vert\u001b[39m=\u001b[39mvert, whis\u001b[39m=\u001b[39mwhis,\n\u001b[0;32m   2442\u001b[0m         positions\u001b[39m=\u001b[39mpositions, widths\u001b[39m=\u001b[39mwidths, patch_artist\u001b[39m=\u001b[39mpatch_artist,\n\u001b[0;32m   2443\u001b[0m         bootstrap\u001b[39m=\u001b[39mbootstrap, usermedians\u001b[39m=\u001b[39musermedians,\n\u001b[0;32m   2444\u001b[0m         conf_intervals\u001b[39m=\u001b[39mconf_intervals, meanline\u001b[39m=\u001b[39mmeanline,\n\u001b[0;32m   2445\u001b[0m         showmeans\u001b[39m=\u001b[39mshowmeans, showcaps\u001b[39m=\u001b[39mshowcaps, showbox\u001b[39m=\u001b[39mshowbox,\n\u001b[0;32m   2446\u001b[0m         showfliers\u001b[39m=\u001b[39mshowfliers, boxprops\u001b[39m=\u001b[39mboxprops, labels\u001b[39m=\u001b[39mlabels,\n\u001b[0;32m   2447\u001b[0m         flierprops\u001b[39m=\u001b[39mflierprops, medianprops\u001b[39m=\u001b[39mmedianprops,\n\u001b[0;32m   2448\u001b[0m         meanprops\u001b[39m=\u001b[39mmeanprops, capprops\u001b[39m=\u001b[39mcapprops,\n\u001b[0;32m   2449\u001b[0m         whiskerprops\u001b[39m=\u001b[39mwhiskerprops, manage_ticks\u001b[39m=\u001b[39mmanage_ticks,\n\u001b[0;32m   2450\u001b[0m         autorange\u001b[39m=\u001b[39mautorange, zorder\u001b[39m=\u001b[39mzorder,\n\u001b[0;32m   2451\u001b[0m         \u001b[39m*\u001b[39m\u001b[39m*\u001b[39m({\u001b[39m\"\u001b[39m\u001b[39mdata\u001b[39m\u001b[39m\"\u001b[39m: data} \u001b[39mif\u001b[39;00m data \u001b[39mis\u001b[39;00m \u001b[39mnot\u001b[39;00m \u001b[39mNone\u001b[39;00m \u001b[39melse\u001b[39;00m {}))\n",
            "File \u001b[1;32mc:\\Users\\alber\\anaconda3\\lib\\site-packages\\matplotlib\\__init__.py:1412\u001b[0m, in \u001b[0;36m_preprocess_data.<locals>.inner\u001b[1;34m(ax, data, *args, **kwargs)\u001b[0m\n\u001b[0;32m   1409\u001b[0m \u001b[39m@functools\u001b[39m\u001b[39m.\u001b[39mwraps(func)\n\u001b[0;32m   1410\u001b[0m \u001b[39mdef\u001b[39;00m \u001b[39minner\u001b[39m(ax, \u001b[39m*\u001b[39margs, data\u001b[39m=\u001b[39m\u001b[39mNone\u001b[39;00m, \u001b[39m*\u001b[39m\u001b[39m*\u001b[39mkwargs):\n\u001b[0;32m   1411\u001b[0m     \u001b[39mif\u001b[39;00m data \u001b[39mis\u001b[39;00m \u001b[39mNone\u001b[39;00m:\n\u001b[1;32m-> 1412\u001b[0m         \u001b[39mreturn\u001b[39;00m func(ax, \u001b[39m*\u001b[39m\u001b[39mmap\u001b[39m(sanitize_sequence, args), \u001b[39m*\u001b[39m\u001b[39m*\u001b[39mkwargs)\n\u001b[0;32m   1414\u001b[0m     bound \u001b[39m=\u001b[39m new_sig\u001b[39m.\u001b[39mbind(ax, \u001b[39m*\u001b[39margs, \u001b[39m*\u001b[39m\u001b[39m*\u001b[39mkwargs)\n\u001b[0;32m   1415\u001b[0m     auto_label \u001b[39m=\u001b[39m (bound\u001b[39m.\u001b[39marguments\u001b[39m.\u001b[39mget(label_namer)\n\u001b[0;32m   1416\u001b[0m                   \u001b[39mor\u001b[39;00m bound\u001b[39m.\u001b[39mkwargs\u001b[39m.\u001b[39mget(label_namer))\n",
            "File \u001b[1;32mc:\\Users\\alber\\anaconda3\\lib\\site-packages\\matplotlib\\axes\\_axes.py:3704\u001b[0m, in \u001b[0;36mAxes.boxplot\u001b[1;34m(self, x, notch, sym, vert, whis, positions, widths, patch_artist, bootstrap, usermedians, conf_intervals, meanline, showmeans, showcaps, showbox, showfliers, boxprops, labels, flierprops, medianprops, meanprops, capprops, whiskerprops, manage_ticks, autorange, zorder)\u001b[0m\n\u001b[0;32m   3701\u001b[0m \u001b[39mif\u001b[39;00m bootstrap \u001b[39mis\u001b[39;00m \u001b[39mNone\u001b[39;00m:\n\u001b[0;32m   3702\u001b[0m     bootstrap \u001b[39m=\u001b[39m rcParams[\u001b[39m'\u001b[39m\u001b[39mboxplot.bootstrap\u001b[39m\u001b[39m'\u001b[39m]\n\u001b[1;32m-> 3704\u001b[0m bxpstats \u001b[39m=\u001b[39m cbook\u001b[39m.\u001b[39;49mboxplot_stats(x, whis\u001b[39m=\u001b[39;49mwhis, bootstrap\u001b[39m=\u001b[39;49mbootstrap,\n\u001b[0;32m   3705\u001b[0m                                labels\u001b[39m=\u001b[39;49mlabels, autorange\u001b[39m=\u001b[39;49mautorange)\n\u001b[0;32m   3706\u001b[0m \u001b[39mif\u001b[39;00m notch \u001b[39mis\u001b[39;00m \u001b[39mNone\u001b[39;00m:\n\u001b[0;32m   3707\u001b[0m     notch \u001b[39m=\u001b[39m rcParams[\u001b[39m'\u001b[39m\u001b[39mboxplot.notch\u001b[39m\u001b[39m'\u001b[39m]\n",
            "File \u001b[1;32mc:\\Users\\alber\\anaconda3\\lib\\site-packages\\matplotlib\\cbook\\__init__.py:1155\u001b[0m, in \u001b[0;36mboxplot_stats\u001b[1;34m(X, whis, bootstrap, labels, autorange)\u001b[0m\n\u001b[0;32m   1152\u001b[0m bxpstats \u001b[39m=\u001b[39m []\n\u001b[0;32m   1154\u001b[0m \u001b[39m# convert X to a list of lists\u001b[39;00m\n\u001b[1;32m-> 1155\u001b[0m X \u001b[39m=\u001b[39m _reshape_2D(X, \u001b[39m\"\u001b[39;49m\u001b[39mX\u001b[39;49m\u001b[39m\"\u001b[39;49m)\n\u001b[0;32m   1157\u001b[0m ncols \u001b[39m=\u001b[39m \u001b[39mlen\u001b[39m(X)\n\u001b[0;32m   1158\u001b[0m \u001b[39mif\u001b[39;00m labels \u001b[39mis\u001b[39;00m \u001b[39mNone\u001b[39;00m:\n",
            "File \u001b[1;32mc:\\Users\\alber\\anaconda3\\lib\\site-packages\\matplotlib\\cbook\\__init__.py:1342\u001b[0m, in \u001b[0;36m_reshape_2D\u001b[1;34m(X, name)\u001b[0m\n\u001b[0;32m   1339\u001b[0m         \u001b[39mraise\u001b[39;00m \u001b[39mValueError\u001b[39;00m(\u001b[39mf\u001b[39m\u001b[39m'\u001b[39m\u001b[39m{\u001b[39;00mname\u001b[39m}\u001b[39;00m\u001b[39m must have 2 or fewer dimensions\u001b[39m\u001b[39m'\u001b[39m)\n\u001b[0;32m   1341\u001b[0m \u001b[39m# Iterate over list of iterables.\u001b[39;00m\n\u001b[1;32m-> 1342\u001b[0m \u001b[39mif\u001b[39;00m \u001b[39mlen\u001b[39;49m(X) \u001b[39m==\u001b[39m \u001b[39m0\u001b[39m:\n\u001b[0;32m   1343\u001b[0m     \u001b[39mreturn\u001b[39;00m [[]]\n\u001b[0;32m   1345\u001b[0m result \u001b[39m=\u001b[39m []\n",
            "\u001b[1;31mTypeError\u001b[0m: object of type 'numpy.float64' has no len()"
          ]
        },
        {
          "data": {
            "image/png": "[encoded data removed]",
            "text/plain": [
              "<Figure size 640x480 with 1 Axes>"
            ]
          },
          "metadata": {},
          "output_type": "display_data"
        }
      ],
      "source": []
    },
    {
      "cell_type": "markdown",
      "metadata": {},
      "source": [
        "start the splitting"
      ]
    },
    {
      "cell_type": "code",
      "execution_count": null,
      "metadata": {},
      "outputs": [],
      "source": [
        "from sklearn.model_selection import train_test_split\n",
        "X_train, X_test, y_train, y_test = train_test_split(X, y, test_size = 0.25, random_state = 0)"
      ]
    },
    {
      "cell_type": "code",
      "execution_count": null,
      "metadata": {},
      "outputs": [],
      "source": [
        "#encode data. This step is really important, we have already transformed the categorical data into integers. REMEMBER, NEVER TRAIN ON THE TEST SET!!\n",
        "from sklearn.preprocessing import StandardScaler\n",
        "sc = StandardScaler()\n",
        "X_train = sc.fit_transform(X_train)\n",
        "X_test = sc.transform(X_test)"
      ]
    },
    {
      "cell_type": "code",
      "execution_count": null,
      "metadata": {},
      "outputs": [],
      "source": [
        "#validation from the training\n",
        "from sklearn.svm import SVC\n",
        "#from sklearn.tree import DecisionTreeClassifier\n",
        "from sklearn import neighbors\n",
        "from xgboost import XGBClassifier\n",
        "from sklearn.model_selection import GridSearchCV\n",
        "from sklearn.metrics import classification_report\n",
        "model = \"b\"\n",
        "\n",
        "if model == \"SVC\":\n",
        "    #classifier = SVC(kernel = 'linear', random_state = 0)\n",
        "    param_grid = {'kernel':('linear', 'rbf', 'poly', 'sigmoid'), 'C':[0.1,1, 10, 100]}\n",
        "    classifier = SVC()\n",
        "    clf = GridSearchCV(classifier, param_grid)\n",
        "    clf.fit(X_train,y_train)\n",
        "elif model==\"C\":\n",
        "    classifier = XGBClassifier(use_label_encoder=False) #using XGboost as more efficient \n",
        "else :\n",
        "    k_range = list(range(5, 7))\n",
        "    param_grid = dict(n_neighbors=k_range)\n",
        "    knn = neighbors.KNeighborsClassifier()\n",
        "    # defining parameter range\n",
        "    grid = GridSearchCV(knn, param_grid, cv=10, scoring='accuracy', return_train_score=False,verbose=1)\n",
        "  \n",
        "    # fitting the model for grid search\n",
        "    grid_search=grid.fit(X_train, y_train)"
      ]
    },
    {
      "cell_type": "code",
      "execution_count": null,
      "metadata": {},
      "outputs": [],
      "source": [
        "y_pred = grid.predict(X_test)\n",
        "print(classification_report(y_test, y_pred))\n",
        "from sklearn.model_selection import cross_val_score\n",
        "scores = cross_val_score(classifier, X_train, y_train, cv=10)\n",
        "print(scores)\n",
        "\n",
        "\n",
        "\n",
        "\n",
        "param_grid = {'kernel':('linear', 'rbf', 'poly', 'sigmoid'), 'C':[0.1,1, 10, 100]}\n",
        "classifier = SVC()\n",
        "clf = GridSearchCV(classifier, param_grid)\n",
        "clf.fit(X_train,y_train)\n",
        "y_pred = clf.best_estimator_.predict(X_test) # this contains the best trained classifier\n",
        "print(classification_report(y_test, y_pred))"
      ]
    }
  ],
  "metadata": {
    "colab": {
      "provenance": []
    },
    "kernelspec": {
      "display_name": "Python 3.9.12 ('base')",
      "language": "python",
      "name": "python3"
    },
    "language_info": {
      "codemirror_mode": {
        "name": "ipython",
        "version": 3
      },
      "file_extension": ".py",
      "mimetype": "text/x-python",
      "name": "python",
      "nbconvert_exporter": "python",
      "pygments_lexer": "ipython3",
      "version": "3.9.12"
    },
    "vscode": {
      "interpreter": {
        "hash": "7c39e21a772e99c1a7e3fb7ef3402580462d255e64df51b314942f2f47217269"
      }
    }
  },
  "nbformat": 4,
  "nbformat_minor": 0
}
